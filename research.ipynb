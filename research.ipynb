{
 "cells": [
  {
   "cell_type": "code",
   "execution_count": 1,
   "outputs": [],
   "source": [
    "import pandas as pd"
   ],
   "metadata": {
    "collapsed": false,
    "pycharm": {
     "name": "#%%\n"
    }
   }
  },
  {
   "cell_type": "code",
   "execution_count": 23,
   "outputs": [],
   "source": [
    "data = pd.read_csv('./without_nulls (1).csv', sep=',')"
   ],
   "metadata": {
    "collapsed": false,
    "pycharm": {
     "name": "#%%\n"
    }
   }
  },
  {
   "cell_type": "code",
   "execution_count": 3,
   "outputs": [
    {
     "data": {
      "text/plain": "  Country code      Economy  DB year   DB score  Agricultural land (sq. km)  \\\n0          AFG  Afghanistan     2020  44.493061                    383130.0   \n1          AFG  Afghanistan     2019  44.463157                    380100.0   \n2          AFG  Afghanistan     2018  37.390342                    380100.0   \n3          AFG  Afghanistan     2017  39.237020                    379100.0   \n4          AFG  Afghanistan     2016  39.556583                    379100.0   \n\n   Agricultural land (% of land area)  Arable land (hectares)  \\\n0                           58.741548               7829000.0   \n1                           58.276988               7788000.0   \n2                           58.276988               7794000.0   \n3                           58.123668               7699000.0   \n4                           58.123668               7729000.0   \n\n   Arable land (hectares per person)  Arable land (% of land area)  \\\n0                           0.200887                     12.003434   \n1                           0.206198                     11.940573   \n2                           0.212447                     11.949772   \n3                           0.216001                     11.804118   \n4                           0.223148                     11.850114   \n\n   Forest area (sq. km)  ...  \\\n0               12084.4  ...   \n1               12084.4  ...   \n2               12084.4  ...   \n3               12084.4  ...   \n4               12084.4  ...   \n\n   Merchandise imports by the reporting economy (current US$)  \\\n0                                       6.537616e+09            \n1                                       6.776116e+09            \n2                                       7.406558e+09            \n3                                       1.350807e+10            \n4                                       1.255370e+10            \n\n   Merchandise exports to high-income economies (% of total merchandise exports)  \\\n0                                           6.707951                               \n1                                           6.540635                               \n2                                           4.154670                               \n3                                           4.171367                               \n4                                           4.280423                               \n\n   Merchandise exports by the reporting economy, residual (% of total merchandise exports)  \\\n0                                           0.000000                                         \n1                                           0.000063                                         \n2                                           0.000000                                         \n3                                           0.000000                                         \n4                                           0.000000                                         \n\n   Merchandise exports by the reporting economy (current US$)  \\\n0                                        776722236.0            \n1                                        863833322.0            \n2                                        875181037.0            \n3                                        403941915.0            \n4                                        502088950.0            \n\n   Voice and Accountability: Estimate  \\\n0                           -1.077736   \n1                           -1.006747   \n2                           -1.011600   \n3                           -0.990814   \n4                           -1.037788   \n\n   Voice and Accountability: Number of Sources  \\\n0                                          9.0   \n1                                         10.0   \n2                                         10.0   \n3                                         10.0   \n4                                         10.0   \n\n   Voice and Accountability: Percentile Rank  \\\n0                                  19.806763   \n1                                  21.256039   \n2                                  20.289856   \n3                                  22.167488   \n4                                  20.689655   \n\n   Voice and Accountability: Percentile Rank, Lower Bound of 90% Confidence Interval  \\\n0                                          13.526570                                   \n1                                          15.458938                                   \n2                                          13.526570                                   \n3                                          14.285714                                   \n4                                          13.300492                                   \n\n   Voice and Accountability: Percentile Rank, Upper Bound of 90% Confidence Interval  \\\n0                                          23.671497                                   \n1                                          24.637682                                   \n2                                          25.120773                                   \n3                                          24.630543                                   \n4                                          23.645321                                   \n\n   Voice and Accountability: Standard Error  \n0                                  0.131839  \n1                                  0.127229  \n2                                  0.133869  \n3                                  0.130805  \n4                                  0.129876  \n\n[5 rows x 177 columns]",
      "text/html": "<div>\n<style scoped>\n    .dataframe tbody tr th:only-of-type {\n        vertical-align: middle;\n    }\n\n    .dataframe tbody tr th {\n        vertical-align: top;\n    }\n\n    .dataframe thead th {\n        text-align: right;\n    }\n</style>\n<table border=\"1\" class=\"dataframe\">\n  <thead>\n    <tr style=\"text-align: right;\">\n      <th></th>\n      <th>Country code</th>\n      <th>Economy</th>\n      <th>DB year</th>\n      <th>DB score</th>\n      <th>Agricultural land (sq. km)</th>\n      <th>Agricultural land (% of land area)</th>\n      <th>Arable land (hectares)</th>\n      <th>Arable land (hectares per person)</th>\n      <th>Arable land (% of land area)</th>\n      <th>Forest area (sq. km)</th>\n      <th>...</th>\n      <th>Merchandise imports by the reporting economy (current US$)</th>\n      <th>Merchandise exports to high-income economies (% of total merchandise exports)</th>\n      <th>Merchandise exports by the reporting economy, residual (% of total merchandise exports)</th>\n      <th>Merchandise exports by the reporting economy (current US$)</th>\n      <th>Voice and Accountability: Estimate</th>\n      <th>Voice and Accountability: Number of Sources</th>\n      <th>Voice and Accountability: Percentile Rank</th>\n      <th>Voice and Accountability: Percentile Rank, Lower Bound of 90% Confidence Interval</th>\n      <th>Voice and Accountability: Percentile Rank, Upper Bound of 90% Confidence Interval</th>\n      <th>Voice and Accountability: Standard Error</th>\n    </tr>\n  </thead>\n  <tbody>\n    <tr>\n      <th>0</th>\n      <td>AFG</td>\n      <td>Afghanistan</td>\n      <td>2020</td>\n      <td>44.493061</td>\n      <td>383130.0</td>\n      <td>58.741548</td>\n      <td>7829000.0</td>\n      <td>0.200887</td>\n      <td>12.003434</td>\n      <td>12084.4</td>\n      <td>...</td>\n      <td>6.537616e+09</td>\n      <td>6.707951</td>\n      <td>0.000000</td>\n      <td>776722236.0</td>\n      <td>-1.077736</td>\n      <td>9.0</td>\n      <td>19.806763</td>\n      <td>13.526570</td>\n      <td>23.671497</td>\n      <td>0.131839</td>\n    </tr>\n    <tr>\n      <th>1</th>\n      <td>AFG</td>\n      <td>Afghanistan</td>\n      <td>2019</td>\n      <td>44.463157</td>\n      <td>380100.0</td>\n      <td>58.276988</td>\n      <td>7788000.0</td>\n      <td>0.206198</td>\n      <td>11.940573</td>\n      <td>12084.4</td>\n      <td>...</td>\n      <td>6.776116e+09</td>\n      <td>6.540635</td>\n      <td>0.000063</td>\n      <td>863833322.0</td>\n      <td>-1.006747</td>\n      <td>10.0</td>\n      <td>21.256039</td>\n      <td>15.458938</td>\n      <td>24.637682</td>\n      <td>0.127229</td>\n    </tr>\n    <tr>\n      <th>2</th>\n      <td>AFG</td>\n      <td>Afghanistan</td>\n      <td>2018</td>\n      <td>37.390342</td>\n      <td>380100.0</td>\n      <td>58.276988</td>\n      <td>7794000.0</td>\n      <td>0.212447</td>\n      <td>11.949772</td>\n      <td>12084.4</td>\n      <td>...</td>\n      <td>7.406558e+09</td>\n      <td>4.154670</td>\n      <td>0.000000</td>\n      <td>875181037.0</td>\n      <td>-1.011600</td>\n      <td>10.0</td>\n      <td>20.289856</td>\n      <td>13.526570</td>\n      <td>25.120773</td>\n      <td>0.133869</td>\n    </tr>\n    <tr>\n      <th>3</th>\n      <td>AFG</td>\n      <td>Afghanistan</td>\n      <td>2017</td>\n      <td>39.237020</td>\n      <td>379100.0</td>\n      <td>58.123668</td>\n      <td>7699000.0</td>\n      <td>0.216001</td>\n      <td>11.804118</td>\n      <td>12084.4</td>\n      <td>...</td>\n      <td>1.350807e+10</td>\n      <td>4.171367</td>\n      <td>0.000000</td>\n      <td>403941915.0</td>\n      <td>-0.990814</td>\n      <td>10.0</td>\n      <td>22.167488</td>\n      <td>14.285714</td>\n      <td>24.630543</td>\n      <td>0.130805</td>\n    </tr>\n    <tr>\n      <th>4</th>\n      <td>AFG</td>\n      <td>Afghanistan</td>\n      <td>2016</td>\n      <td>39.556583</td>\n      <td>379100.0</td>\n      <td>58.123668</td>\n      <td>7729000.0</td>\n      <td>0.223148</td>\n      <td>11.850114</td>\n      <td>12084.4</td>\n      <td>...</td>\n      <td>1.255370e+10</td>\n      <td>4.280423</td>\n      <td>0.000000</td>\n      <td>502088950.0</td>\n      <td>-1.037788</td>\n      <td>10.0</td>\n      <td>20.689655</td>\n      <td>13.300492</td>\n      <td>23.645321</td>\n      <td>0.129876</td>\n    </tr>\n  </tbody>\n</table>\n<p>5 rows × 177 columns</p>\n</div>"
     },
     "execution_count": 3,
     "metadata": {},
     "output_type": "execute_result"
    }
   ],
   "source": [
    "data.head(5)"
   ],
   "metadata": {
    "collapsed": false,
    "pycharm": {
     "name": "#%%\n"
    }
   }
  },
  {
   "cell_type": "code",
   "execution_count": 5,
   "outputs": [
    {
     "name": "stdout",
     "output_type": "stream",
     "text": [
      "[2020, 2019, 2018, 2017, 2016, 2015, 2014, 2013, 2012, 2011, 2010]\n"
     ]
    }
   ],
   "source": [
    "print(list(pd.unique(data['DB year'])))"
   ],
   "metadata": {
    "collapsed": false,
    "pycharm": {
     "name": "#%%\n"
    }
   }
  },
  {
   "cell_type": "code",
   "execution_count": 6,
   "outputs": [],
   "source": [
    "years = list(pd.unique(data['DB year']))"
   ],
   "metadata": {
    "collapsed": false,
    "pycharm": {
     "name": "#%%\n"
    }
   }
  },
  {
   "cell_type": "code",
   "execution_count": 7,
   "outputs": [],
   "source": [
    "dfs = dict()"
   ],
   "metadata": {
    "collapsed": false,
    "pycharm": {
     "name": "#%%\n"
    }
   }
  },
  {
   "cell_type": "code",
   "execution_count": 8,
   "outputs": [],
   "source": [
    "for year in years:\n",
    "    dfs[year] = data[data['DB year'] == year]"
   ],
   "metadata": {
    "collapsed": false,
    "pycharm": {
     "name": "#%%\n"
    }
   }
  },
  {
   "cell_type": "code",
   "execution_count": 10,
   "outputs": [
    {
     "name": "stdout",
     "output_type": "stream",
     "text": [
      "11\n"
     ]
    }
   ],
   "source": [
    "print(len(dfs))"
   ],
   "metadata": {
    "collapsed": false,
    "pycharm": {
     "name": "#%%\n"
    }
   }
  },
  {
   "cell_type": "code",
   "execution_count": 24,
   "outputs": [],
   "source": [
    "data = data.drop(['Country code', 'Economy', 'DB year'], axis=1)"
   ],
   "metadata": {
    "collapsed": false,
    "pycharm": {
     "name": "#%%\n"
    }
   }
  },
  {
   "cell_type": "code",
   "execution_count": 25,
   "outputs": [],
   "source": [
    "import numpy as np\n",
    "from sklearn.model_selection import train_test_split"
   ],
   "metadata": {
    "collapsed": false,
    "pycharm": {
     "name": "#%%\n"
    }
   }
  },
  {
   "cell_type": "code",
   "execution_count": 26,
   "outputs": [],
   "source": [
    "y = data['DB score']\n",
    "X = data.drop(['DB score'], axis=1)"
   ],
   "metadata": {
    "collapsed": false,
    "pycharm": {
     "name": "#%%\n"
    }
   }
  },
  {
   "cell_type": "code",
   "execution_count": 27,
   "outputs": [],
   "source": [
    "X_train, X_test, y_train, y_test = train_test_split(X, y, test_size=0.2, random_state=42)"
   ],
   "metadata": {
    "collapsed": false,
    "pycharm": {
     "name": "#%%\n"
    }
   }
  },
  {
   "cell_type": "code",
   "execution_count": 15,
   "outputs": [],
   "source": [
    "# for key, value in dfs.items():\n",
    "#     dfs[key] = dfs[key].drop(['Country code', 'DB year'], axis=1)"
   ],
   "metadata": {
    "collapsed": false,
    "pycharm": {
     "name": "#%%\n"
    }
   }
  },
  {
   "cell_type": "code",
   "execution_count": 17,
   "outputs": [],
   "source": [
    "# for key, value in dfs.items():\n",
    "#     dfs[key] = (dfs[key]['DB score'], dfs[key].drop(['DB score'], axis=1))"
   ],
   "metadata": {
    "collapsed": false,
    "pycharm": {
     "name": "#%%\n"
    }
   }
  },
  {
   "cell_type": "code",
   "execution_count": 20,
   "outputs": [
    {
     "name": "stdout",
     "output_type": "stream",
     "text": [
      "2020 0     44.493061\n",
      "11    67.368898\n",
      "Name: DB score, dtype: float64         Economy  Agricultural land (sq. km)  \\\n",
      "0   Afghanistan                   383130.00   \n",
      "11      Albania                    11655.55   \n",
      "\n",
      "    Agricultural land (% of land area)  Arable land (hectares)  \\\n",
      "0                            58.741548               7829000.0   \n",
      "11                           42.538504                599600.0   \n",
      "\n",
      "    Arable land (hectares per person)  Arable land (% of land area)  \\\n",
      "0                            0.200887                     12.003434   \n",
      "11                           0.211287                     21.883212   \n",
      "\n",
      "    Forest area (sq. km)  Forest area (% of land area)  Land area (sq. km)  \\\n",
      "0                12084.4                      1.852782            652230.0   \n",
      "11                7889.0                     28.791971             27400.0   \n",
      "\n",
      "    Surface area (sq. km)  ...  \\\n",
      "0                652860.0  ...   \n",
      "11                28750.0  ...   \n",
      "\n",
      "    Merchandise imports by the reporting economy (current US$)  \\\n",
      "0                                        6.537616e+09            \n",
      "11                                       6.022685e+09            \n",
      "\n",
      "    Merchandise exports to high-income economies (% of total merchandise exports)  \\\n",
      "0                                            6.707951                               \n",
      "11                                          76.482001                               \n",
      "\n",
      "    Merchandise exports by the reporting economy, residual (% of total merchandise exports)  \\\n",
      "0                                            0.000000                                         \n",
      "11                                           0.000367                                         \n",
      "\n",
      "    Merchandise exports by the reporting economy (current US$)  \\\n",
      "0                                        7.767222e+08            \n",
      "11                                       2.716278e+09            \n",
      "\n",
      "    Voice and Accountability: Estimate  \\\n",
      "0                            -1.077736   \n",
      "11                            0.088362   \n",
      "\n",
      "    Voice and Accountability: Number of Sources  \\\n",
      "0                                           9.0   \n",
      "11                                         10.0   \n",
      "\n",
      "    Voice and Accountability: Percentile Rank  \\\n",
      "0                                   19.806763   \n",
      "11                                  51.207729   \n",
      "\n",
      "    Voice and Accountability: Percentile Rank, Lower Bound of 90% Confidence Interval  \\\n",
      "0                                           13.526570                                   \n",
      "11                                          40.579712                                   \n",
      "\n",
      "    Voice and Accountability: Percentile Rank, Upper Bound of 90% Confidence Interval  \\\n",
      "0                                           23.671497                                   \n",
      "11                                          56.521740                                   \n",
      "\n",
      "    Voice and Accountability: Standard Error  \n",
      "0                                   0.131839  \n",
      "11                                  0.125341  \n",
      "\n",
      "[2 rows x 174 columns]\n",
      "2019 1     44.463157\n",
      "12    66.617919\n",
      "Name: DB score, dtype: float64         Economy  Agricultural land (sq. km)  \\\n",
      "1   Afghanistan                    380100.0   \n",
      "12      Albania                     11740.0   \n",
      "\n",
      "    Agricultural land (% of land area)  Arable land (hectares)  \\\n",
      "1                            58.276988               7788000.0   \n",
      "12                           42.846715                610000.0   \n",
      "\n",
      "    Arable land (hectares per person)  Arable land (% of land area)  \\\n",
      "1                            0.206198                     11.940573   \n",
      "12                           0.213721                     22.262774   \n",
      "\n",
      "    Forest area (sq. km)  Forest area (% of land area)  Land area (sq. km)  \\\n",
      "1                12084.4                      1.852782            652230.0   \n",
      "12                7889.0                     28.791971             27400.0   \n",
      "\n",
      "    Surface area (sq. km)  ...  \\\n",
      "1                652860.0  ...   \n",
      "12                28750.0  ...   \n",
      "\n",
      "    Merchandise imports by the reporting economy (current US$)  \\\n",
      "1                                        6.776116e+09            \n",
      "12                                       6.483079e+09            \n",
      "\n",
      "    Merchandise exports to high-income economies (% of total merchandise exports)  \\\n",
      "1                                            6.540635                               \n",
      "12                                          78.099770                               \n",
      "\n",
      "    Merchandise exports by the reporting economy, residual (% of total merchandise exports)  \\\n",
      "1                                            0.000063                                         \n",
      "12                                           0.001020                                         \n",
      "\n",
      "    Merchandise exports by the reporting economy (current US$)  \\\n",
      "1                                        8.638333e+08            \n",
      "12                                       2.985008e+09            \n",
      "\n",
      "    Voice and Accountability: Estimate  \\\n",
      "1                            -1.006747   \n",
      "12                            0.142711   \n",
      "\n",
      "    Voice and Accountability: Number of Sources  \\\n",
      "1                                          10.0   \n",
      "12                                         11.0   \n",
      "\n",
      "    Voice and Accountability: Percentile Rank  \\\n",
      "1                                   21.256039   \n",
      "12                                  52.173912   \n",
      "\n",
      "    Voice and Accountability: Percentile Rank, Lower Bound of 90% Confidence Interval  \\\n",
      "1                                           15.458938                                   \n",
      "12                                          42.995171                                   \n",
      "\n",
      "    Voice and Accountability: Percentile Rank, Upper Bound of 90% Confidence Interval  \\\n",
      "1                                           24.637682                                   \n",
      "12                                          57.487923                                   \n",
      "\n",
      "    Voice and Accountability: Standard Error  \n",
      "1                                   0.127229  \n",
      "12                                  0.121821  \n",
      "\n",
      "[2 rows x 174 columns]\n",
      "2018 2     37.390342\n",
      "13    66.478601\n",
      "Name: DB score, dtype: float64         Economy  Agricultural land (sq. km)  \\\n",
      "2   Afghanistan                   380100.00   \n",
      "13      Albania                    11740.81   \n",
      "\n",
      "    Agricultural land (% of land area)  Arable land (hectares)  \\\n",
      "2                            58.276988               7794000.0   \n",
      "13                           42.849672                611346.0   \n",
      "\n",
      "    Arable land (hectares per person)  Arable land (% of land area)  \\\n",
      "2                            0.212447                     11.949772   \n",
      "13                           0.213282                     22.311898   \n",
      "\n",
      "    Forest area (sq. km)  Forest area (% of land area)  Land area (sq. km)  \\\n",
      "2                12084.4                      1.852782            652230.0   \n",
      "13                7889.0                     28.791971             27400.0   \n",
      "\n",
      "    Surface area (sq. km)  ...  \\\n",
      "2                652860.0  ...   \n",
      "13                28750.0  ...   \n",
      "\n",
      "    Merchandise imports by the reporting economy (current US$)  \\\n",
      "2                                        7.406558e+09            \n",
      "13                                       6.406220e+09            \n",
      "\n",
      "    Merchandise exports to high-income economies (% of total merchandise exports)  \\\n",
      "2                                            4.154670                               \n",
      "13                                          79.158813                               \n",
      "\n",
      "    Merchandise exports by the reporting economy, residual (% of total merchandise exports)  \\\n",
      "2                                            0.000000                                         \n",
      "13                                           0.008354                                         \n",
      "\n",
      "    Merchandise exports by the reporting economy (current US$)  \\\n",
      "2                                        8.751810e+08            \n",
      "13                                       3.099404e+09            \n",
      "\n",
      "    Voice and Accountability: Estimate  \\\n",
      "2                            -1.011600   \n",
      "13                            0.180729   \n",
      "\n",
      "    Voice and Accountability: Number of Sources  \\\n",
      "2                                          10.0   \n",
      "13                                         12.0   \n",
      "\n",
      "    Voice and Accountability: Percentile Rank  \\\n",
      "2                                   20.289856   \n",
      "13                                  52.657005   \n",
      "\n",
      "    Voice and Accountability: Percentile Rank, Lower Bound of 90% Confidence Interval  \\\n",
      "2                                           13.526570                                   \n",
      "13                                          44.444443                                   \n",
      "\n",
      "    Voice and Accountability: Percentile Rank, Upper Bound of 90% Confidence Interval  \\\n",
      "2                                           25.120773                                   \n",
      "13                                          58.937199                                   \n",
      "\n",
      "    Voice and Accountability: Standard Error  \n",
      "2                                   0.133869  \n",
      "13                                  0.127143  \n",
      "\n",
      "[2 rows x 174 columns]\n",
      "2017 3     39.237020\n",
      "14    63.987013\n",
      "Name: DB score, dtype: float64         Economy  Agricultural land (sq. km)  \\\n",
      "3   Afghanistan                   379100.00   \n",
      "14      Albania                    11742.81   \n",
      "\n",
      "    Agricultural land (% of land area)  Arable land (hectares)  \\\n",
      "3                            58.123668               7699000.0   \n",
      "14                           42.856971                612000.0   \n",
      "\n",
      "    Arable land (hectares per person)  Arable land (% of land area)  \\\n",
      "3                            0.216001                     11.804118   \n",
      "14                           0.212984                     22.335766   \n",
      "\n",
      "    Forest area (sq. km)  Forest area (% of land area)  Land area (sq. km)  \\\n",
      "3              12084.400                      1.852782            652230.0   \n",
      "14              7889.025                     28.792062             27400.0   \n",
      "\n",
      "    Surface area (sq. km)  ...  \\\n",
      "3                652860.0  ...   \n",
      "14                28750.0  ...   \n",
      "\n",
      "    Merchandise imports by the reporting economy (current US$)  \\\n",
      "3                                        1.350807e+10            \n",
      "14                                       5.670493e+09            \n",
      "\n",
      "    Merchandise exports to high-income economies (% of total merchandise exports)  \\\n",
      "3                                            4.171367                               \n",
      "14                                          78.805251                               \n",
      "\n",
      "    Merchandise exports by the reporting economy, residual (% of total merchandise exports)  \\\n",
      "3                                            0.000000                                         \n",
      "14                                           0.100336                                         \n",
      "\n",
      "    Merchandise exports by the reporting economy (current US$)  \\\n",
      "3                                        4.039419e+08            \n",
      "14                                       2.463202e+09            \n",
      "\n",
      "    Voice and Accountability: Estimate  \\\n",
      "3                            -0.990814   \n",
      "14                            0.203806   \n",
      "\n",
      "    Voice and Accountability: Number of Sources  \\\n",
      "3                                          10.0   \n",
      "14                                         12.0   \n",
      "\n",
      "    Voice and Accountability: Percentile Rank  \\\n",
      "3                                   22.167488   \n",
      "14                                  54.187191   \n",
      "\n",
      "    Voice and Accountability: Percentile Rank, Lower Bound of 90% Confidence Interval  \\\n",
      "3                                           14.285714                                   \n",
      "14                                          46.305420                                   \n",
      "\n",
      "    Voice and Accountability: Percentile Rank, Upper Bound of 90% Confidence Interval  \\\n",
      "3                                           24.630543                                   \n",
      "14                                          59.113300                                   \n",
      "\n",
      "    Voice and Accountability: Standard Error  \n",
      "3                                   0.130805  \n",
      "14                                  0.124306  \n",
      "\n",
      "[2 rows x 174 columns]\n",
      "2016 4     39.556583\n",
      "15    57.901681\n",
      "Name: DB score, dtype: float64         Economy  Agricultural land (sq. km)  \\\n",
      "4   Afghanistan                    379100.0   \n",
      "15      Albania                     11817.0   \n",
      "\n",
      "    Agricultural land (% of land area)  Arable land (hectares)  \\\n",
      "4                            58.123668               7729000.0   \n",
      "15                           43.127737                620300.0   \n",
      "\n",
      "    Arable land (hectares per person)  Arable land (% of land area)  \\\n",
      "4                            0.223148                     11.850114   \n",
      "15                           0.215674                     22.638686   \n",
      "\n",
      "    Forest area (sq. km)  Forest area (% of land area)  Land area (sq. km)  \\\n",
      "4                12084.4                      1.852782            652230.0   \n",
      "15                7891.8                     28.802190             27400.0   \n",
      "\n",
      "    Surface area (sq. km)  ...  \\\n",
      "4                652860.0  ...   \n",
      "15                28750.0  ...   \n",
      "\n",
      "    Merchandise imports by the reporting economy (current US$)  \\\n",
      "4                                        1.255370e+10            \n",
      "15                                       4.666089e+09            \n",
      "\n",
      "    Merchandise exports to high-income economies (% of total merchandise exports)  \\\n",
      "4                                            4.280423                               \n",
      "15                                          79.459562                               \n",
      "\n",
      "    Merchandise exports by the reporting economy, residual (% of total merchandise exports)  \\\n",
      "4                                            0.000000                                         \n",
      "15                                           0.261441                                         \n",
      "\n",
      "    Merchandise exports by the reporting economy (current US$)  \\\n",
      "4                                        5.020890e+08            \n",
      "15                                       1.961477e+09            \n",
      "\n",
      "    Voice and Accountability: Estimate  \\\n",
      "4                            -1.037788   \n",
      "15                            0.170949   \n",
      "\n",
      "    Voice and Accountability: Number of Sources  \\\n",
      "4                                          10.0   \n",
      "15                                         12.0   \n",
      "\n",
      "    Voice and Accountability: Percentile Rank  \\\n",
      "4                                   20.689655   \n",
      "15                                  52.216747   \n",
      "\n",
      "    Voice and Accountability: Percentile Rank, Lower Bound of 90% Confidence Interval  \\\n",
      "4                                           13.300492                                   \n",
      "15                                          45.320198                                   \n",
      "\n",
      "    Voice and Accountability: Percentile Rank, Upper Bound of 90% Confidence Interval  \\\n",
      "4                                           23.645321                                   \n",
      "15                                          57.635468                                   \n",
      "\n",
      "    Voice and Accountability: Standard Error  \n",
      "4                                   0.129876  \n",
      "15                                  0.122665  \n",
      "\n",
      "[2 rows x 174 columns]\n",
      "2015 5     42.091456\n",
      "16    61.831453\n",
      "Name: DB score, dtype: float64         Economy  Agricultural land (sq. km)  \\\n",
      "5   Afghanistan                    379100.0   \n",
      "16      Albania                     11743.0   \n",
      "\n",
      "    Agricultural land (% of land area)  Arable land (hectares)  \\\n",
      "5                            58.123668               7765000.0   \n",
      "16                           42.857664                615100.0   \n",
      "\n",
      "    Arable land (hectares per person)  Arable land (% of land area)  \\\n",
      "5                            0.230050                     11.905309   \n",
      "16                           0.213524                     22.448905   \n",
      "\n",
      "    Forest area (sq. km)  Forest area (% of land area)  Land area (sq. km)  \\\n",
      "5              12084.400                      1.852782            652230.0   \n",
      "16              7891.875                     28.802464             27400.0   \n",
      "\n",
      "    Surface area (sq. km)  ...  \\\n",
      "5                652860.0  ...   \n",
      "16                28750.0  ...   \n",
      "\n",
      "    Merchandise imports by the reporting economy (current US$)  \\\n",
      "5                                        7.729833e+09            \n",
      "16                                       4.364944e+09            \n",
      "\n",
      "    Merchandise exports to high-income economies (% of total merchandise exports)  \\\n",
      "5                                            7.638432                               \n",
      "16                                          73.661757                               \n",
      "\n",
      "    Merchandise exports by the reporting economy, residual (% of total merchandise exports)  \\\n",
      "5                                            0.000000                                         \n",
      "16                                           0.502061                                         \n",
      "\n",
      "    Merchandise exports by the reporting economy (current US$)  \\\n",
      "5                                        5.714050e+08            \n",
      "16                                       2.015814e+09            \n",
      "\n",
      "    Voice and Accountability: Estimate  \\\n",
      "5                            -1.117557   \n",
      "16                            0.157162   \n",
      "\n",
      "    Voice and Accountability: Number of Sources  \\\n",
      "5                                          10.0   \n",
      "16                                         12.0   \n",
      "\n",
      "    Voice and Accountability: Percentile Rank  \\\n",
      "5                                   18.719212   \n",
      "16                                  52.709358   \n",
      "\n",
      "    Voice and Accountability: Percentile Rank, Lower Bound of 90% Confidence Interval  \\\n",
      "5                                           10.837439                                   \n",
      "16                                          45.812809                                   \n",
      "\n",
      "    Voice and Accountability: Percentile Rank, Upper Bound of 90% Confidence Interval  \\\n",
      "5                                           22.660099                                   \n",
      "16                                          58.620689                                   \n",
      "\n",
      "    Voice and Accountability: Standard Error  \n",
      "5                                   0.134631  \n",
      "16                                  0.127312  \n",
      "\n",
      "[2 rows x 174 columns]\n",
      "2014 6     40.726905\n",
      "17    56.748108\n",
      "Name: DB score, dtype: float64         Economy  Agricultural land (sq. km)  \\\n",
      "6   Afghanistan                    379100.0   \n",
      "17      Albania                     11742.9   \n",
      "\n",
      "    Agricultural land (% of land area)  Arable land (hectares)  \\\n",
      "6                            58.123668               7771000.0   \n",
      "17                           42.857299                615600.0   \n",
      "\n",
      "    Arable land (hectares per person)  Arable land (% of land area)  \\\n",
      "6                            0.237528                     11.914509   \n",
      "17                           0.213076                     22.467153   \n",
      "\n",
      "    Forest area (sq. km)  Forest area (% of land area)  Land area (sq. km)  \\\n",
      "6               12084.40                      1.852782            652230.0   \n",
      "17               7877.64                     28.750511             27400.0   \n",
      "\n",
      "    Surface area (sq. km)  ...  \\\n",
      "6                652860.0  ...   \n",
      "17                28750.0  ...   \n",
      "\n",
      "    Merchandise imports by the reporting economy (current US$)  \\\n",
      "6                                        7.708525e+09            \n",
      "17                                       5.284112e+09            \n",
      "\n",
      "    Merchandise exports to high-income economies (% of total merchandise exports)  \\\n",
      "6                                            4.231660                               \n",
      "17                                          74.435795                               \n",
      "\n",
      "    Merchandise exports by the reporting economy, residual (% of total merchandise exports)  \\\n",
      "6                                            0.000000                                         \n",
      "17                                           0.499903                                         \n",
      "\n",
      "    Merchandise exports by the reporting economy (current US$)  \\\n",
      "6                                        4.147592e+08            \n",
      "17                                       2.550135e+09            \n",
      "\n",
      "    Voice and Accountability: Estimate  \\\n",
      "6                            -1.135440   \n",
      "17                            0.143777   \n",
      "\n",
      "    Voice and Accountability: Number of Sources  \\\n",
      "6                                          10.0   \n",
      "17                                         12.0   \n",
      "\n",
      "    Voice and Accountability: Percentile Rank  \\\n",
      "6                                   16.256157   \n",
      "17                                  50.246304   \n",
      "\n",
      "    Voice and Accountability: Percentile Rank, Lower Bound of 90% Confidence Interval  \\\n",
      "6                                            9.359606                                   \n",
      "17                                          46.798031                                   \n",
      "\n",
      "    Voice and Accountability: Percentile Rank, Upper Bound of 90% Confidence Interval  \\\n",
      "6                                           21.674877                                   \n",
      "17                                          59.113300                                   \n",
      "\n",
      "    Voice and Accountability: Standard Error  \n",
      "6                                   0.132240  \n",
      "17                                  0.124897  \n",
      "\n",
      "[2 rows x 174 columns]\n",
      "2013 7     40.039340\n",
      "18    61.097604\n",
      "Name: DB score, dtype: float64         Economy  Agricultural land (sq. km)  \\\n",
      "7   Afghanistan                    379100.0   \n",
      "18      Albania                     11873.0   \n",
      "\n",
      "    Agricultural land (% of land area)  Arable land (hectares)  \\\n",
      "7                            58.123668               7785000.0   \n",
      "18                           43.332117                617100.0   \n",
      "\n",
      "    Arable land (hectares per person)  Arable land (% of land area)  \\\n",
      "7                            0.246820                     11.935974   \n",
      "18                           0.213154                     22.521898   \n",
      "\n",
      "    Forest area (sq. km)  Forest area (% of land area)  Land area (sq. km)  \\\n",
      "7              12084.400                      1.852782            652230.0   \n",
      "18              7863.405                     28.698558             27400.0   \n",
      "\n",
      "    Surface area (sq. km)  ...  \\\n",
      "7                652860.0  ...   \n",
      "18                28750.0  ...   \n",
      "\n",
      "    Merchandise imports by the reporting economy (current US$)  \\\n",
      "7                                        8.571831e+09            \n",
      "18                                       4.931341e+09            \n",
      "\n",
      "    Merchandise exports to high-income economies (% of total merchandise exports)  \\\n",
      "7                                            2.577746                               \n",
      "18                                          74.739371                               \n",
      "\n",
      "    Merchandise exports by the reporting economy, residual (% of total merchandise exports)  \\\n",
      "7                                             0.00000                                         \n",
      "18                                            0.50099                                         \n",
      "\n",
      "    Merchandise exports by the reporting economy (current US$)  \\\n",
      "7                                        3.739582e+08            \n",
      "18                                       2.440931e+09            \n",
      "\n",
      "    Voice and Accountability: Estimate  \\\n",
      "7                            -1.240068   \n",
      "18                            0.048893   \n",
      "\n",
      "    Voice and Accountability: Number of Sources  \\\n",
      "7                                          12.0   \n",
      "18                                         15.0   \n",
      "\n",
      "    Voice and Accountability: Percentile Rank  \\\n",
      "7                                    14.55399   \n",
      "18                                   51.17371   \n",
      "\n",
      "    Voice and Accountability: Percentile Rank, Lower Bound of 90% Confidence Interval  \\\n",
      "7                                            8.450705                                   \n",
      "18                                          43.192490                                   \n",
      "\n",
      "    Voice and Accountability: Percentile Rank, Upper Bound of 90% Confidence Interval  \\\n",
      "7                                           17.370892                                   \n",
      "18                                          56.338028                                   \n",
      "\n",
      "    Voice and Accountability: Standard Error  \n",
      "7                                   0.123408  \n",
      "18                                  0.117732  \n",
      "\n",
      "[2 rows x 174 columns]\n",
      "2012 8     39.563330\n",
      "19    60.631704\n",
      "Name: DB score, dtype: float64         Economy  Agricultural land (sq. km)  \\\n",
      "8   Afghanistan                    379140.0   \n",
      "19      Albania                     12013.0   \n",
      "\n",
      "    Agricultural land (% of land area)  Arable land (hectares)  \\\n",
      "8                            58.129801               7790000.0   \n",
      "19                           43.843066                619100.0   \n",
      "\n",
      "    Arable land (hectares per person)  Arable land (% of land area)  \\\n",
      "8                            0.255691                     11.943640   \n",
      "19                           0.213453                     22.594891   \n",
      "\n",
      "    Forest area (sq. km)  Forest area (% of land area)  Land area (sq. km)  \\\n",
      "8               12084.40                      1.852782            652230.0   \n",
      "19               7849.17                     28.646606             27400.0   \n",
      "\n",
      "    Surface area (sq. km)  ...  \\\n",
      "8                652860.0  ...   \n",
      "19                28750.0  ...   \n",
      "\n",
      "    Merchandise imports by the reporting economy (current US$)  \\\n",
      "8                                        6.225887e+09            \n",
      "19                                       4.875040e+09            \n",
      "\n",
      "    Merchandise exports to high-income economies (% of total merchandise exports)  \\\n",
      "8                                            1.074724                               \n",
      "19                                          78.514135                               \n",
      "\n",
      "    Merchandise exports by the reporting economy, residual (% of total merchandise exports)  \\\n",
      "8                                            0.000000                                         \n",
      "19                                           0.524146                                         \n",
      "\n",
      "    Merchandise exports by the reporting economy (current US$)  \\\n",
      "8                                        3.057951e+08            \n",
      "19                                       1.906829e+09            \n",
      "\n",
      "    Voice and Accountability: Estimate  \\\n",
      "8                            -1.267430   \n",
      "19                            0.022064   \n",
      "\n",
      "    Voice and Accountability: Number of Sources  \\\n",
      "8                                          11.0   \n",
      "19                                         16.0   \n",
      "\n",
      "    Voice and Accountability: Percentile Rank  \\\n",
      "8                                   14.084507   \n",
      "19                                  50.704224   \n",
      "\n",
      "    Voice and Accountability: Percentile Rank, Lower Bound of 90% Confidence Interval  \\\n",
      "8                                            6.572770                                   \n",
      "19                                          43.661972                                   \n",
      "\n",
      "    Voice and Accountability: Percentile Rank, Upper Bound of 90% Confidence Interval  \\\n",
      "8                                           16.431925                                   \n",
      "19                                          56.338028                                   \n",
      "\n",
      "    Voice and Accountability: Standard Error  \n",
      "8                                   0.134757  \n",
      "19                                  0.117872  \n",
      "\n",
      "[2 rows x 174 columns]\n",
      "2011 9     37.268125\n",
      "20    63.316532\n",
      "Name: DB score, dtype: float64         Economy  Agricultural land (sq. km)  \\\n",
      "9   Afghanistan                    379150.0   \n",
      "20      Albania                     12010.0   \n",
      "\n",
      "    Agricultural land (% of land area)  Arable land (hectares)  \\\n",
      "9                            58.131334               7791000.0   \n",
      "20                           43.832117                622000.0   \n",
      "\n",
      "    Arable land (hectares per person)  Arable land (% of land area)  \\\n",
      "9                            0.266367                     11.945173   \n",
      "20                           0.214099                     22.700730   \n",
      "\n",
      "    Forest area (sq. km)  Forest area (% of land area)  Land area (sq. km)  \\\n",
      "9              12084.400                      1.852782            652230.0   \n",
      "20              7834.935                     28.594653             27400.0   \n",
      "\n",
      "    Surface area (sq. km)  ...  \\\n",
      "9                652860.0  ...   \n",
      "20                28750.0  ...   \n",
      "\n",
      "    Merchandise imports by the reporting economy (current US$)  \\\n",
      "9                                        6.420926e+09            \n",
      "20                                       5.318647e+09            \n",
      "\n",
      "    Merchandise exports to high-income economies (% of total merchandise exports)  \\\n",
      "9                                            7.104443                               \n",
      "20                                          75.557878                               \n",
      "\n",
      "    Merchandise exports by the reporting economy, residual (% of total merchandise exports)  \\\n",
      "9                                            0.000000                                         \n",
      "20                                           0.216382                                         \n",
      "\n",
      "    Merchandise exports by the reporting economy (current US$)  \\\n",
      "9                                        3.758462e+08            \n",
      "20                                       1.951439e+09            \n",
      "\n",
      "    Voice and Accountability: Estimate  \\\n",
      "9                            -1.335977   \n",
      "20                            0.062334   \n",
      "\n",
      "    Voice and Accountability: Number of Sources  \\\n",
      "9                                          10.0   \n",
      "20                                         15.0   \n",
      "\n",
      "    Voice and Accountability: Percentile Rank  \\\n",
      "9                                   11.267606   \n",
      "20                                  52.112675   \n",
      "\n",
      "    Voice and Accountability: Percentile Rank, Lower Bound of 90% Confidence Interval  \\\n",
      "9                                            7.042253                                   \n",
      "20                                          43.192490                                   \n",
      "\n",
      "    Voice and Accountability: Percentile Rank, Upper Bound of 90% Confidence Interval  \\\n",
      "9                                           15.962441                                   \n",
      "20                                          55.868546                                   \n",
      "\n",
      "    Voice and Accountability: Standard Error  \n",
      "9                                   0.143801  \n",
      "20                                  0.126827  \n",
      "\n",
      "[2 rows x 174 columns]\n",
      "2010 10    40.090805\n",
      "21    63.160305\n",
      "Name: DB score, dtype: float64         Economy  Agricultural land (sq. km)  \\\n",
      "10  Afghanistan                    379170.0   \n",
      "21      Albania                     12013.0   \n",
      "\n",
      "    Agricultural land (% of land area)  Arable land (hectares)  \\\n",
      "10                           58.134400               7793000.0   \n",
      "21                           43.843066                626000.0   \n",
      "\n",
      "    Arable land (hectares per person)  Arable land (% of land area)  \\\n",
      "10                           0.276449                     11.948239   \n",
      "21                           0.214897                     22.846715   \n",
      "\n",
      "    Forest area (sq. km)  Forest area (% of land area)  Land area (sq. km)  \\\n",
      "10               12084.4                      1.852782            652230.0   \n",
      "21                7820.7                     28.542701             27400.0   \n",
      "\n",
      "    Surface area (sq. km)  ...  \\\n",
      "10               652860.0  ...   \n",
      "21                28750.0  ...   \n",
      "\n",
      "    Merchandise imports by the reporting economy (current US$)  \\\n",
      "10                                       5.177971e+09            \n",
      "21                                       4.537933e+09            \n",
      "\n",
      "    Merchandise exports to high-income economies (% of total merchandise exports)  \\\n",
      "10                                           8.472976                               \n",
      "21                                          76.459645                               \n",
      "\n",
      "    Merchandise exports by the reporting economy, residual (% of total merchandise exports)  \\\n",
      "10                                             0.0000                                         \n",
      "21                                             0.3128                                         \n",
      "\n",
      "    Merchandise exports by the reporting economy (current US$)  \\\n",
      "10                                       3.884837e+08            \n",
      "21                                       1.542194e+09            \n",
      "\n",
      "    Voice and Accountability: Estimate  \\\n",
      "10                           -1.404467   \n",
      "21                            0.123838   \n",
      "\n",
      "    Voice and Accountability: Number of Sources  \\\n",
      "10                                         10.0   \n",
      "21                                         14.0   \n",
      "\n",
      "    Voice and Accountability: Percentile Rank  \\\n",
      "10                                   9.952606   \n",
      "21                                  54.028435   \n",
      "\n",
      "    Voice and Accountability: Percentile Rank, Lower Bound of 90% Confidence Interval  \\\n",
      "10                                           5.687204                                   \n",
      "21                                          44.075829                                   \n",
      "\n",
      "    Voice and Accountability: Percentile Rank, Upper Bound of 90% Confidence Interval  \\\n",
      "10                                          13.744076                                   \n",
      "21                                          57.345970                                   \n",
      "\n",
      "    Voice and Accountability: Standard Error  \n",
      "10                                  0.143255  \n",
      "21                                  0.130566  \n",
      "\n",
      "[2 rows x 174 columns]\n"
     ]
    }
   ],
   "source": [
    "# for key, value in dfs.items():\n",
    "#     print(key, value[0].head(2), value[1].head(2))"
   ],
   "metadata": {
    "collapsed": false,
    "pycharm": {
     "name": "#%%\n"
    }
   }
  },
  {
   "cell_type": "code",
   "execution_count": 28,
   "outputs": [
    {
     "name": "stdout",
     "output_type": "stream",
     "text": [
      "Learning rate set to 0.043761\n",
      "0:\tlearn: 12.3480030\ttotal: 181ms\tremaining: 3m 1s\n",
      "1:\tlearn: 11.9720094\ttotal: 198ms\tremaining: 1m 38s\n",
      "2:\tlearn: 11.6082667\ttotal: 215ms\tremaining: 1m 11s\n",
      "3:\tlearn: 11.2750007\ttotal: 236ms\tremaining: 58.7s\n",
      "4:\tlearn: 10.9556072\ttotal: 254ms\tremaining: 50.5s\n",
      "5:\tlearn: 10.6384418\ttotal: 275ms\tremaining: 45.5s\n",
      "6:\tlearn: 10.3404246\ttotal: 294ms\tremaining: 41.7s\n",
      "7:\tlearn: 10.0410748\ttotal: 318ms\tremaining: 39.4s\n",
      "8:\tlearn: 9.7515824\ttotal: 339ms\tremaining: 37.3s\n",
      "9:\tlearn: 9.5009850\ttotal: 359ms\tremaining: 35.5s\n",
      "10:\tlearn: 9.2608505\ttotal: 376ms\tremaining: 33.8s\n",
      "11:\tlearn: 9.0266427\ttotal: 395ms\tremaining: 32.5s\n",
      "12:\tlearn: 8.8062786\ttotal: 413ms\tremaining: 31.4s\n",
      "13:\tlearn: 8.6065781\ttotal: 443ms\tremaining: 31.2s\n",
      "14:\tlearn: 8.4063169\ttotal: 461ms\tremaining: 30.3s\n",
      "15:\tlearn: 8.1926923\ttotal: 479ms\tremaining: 29.5s\n",
      "16:\tlearn: 7.9994785\ttotal: 497ms\tremaining: 28.7s\n",
      "17:\tlearn: 7.8149409\ttotal: 515ms\tremaining: 28.1s\n",
      "18:\tlearn: 7.6411248\ttotal: 533ms\tremaining: 27.5s\n",
      "19:\tlearn: 7.4894512\ttotal: 559ms\tremaining: 27.4s\n",
      "20:\tlearn: 7.3323858\ttotal: 578ms\tremaining: 27s\n",
      "21:\tlearn: 7.1819673\ttotal: 597ms\tremaining: 26.5s\n",
      "22:\tlearn: 7.0381814\ttotal: 613ms\tremaining: 26.1s\n",
      "23:\tlearn: 6.9158422\ttotal: 634ms\tremaining: 25.8s\n",
      "24:\tlearn: 6.7792316\ttotal: 651ms\tremaining: 25.4s\n",
      "25:\tlearn: 6.6629529\ttotal: 672ms\tremaining: 25.2s\n",
      "26:\tlearn: 6.5443150\ttotal: 691ms\tremaining: 24.9s\n",
      "27:\tlearn: 6.4320615\ttotal: 712ms\tremaining: 24.7s\n",
      "28:\tlearn: 6.3141251\ttotal: 734ms\tremaining: 24.6s\n",
      "29:\tlearn: 6.2193222\ttotal: 752ms\tremaining: 24.3s\n",
      "30:\tlearn: 6.1230937\ttotal: 771ms\tremaining: 24.1s\n",
      "31:\tlearn: 6.0244463\ttotal: 788ms\tremaining: 23.8s\n",
      "32:\tlearn: 5.9407245\ttotal: 805ms\tremaining: 23.6s\n",
      "33:\tlearn: 5.8531389\ttotal: 820ms\tremaining: 23.3s\n",
      "34:\tlearn: 5.7703632\ttotal: 840ms\tremaining: 23.2s\n",
      "35:\tlearn: 5.6839213\ttotal: 862ms\tremaining: 23.1s\n",
      "36:\tlearn: 5.6058569\ttotal: 888ms\tremaining: 23.1s\n",
      "37:\tlearn: 5.5362932\ttotal: 912ms\tremaining: 23.1s\n",
      "38:\tlearn: 5.4705118\ttotal: 935ms\tremaining: 23s\n",
      "39:\tlearn: 5.4002145\ttotal: 956ms\tremaining: 22.9s\n",
      "40:\tlearn: 5.3430174\ttotal: 974ms\tremaining: 22.8s\n",
      "41:\tlearn: 5.2684609\ttotal: 991ms\tremaining: 22.6s\n",
      "42:\tlearn: 5.2138080\ttotal: 1.01s\tremaining: 22.4s\n",
      "43:\tlearn: 5.1498886\ttotal: 1.02s\tremaining: 22.2s\n",
      "44:\tlearn: 5.0953696\ttotal: 1.04s\tremaining: 22.1s\n",
      "45:\tlearn: 5.0422067\ttotal: 1.06s\tremaining: 22s\n",
      "46:\tlearn: 4.9928586\ttotal: 1.08s\tremaining: 21.8s\n",
      "47:\tlearn: 4.9426735\ttotal: 1.09s\tremaining: 21.7s\n",
      "48:\tlearn: 4.8924189\ttotal: 1.11s\tremaining: 21.6s\n",
      "49:\tlearn: 4.8479736\ttotal: 1.13s\tremaining: 21.5s\n",
      "50:\tlearn: 4.8012939\ttotal: 1.15s\tremaining: 21.5s\n",
      "51:\tlearn: 4.7614838\ttotal: 1.17s\tremaining: 21.4s\n",
      "52:\tlearn: 4.7288068\ttotal: 1.19s\tremaining: 21.3s\n",
      "53:\tlearn: 4.6896342\ttotal: 1.21s\tremaining: 21.2s\n",
      "54:\tlearn: 4.6512914\ttotal: 1.23s\tremaining: 21.2s\n",
      "55:\tlearn: 4.6161562\ttotal: 1.25s\tremaining: 21.1s\n",
      "56:\tlearn: 4.5791274\ttotal: 1.27s\tremaining: 21.1s\n",
      "57:\tlearn: 4.5461612\ttotal: 1.29s\tremaining: 21s\n",
      "58:\tlearn: 4.5068412\ttotal: 1.31s\tremaining: 21s\n",
      "59:\tlearn: 4.4713304\ttotal: 1.33s\tremaining: 20.9s\n",
      "60:\tlearn: 4.4366275\ttotal: 1.35s\tremaining: 20.9s\n",
      "61:\tlearn: 4.4057653\ttotal: 1.37s\tremaining: 20.8s\n",
      "62:\tlearn: 4.3832830\ttotal: 1.39s\tremaining: 20.7s\n",
      "63:\tlearn: 4.3556244\ttotal: 1.41s\tremaining: 20.7s\n",
      "64:\tlearn: 4.3277946\ttotal: 1.44s\tremaining: 20.6s\n",
      "65:\tlearn: 4.3038751\ttotal: 1.45s\tremaining: 20.6s\n",
      "66:\tlearn: 4.2777042\ttotal: 1.47s\tremaining: 20.5s\n",
      "67:\tlearn: 4.2427183\ttotal: 1.49s\tremaining: 20.5s\n",
      "68:\tlearn: 4.2169223\ttotal: 1.51s\tremaining: 20.4s\n",
      "69:\tlearn: 4.1910397\ttotal: 1.53s\tremaining: 20.4s\n",
      "70:\tlearn: 4.1675101\ttotal: 1.56s\tremaining: 20.4s\n",
      "71:\tlearn: 4.1450389\ttotal: 1.57s\tremaining: 20.3s\n",
      "72:\tlearn: 4.1259616\ttotal: 1.59s\tremaining: 20.2s\n",
      "73:\tlearn: 4.1042335\ttotal: 1.61s\tremaining: 20.2s\n",
      "74:\tlearn: 4.0801536\ttotal: 1.64s\tremaining: 20.2s\n",
      "75:\tlearn: 4.0613730\ttotal: 1.67s\tremaining: 20.2s\n",
      "76:\tlearn: 4.0372903\ttotal: 1.69s\tremaining: 20.3s\n",
      "77:\tlearn: 4.0136288\ttotal: 1.72s\tremaining: 20.3s\n",
      "78:\tlearn: 3.9902343\ttotal: 1.74s\tremaining: 20.3s\n",
      "79:\tlearn: 3.9658040\ttotal: 1.78s\tremaining: 20.5s\n",
      "80:\tlearn: 3.9364591\ttotal: 1.8s\tremaining: 20.4s\n",
      "81:\tlearn: 3.9145841\ttotal: 1.82s\tremaining: 20.4s\n",
      "82:\tlearn: 3.8919401\ttotal: 1.85s\tremaining: 20.4s\n",
      "83:\tlearn: 3.8787815\ttotal: 1.87s\tremaining: 20.4s\n",
      "84:\tlearn: 3.8627893\ttotal: 1.89s\tremaining: 20.3s\n",
      "85:\tlearn: 3.8470747\ttotal: 1.91s\tremaining: 20.3s\n",
      "86:\tlearn: 3.8334688\ttotal: 1.93s\tremaining: 20.3s\n",
      "87:\tlearn: 3.8227312\ttotal: 1.95s\tremaining: 20.2s\n",
      "88:\tlearn: 3.7939536\ttotal: 1.97s\tremaining: 20.2s\n",
      "89:\tlearn: 3.7741720\ttotal: 1.99s\tremaining: 20.1s\n",
      "90:\tlearn: 3.7616738\ttotal: 2.01s\tremaining: 20.1s\n",
      "91:\tlearn: 3.7477506\ttotal: 2.04s\tremaining: 20.1s\n",
      "92:\tlearn: 3.7334321\ttotal: 2.06s\tremaining: 20.1s\n",
      "93:\tlearn: 3.7136814\ttotal: 2.08s\tremaining: 20.1s\n",
      "94:\tlearn: 3.6953030\ttotal: 2.1s\tremaining: 20s\n",
      "95:\tlearn: 3.6779314\ttotal: 2.12s\tremaining: 20s\n",
      "96:\tlearn: 3.6669072\ttotal: 2.14s\tremaining: 20s\n",
      "97:\tlearn: 3.6528170\ttotal: 2.17s\tremaining: 20s\n",
      "98:\tlearn: 3.6335592\ttotal: 2.19s\tremaining: 19.9s\n",
      "99:\tlearn: 3.6201511\ttotal: 2.21s\tremaining: 19.9s\n",
      "100:\tlearn: 3.6026927\ttotal: 2.23s\tremaining: 19.9s\n",
      "101:\tlearn: 3.5883210\ttotal: 2.26s\tremaining: 19.9s\n",
      "102:\tlearn: 3.5758621\ttotal: 2.28s\tremaining: 19.8s\n",
      "103:\tlearn: 3.5631603\ttotal: 2.3s\tremaining: 19.8s\n",
      "104:\tlearn: 3.5452836\ttotal: 2.32s\tremaining: 19.8s\n",
      "105:\tlearn: 3.5345109\ttotal: 2.35s\tremaining: 19.8s\n",
      "106:\tlearn: 3.5126868\ttotal: 2.37s\tremaining: 19.8s\n",
      "107:\tlearn: 3.5000050\ttotal: 2.39s\tremaining: 19.8s\n",
      "108:\tlearn: 3.4847664\ttotal: 2.41s\tremaining: 19.7s\n",
      "109:\tlearn: 3.4718256\ttotal: 2.44s\tremaining: 19.7s\n",
      "110:\tlearn: 3.4607859\ttotal: 2.46s\tremaining: 19.7s\n",
      "111:\tlearn: 3.4481607\ttotal: 2.48s\tremaining: 19.7s\n",
      "112:\tlearn: 3.4400489\ttotal: 2.5s\tremaining: 19.6s\n",
      "113:\tlearn: 3.4293631\ttotal: 2.52s\tremaining: 19.6s\n",
      "114:\tlearn: 3.4152255\ttotal: 2.54s\tremaining: 19.5s\n",
      "115:\tlearn: 3.4029603\ttotal: 2.56s\tremaining: 19.5s\n",
      "116:\tlearn: 3.3897255\ttotal: 2.57s\tremaining: 19.4s\n",
      "117:\tlearn: 3.3787673\ttotal: 2.59s\tremaining: 19.4s\n",
      "118:\tlearn: 3.3642283\ttotal: 2.61s\tremaining: 19.3s\n",
      "119:\tlearn: 3.3563056\ttotal: 2.67s\tremaining: 19.5s\n",
      "120:\tlearn: 3.3456835\ttotal: 2.73s\tremaining: 19.8s\n",
      "121:\tlearn: 3.3366796\ttotal: 2.77s\tremaining: 20s\n",
      "122:\tlearn: 3.3209136\ttotal: 2.79s\tremaining: 19.9s\n",
      "123:\tlearn: 3.3097601\ttotal: 2.81s\tremaining: 19.9s\n",
      "124:\tlearn: 3.2973110\ttotal: 2.83s\tremaining: 19.8s\n",
      "125:\tlearn: 3.2784785\ttotal: 2.85s\tremaining: 19.8s\n",
      "126:\tlearn: 3.2668733\ttotal: 2.88s\tremaining: 19.8s\n",
      "127:\tlearn: 3.2519022\ttotal: 2.9s\tremaining: 19.7s\n",
      "128:\tlearn: 3.2353985\ttotal: 2.92s\tremaining: 19.7s\n",
      "129:\tlearn: 3.2203143\ttotal: 2.94s\tremaining: 19.7s\n",
      "130:\tlearn: 3.2102307\ttotal: 2.96s\tremaining: 19.6s\n",
      "131:\tlearn: 3.1995755\ttotal: 2.98s\tremaining: 19.6s\n",
      "132:\tlearn: 3.1884981\ttotal: 3s\tremaining: 19.5s\n",
      "133:\tlearn: 3.1787462\ttotal: 3.01s\tremaining: 19.5s\n",
      "134:\tlearn: 3.1653482\ttotal: 3.03s\tremaining: 19.4s\n",
      "135:\tlearn: 3.1596486\ttotal: 3.05s\tremaining: 19.4s\n",
      "136:\tlearn: 3.1491901\ttotal: 3.07s\tremaining: 19.3s\n",
      "137:\tlearn: 3.1416212\ttotal: 3.09s\tremaining: 19.3s\n",
      "138:\tlearn: 3.1369010\ttotal: 3.11s\tremaining: 19.3s\n",
      "139:\tlearn: 3.1226009\ttotal: 3.13s\tremaining: 19.2s\n",
      "140:\tlearn: 3.1123100\ttotal: 3.16s\tremaining: 19.2s\n",
      "141:\tlearn: 3.1001519\ttotal: 3.17s\tremaining: 19.2s\n",
      "142:\tlearn: 3.0924952\ttotal: 3.19s\tremaining: 19.1s\n",
      "143:\tlearn: 3.0861191\ttotal: 3.21s\tremaining: 19.1s\n",
      "144:\tlearn: 3.0746946\ttotal: 3.23s\tremaining: 19s\n",
      "145:\tlearn: 3.0669752\ttotal: 3.25s\tremaining: 19s\n",
      "146:\tlearn: 3.0547822\ttotal: 3.27s\tremaining: 18.9s\n",
      "147:\tlearn: 3.0468516\ttotal: 3.28s\tremaining: 18.9s\n",
      "148:\tlearn: 3.0362047\ttotal: 3.3s\tremaining: 18.8s\n",
      "149:\tlearn: 3.0223656\ttotal: 3.32s\tremaining: 18.8s\n",
      "150:\tlearn: 3.0125072\ttotal: 3.34s\tremaining: 18.8s\n",
      "151:\tlearn: 3.0019640\ttotal: 3.35s\tremaining: 18.7s\n",
      "152:\tlearn: 2.9859381\ttotal: 3.38s\tremaining: 18.7s\n",
      "153:\tlearn: 2.9758792\ttotal: 3.4s\tremaining: 18.7s\n",
      "154:\tlearn: 2.9664000\ttotal: 3.41s\tremaining: 18.6s\n",
      "155:\tlearn: 2.9553589\ttotal: 3.43s\tremaining: 18.6s\n",
      "156:\tlearn: 2.9433568\ttotal: 3.45s\tremaining: 18.5s\n",
      "157:\tlearn: 2.9297320\ttotal: 3.47s\tremaining: 18.5s\n",
      "158:\tlearn: 2.9225891\ttotal: 3.5s\tremaining: 18.5s\n",
      "159:\tlearn: 2.9115194\ttotal: 3.52s\tremaining: 18.5s\n",
      "160:\tlearn: 2.9057504\ttotal: 3.54s\tremaining: 18.4s\n",
      "161:\tlearn: 2.8922351\ttotal: 3.55s\tremaining: 18.4s\n",
      "162:\tlearn: 2.8805107\ttotal: 3.57s\tremaining: 18.4s\n",
      "163:\tlearn: 2.8641702\ttotal: 3.59s\tremaining: 18.3s\n",
      "164:\tlearn: 2.8505069\ttotal: 3.61s\tremaining: 18.3s\n",
      "165:\tlearn: 2.8350313\ttotal: 3.63s\tremaining: 18.2s\n",
      "166:\tlearn: 2.8280593\ttotal: 3.65s\tremaining: 18.2s\n",
      "167:\tlearn: 2.8194160\ttotal: 3.66s\tremaining: 18.1s\n",
      "168:\tlearn: 2.8122037\ttotal: 3.68s\tremaining: 18.1s\n",
      "169:\tlearn: 2.8019866\ttotal: 3.7s\tremaining: 18.1s\n",
      "170:\tlearn: 2.7955419\ttotal: 3.72s\tremaining: 18s\n",
      "171:\tlearn: 2.7840510\ttotal: 3.75s\tremaining: 18s\n",
      "172:\tlearn: 2.7776301\ttotal: 3.76s\tremaining: 18s\n",
      "173:\tlearn: 2.7691794\ttotal: 3.78s\tremaining: 17.9s\n",
      "174:\tlearn: 2.7580707\ttotal: 3.8s\tremaining: 17.9s\n",
      "175:\tlearn: 2.7494458\ttotal: 3.81s\tremaining: 17.9s\n",
      "176:\tlearn: 2.7403727\ttotal: 3.83s\tremaining: 17.8s\n",
      "177:\tlearn: 2.7321641\ttotal: 3.85s\tremaining: 17.8s\n",
      "178:\tlearn: 2.7275640\ttotal: 3.87s\tremaining: 17.8s\n",
      "179:\tlearn: 2.7166670\ttotal: 3.89s\tremaining: 17.7s\n",
      "180:\tlearn: 2.7106660\ttotal: 3.91s\tremaining: 17.7s\n",
      "181:\tlearn: 2.7061823\ttotal: 3.93s\tremaining: 17.7s\n",
      "182:\tlearn: 2.6985074\ttotal: 3.95s\tremaining: 17.6s\n",
      "183:\tlearn: 2.6922534\ttotal: 3.97s\tremaining: 17.6s\n",
      "184:\tlearn: 2.6823783\ttotal: 3.99s\tremaining: 17.6s\n",
      "185:\tlearn: 2.6706920\ttotal: 4s\tremaining: 17.5s\n",
      "186:\tlearn: 2.6629743\ttotal: 4.03s\tremaining: 17.5s\n",
      "187:\tlearn: 2.6501174\ttotal: 4.04s\tremaining: 17.5s\n",
      "188:\tlearn: 2.6387762\ttotal: 4.06s\tremaining: 17.4s\n",
      "189:\tlearn: 2.6295198\ttotal: 4.08s\tremaining: 17.4s\n",
      "190:\tlearn: 2.6187228\ttotal: 4.1s\tremaining: 17.4s\n",
      "191:\tlearn: 2.6095251\ttotal: 4.12s\tremaining: 17.3s\n",
      "192:\tlearn: 2.6027948\ttotal: 4.13s\tremaining: 17.3s\n",
      "193:\tlearn: 2.5974209\ttotal: 4.15s\tremaining: 17.2s\n",
      "194:\tlearn: 2.5828632\ttotal: 4.17s\tremaining: 17.2s\n",
      "195:\tlearn: 2.5763755\ttotal: 4.19s\tremaining: 17.2s\n",
      "196:\tlearn: 2.5701527\ttotal: 4.21s\tremaining: 17.2s\n",
      "197:\tlearn: 2.5605166\ttotal: 4.23s\tremaining: 17.1s\n",
      "198:\tlearn: 2.5565609\ttotal: 4.25s\tremaining: 17.1s\n",
      "199:\tlearn: 2.5468912\ttotal: 4.27s\tremaining: 17.1s\n",
      "200:\tlearn: 2.5342335\ttotal: 4.29s\tremaining: 17s\n",
      "201:\tlearn: 2.5277294\ttotal: 4.3s\tremaining: 17s\n",
      "202:\tlearn: 2.5224564\ttotal: 4.32s\tremaining: 17s\n",
      "203:\tlearn: 2.5111104\ttotal: 4.33s\tremaining: 16.9s\n",
      "204:\tlearn: 2.5011626\ttotal: 4.35s\tremaining: 16.9s\n",
      "205:\tlearn: 2.4936396\ttotal: 4.37s\tremaining: 16.8s\n",
      "206:\tlearn: 2.4879924\ttotal: 4.39s\tremaining: 16.8s\n",
      "207:\tlearn: 2.4787119\ttotal: 4.42s\tremaining: 16.8s\n",
      "208:\tlearn: 2.4739189\ttotal: 4.44s\tremaining: 16.8s\n",
      "209:\tlearn: 2.4642108\ttotal: 4.46s\tremaining: 16.8s\n",
      "210:\tlearn: 2.4561265\ttotal: 4.48s\tremaining: 16.8s\n",
      "211:\tlearn: 2.4514916\ttotal: 4.5s\tremaining: 16.7s\n",
      "212:\tlearn: 2.4429068\ttotal: 4.52s\tremaining: 16.7s\n",
      "213:\tlearn: 2.4334778\ttotal: 4.54s\tremaining: 16.7s\n",
      "214:\tlearn: 2.4255315\ttotal: 4.55s\tremaining: 16.6s\n",
      "215:\tlearn: 2.4167339\ttotal: 4.57s\tremaining: 16.6s\n",
      "216:\tlearn: 2.4109902\ttotal: 4.59s\tremaining: 16.6s\n",
      "217:\tlearn: 2.3995696\ttotal: 4.62s\tremaining: 16.6s\n",
      "218:\tlearn: 2.3906584\ttotal: 4.63s\tremaining: 16.5s\n",
      "219:\tlearn: 2.3858177\ttotal: 4.65s\tremaining: 16.5s\n",
      "220:\tlearn: 2.3755164\ttotal: 4.67s\tremaining: 16.5s\n",
      "221:\tlearn: 2.3667457\ttotal: 4.68s\tremaining: 16.4s\n",
      "222:\tlearn: 2.3598786\ttotal: 4.7s\tremaining: 16.4s\n",
      "223:\tlearn: 2.3524615\ttotal: 4.72s\tremaining: 16.4s\n",
      "224:\tlearn: 2.3424228\ttotal: 4.74s\tremaining: 16.3s\n",
      "225:\tlearn: 2.3340076\ttotal: 4.76s\tremaining: 16.3s\n",
      "226:\tlearn: 2.3252191\ttotal: 4.77s\tremaining: 16.3s\n",
      "227:\tlearn: 2.3165093\ttotal: 4.79s\tremaining: 16.2s\n",
      "228:\tlearn: 2.3062931\ttotal: 4.81s\tremaining: 16.2s\n",
      "229:\tlearn: 2.2953031\ttotal: 4.83s\tremaining: 16.2s\n",
      "230:\tlearn: 2.2871034\ttotal: 4.85s\tremaining: 16.1s\n",
      "231:\tlearn: 2.2783351\ttotal: 4.87s\tremaining: 16.1s\n",
      "232:\tlearn: 2.2711481\ttotal: 4.89s\tremaining: 16.1s\n",
      "233:\tlearn: 2.2626057\ttotal: 4.91s\tremaining: 16.1s\n",
      "234:\tlearn: 2.2551655\ttotal: 4.93s\tremaining: 16.1s\n",
      "235:\tlearn: 2.2494874\ttotal: 4.95s\tremaining: 16s\n",
      "236:\tlearn: 2.2412388\ttotal: 4.97s\tremaining: 16s\n",
      "237:\tlearn: 2.2333081\ttotal: 4.99s\tremaining: 16s\n",
      "238:\tlearn: 2.2250911\ttotal: 5.01s\tremaining: 16s\n",
      "239:\tlearn: 2.2222302\ttotal: 5.04s\tremaining: 15.9s\n",
      "240:\tlearn: 2.2128309\ttotal: 5.06s\tremaining: 15.9s\n",
      "241:\tlearn: 2.2050345\ttotal: 5.08s\tremaining: 15.9s\n",
      "242:\tlearn: 2.1981040\ttotal: 5.11s\tremaining: 15.9s\n",
      "243:\tlearn: 2.1894490\ttotal: 5.13s\tremaining: 15.9s\n",
      "244:\tlearn: 2.1788477\ttotal: 5.15s\tremaining: 15.9s\n",
      "245:\tlearn: 2.1735619\ttotal: 5.18s\tremaining: 15.9s\n",
      "246:\tlearn: 2.1659869\ttotal: 5.2s\tremaining: 15.9s\n",
      "247:\tlearn: 2.1608281\ttotal: 5.22s\tremaining: 15.8s\n",
      "248:\tlearn: 2.1542517\ttotal: 5.24s\tremaining: 15.8s\n",
      "249:\tlearn: 2.1424773\ttotal: 5.26s\tremaining: 15.8s\n",
      "250:\tlearn: 2.1339408\ttotal: 5.28s\tremaining: 15.8s\n",
      "251:\tlearn: 2.1282868\ttotal: 5.3s\tremaining: 15.7s\n",
      "252:\tlearn: 2.1212417\ttotal: 5.32s\tremaining: 15.7s\n",
      "253:\tlearn: 2.1135486\ttotal: 5.34s\tremaining: 15.7s\n",
      "254:\tlearn: 2.1095747\ttotal: 5.35s\tremaining: 15.6s\n",
      "255:\tlearn: 2.1058091\ttotal: 5.37s\tremaining: 15.6s\n",
      "256:\tlearn: 2.0990433\ttotal: 5.38s\tremaining: 15.6s\n",
      "257:\tlearn: 2.0962068\ttotal: 5.4s\tremaining: 15.5s\n",
      "258:\tlearn: 2.0916951\ttotal: 5.42s\tremaining: 15.5s\n",
      "259:\tlearn: 2.0863510\ttotal: 5.43s\tremaining: 15.5s\n",
      "260:\tlearn: 2.0799335\ttotal: 5.45s\tremaining: 15.4s\n",
      "261:\tlearn: 2.0740581\ttotal: 5.47s\tremaining: 15.4s\n",
      "262:\tlearn: 2.0671809\ttotal: 5.49s\tremaining: 15.4s\n",
      "263:\tlearn: 2.0601128\ttotal: 5.5s\tremaining: 15.3s\n",
      "264:\tlearn: 2.0564376\ttotal: 5.52s\tremaining: 15.3s\n",
      "265:\tlearn: 2.0487266\ttotal: 5.54s\tremaining: 15.3s\n",
      "266:\tlearn: 2.0430054\ttotal: 5.56s\tremaining: 15.3s\n",
      "267:\tlearn: 2.0345750\ttotal: 5.58s\tremaining: 15.2s\n",
      "268:\tlearn: 2.0316690\ttotal: 5.6s\tremaining: 15.2s\n",
      "269:\tlearn: 2.0247716\ttotal: 5.62s\tremaining: 15.2s\n",
      "270:\tlearn: 2.0165386\ttotal: 5.63s\tremaining: 15.1s\n",
      "271:\tlearn: 2.0112851\ttotal: 5.65s\tremaining: 15.1s\n",
      "272:\tlearn: 2.0060305\ttotal: 5.67s\tremaining: 15.1s\n",
      "273:\tlearn: 2.0035436\ttotal: 5.68s\tremaining: 15.1s\n",
      "274:\tlearn: 1.9943100\ttotal: 5.7s\tremaining: 15s\n",
      "275:\tlearn: 1.9913516\ttotal: 5.72s\tremaining: 15s\n",
      "276:\tlearn: 1.9841794\ttotal: 5.73s\tremaining: 15s\n",
      "277:\tlearn: 1.9775106\ttotal: 5.75s\tremaining: 14.9s\n",
      "278:\tlearn: 1.9713666\ttotal: 5.77s\tremaining: 14.9s\n",
      "279:\tlearn: 1.9640780\ttotal: 5.79s\tremaining: 14.9s\n",
      "280:\tlearn: 1.9585018\ttotal: 5.81s\tremaining: 14.9s\n",
      "281:\tlearn: 1.9540754\ttotal: 5.83s\tremaining: 14.8s\n",
      "282:\tlearn: 1.9491873\ttotal: 5.85s\tremaining: 14.8s\n",
      "283:\tlearn: 1.9427511\ttotal: 5.87s\tremaining: 14.8s\n",
      "284:\tlearn: 1.9376126\ttotal: 5.88s\tremaining: 14.8s\n",
      "285:\tlearn: 1.9318641\ttotal: 5.9s\tremaining: 14.7s\n",
      "286:\tlearn: 1.9286473\ttotal: 5.92s\tremaining: 14.7s\n",
      "287:\tlearn: 1.9236831\ttotal: 5.94s\tremaining: 14.7s\n",
      "288:\tlearn: 1.9203114\ttotal: 5.96s\tremaining: 14.7s\n",
      "289:\tlearn: 1.9162452\ttotal: 5.97s\tremaining: 14.6s\n",
      "290:\tlearn: 1.9109981\ttotal: 5.99s\tremaining: 14.6s\n",
      "291:\tlearn: 1.9056312\ttotal: 6.01s\tremaining: 14.6s\n",
      "292:\tlearn: 1.8991381\ttotal: 6.03s\tremaining: 14.6s\n",
      "293:\tlearn: 1.8933199\ttotal: 6.05s\tremaining: 14.5s\n",
      "294:\tlearn: 1.8894849\ttotal: 6.07s\tremaining: 14.5s\n",
      "295:\tlearn: 1.8839605\ttotal: 6.09s\tremaining: 14.5s\n",
      "296:\tlearn: 1.8801072\ttotal: 6.11s\tremaining: 14.5s\n",
      "297:\tlearn: 1.8754886\ttotal: 6.15s\tremaining: 14.5s\n",
      "298:\tlearn: 1.8697833\ttotal: 6.16s\tremaining: 14.5s\n",
      "299:\tlearn: 1.8641891\ttotal: 6.18s\tremaining: 14.4s\n",
      "300:\tlearn: 1.8617144\ttotal: 6.21s\tremaining: 14.4s\n",
      "301:\tlearn: 1.8557957\ttotal: 6.22s\tremaining: 14.4s\n",
      "302:\tlearn: 1.8523001\ttotal: 6.24s\tremaining: 14.4s\n",
      "303:\tlearn: 1.8495409\ttotal: 6.26s\tremaining: 14.3s\n",
      "304:\tlearn: 1.8431760\ttotal: 6.28s\tremaining: 14.3s\n",
      "305:\tlearn: 1.8386093\ttotal: 6.3s\tremaining: 14.3s\n",
      "306:\tlearn: 1.8333126\ttotal: 6.31s\tremaining: 14.3s\n",
      "307:\tlearn: 1.8289974\ttotal: 6.33s\tremaining: 14.2s\n",
      "308:\tlearn: 1.8243960\ttotal: 6.34s\tremaining: 14.2s\n",
      "309:\tlearn: 1.8201794\ttotal: 6.36s\tremaining: 14.2s\n",
      "310:\tlearn: 1.8130393\ttotal: 6.38s\tremaining: 14.1s\n",
      "311:\tlearn: 1.8083279\ttotal: 6.39s\tremaining: 14.1s\n",
      "312:\tlearn: 1.8045109\ttotal: 6.41s\tremaining: 14.1s\n",
      "313:\tlearn: 1.7997464\ttotal: 6.42s\tremaining: 14s\n",
      "314:\tlearn: 1.7969179\ttotal: 6.44s\tremaining: 14s\n",
      "315:\tlearn: 1.7926281\ttotal: 6.46s\tremaining: 14s\n",
      "316:\tlearn: 1.7856370\ttotal: 6.48s\tremaining: 14s\n",
      "317:\tlearn: 1.7822068\ttotal: 6.5s\tremaining: 13.9s\n",
      "318:\tlearn: 1.7766863\ttotal: 6.51s\tremaining: 13.9s\n",
      "319:\tlearn: 1.7734146\ttotal: 6.53s\tremaining: 13.9s\n",
      "320:\tlearn: 1.7722438\ttotal: 6.55s\tremaining: 13.9s\n",
      "321:\tlearn: 1.7671980\ttotal: 6.57s\tremaining: 13.8s\n",
      "322:\tlearn: 1.7631608\ttotal: 6.58s\tremaining: 13.8s\n",
      "323:\tlearn: 1.7580824\ttotal: 6.59s\tremaining: 13.8s\n",
      "324:\tlearn: 1.7530975\ttotal: 6.61s\tremaining: 13.7s\n",
      "325:\tlearn: 1.7494293\ttotal: 6.62s\tremaining: 13.7s\n",
      "326:\tlearn: 1.7475831\ttotal: 6.64s\tremaining: 13.7s\n",
      "327:\tlearn: 1.7466111\ttotal: 6.65s\tremaining: 13.6s\n",
      "328:\tlearn: 1.7427294\ttotal: 6.67s\tremaining: 13.6s\n",
      "329:\tlearn: 1.7401796\ttotal: 6.68s\tremaining: 13.6s\n",
      "330:\tlearn: 1.7356440\ttotal: 6.7s\tremaining: 13.5s\n",
      "331:\tlearn: 1.7344323\ttotal: 6.71s\tremaining: 13.5s\n",
      "332:\tlearn: 1.7296585\ttotal: 6.73s\tremaining: 13.5s\n",
      "333:\tlearn: 1.7246790\ttotal: 6.75s\tremaining: 13.5s\n",
      "334:\tlearn: 1.7198567\ttotal: 6.77s\tremaining: 13.4s\n",
      "335:\tlearn: 1.7151413\ttotal: 6.78s\tremaining: 13.4s\n",
      "336:\tlearn: 1.7129925\ttotal: 6.8s\tremaining: 13.4s\n",
      "337:\tlearn: 1.7067113\ttotal: 6.81s\tremaining: 13.3s\n",
      "338:\tlearn: 1.7013026\ttotal: 6.83s\tremaining: 13.3s\n",
      "339:\tlearn: 1.6970134\ttotal: 6.84s\tremaining: 13.3s\n",
      "340:\tlearn: 1.6928481\ttotal: 6.86s\tremaining: 13.3s\n",
      "341:\tlearn: 1.6911629\ttotal: 6.88s\tremaining: 13.2s\n",
      "342:\tlearn: 1.6860225\ttotal: 6.89s\tremaining: 13.2s\n",
      "343:\tlearn: 1.6842890\ttotal: 6.91s\tremaining: 13.2s\n",
      "344:\tlearn: 1.6807995\ttotal: 6.92s\tremaining: 13.1s\n",
      "345:\tlearn: 1.6767299\ttotal: 6.94s\tremaining: 13.1s\n",
      "346:\tlearn: 1.6722239\ttotal: 6.96s\tremaining: 13.1s\n",
      "347:\tlearn: 1.6688248\ttotal: 6.97s\tremaining: 13.1s\n",
      "348:\tlearn: 1.6640483\ttotal: 6.99s\tremaining: 13s\n",
      "349:\tlearn: 1.6614413\ttotal: 7.01s\tremaining: 13s\n",
      "350:\tlearn: 1.6575134\ttotal: 7.02s\tremaining: 13s\n",
      "351:\tlearn: 1.6548604\ttotal: 7.04s\tremaining: 13s\n",
      "352:\tlearn: 1.6509388\ttotal: 7.05s\tremaining: 12.9s\n",
      "353:\tlearn: 1.6465700\ttotal: 7.07s\tremaining: 12.9s\n",
      "354:\tlearn: 1.6436865\ttotal: 7.09s\tremaining: 12.9s\n",
      "355:\tlearn: 1.6395466\ttotal: 7.11s\tremaining: 12.9s\n",
      "356:\tlearn: 1.6336105\ttotal: 7.12s\tremaining: 12.8s\n",
      "357:\tlearn: 1.6288574\ttotal: 7.14s\tremaining: 12.8s\n",
      "358:\tlearn: 1.6253985\ttotal: 7.15s\tremaining: 12.8s\n",
      "359:\tlearn: 1.6236074\ttotal: 7.17s\tremaining: 12.7s\n",
      "360:\tlearn: 1.6204904\ttotal: 7.18s\tremaining: 12.7s\n",
      "361:\tlearn: 1.6188819\ttotal: 7.2s\tremaining: 12.7s\n",
      "362:\tlearn: 1.6171572\ttotal: 7.22s\tremaining: 12.7s\n",
      "363:\tlearn: 1.6141714\ttotal: 7.24s\tremaining: 12.6s\n",
      "364:\tlearn: 1.6107139\ttotal: 7.25s\tremaining: 12.6s\n",
      "365:\tlearn: 1.6060019\ttotal: 7.27s\tremaining: 12.6s\n",
      "366:\tlearn: 1.6023073\ttotal: 7.29s\tremaining: 12.6s\n",
      "367:\tlearn: 1.5994675\ttotal: 7.3s\tremaining: 12.5s\n",
      "368:\tlearn: 1.5971839\ttotal: 7.32s\tremaining: 12.5s\n",
      "369:\tlearn: 1.5917769\ttotal: 7.34s\tremaining: 12.5s\n",
      "370:\tlearn: 1.5881430\ttotal: 7.36s\tremaining: 12.5s\n",
      "371:\tlearn: 1.5842834\ttotal: 7.37s\tremaining: 12.4s\n",
      "372:\tlearn: 1.5810535\ttotal: 7.39s\tremaining: 12.4s\n",
      "373:\tlearn: 1.5776732\ttotal: 7.41s\tremaining: 12.4s\n",
      "374:\tlearn: 1.5741553\ttotal: 7.42s\tremaining: 12.4s\n",
      "375:\tlearn: 1.5708121\ttotal: 7.44s\tremaining: 12.3s\n",
      "376:\tlearn: 1.5668101\ttotal: 7.46s\tremaining: 12.3s\n",
      "377:\tlearn: 1.5652718\ttotal: 7.47s\tremaining: 12.3s\n",
      "378:\tlearn: 1.5643057\ttotal: 7.49s\tremaining: 12.3s\n",
      "379:\tlearn: 1.5630836\ttotal: 7.5s\tremaining: 12.2s\n",
      "380:\tlearn: 1.5601601\ttotal: 7.52s\tremaining: 12.2s\n",
      "381:\tlearn: 1.5565918\ttotal: 7.54s\tremaining: 12.2s\n",
      "382:\tlearn: 1.5551459\ttotal: 7.55s\tremaining: 12.2s\n",
      "383:\tlearn: 1.5490588\ttotal: 7.57s\tremaining: 12.1s\n",
      "384:\tlearn: 1.5445528\ttotal: 7.58s\tremaining: 12.1s\n",
      "385:\tlearn: 1.5408892\ttotal: 7.6s\tremaining: 12.1s\n",
      "386:\tlearn: 1.5388290\ttotal: 7.62s\tremaining: 12.1s\n",
      "387:\tlearn: 1.5344249\ttotal: 7.64s\tremaining: 12s\n",
      "388:\tlearn: 1.5304771\ttotal: 7.65s\tremaining: 12s\n",
      "389:\tlearn: 1.5271256\ttotal: 7.67s\tremaining: 12s\n",
      "390:\tlearn: 1.5254782\ttotal: 7.69s\tremaining: 12s\n",
      "391:\tlearn: 1.5230269\ttotal: 7.71s\tremaining: 12s\n",
      "392:\tlearn: 1.5194363\ttotal: 7.72s\tremaining: 11.9s\n",
      "393:\tlearn: 1.5179583\ttotal: 7.74s\tremaining: 11.9s\n",
      "394:\tlearn: 1.5133369\ttotal: 7.75s\tremaining: 11.9s\n",
      "395:\tlearn: 1.5094852\ttotal: 7.77s\tremaining: 11.9s\n",
      "396:\tlearn: 1.5076210\ttotal: 7.79s\tremaining: 11.8s\n",
      "397:\tlearn: 1.5051958\ttotal: 7.8s\tremaining: 11.8s\n",
      "398:\tlearn: 1.5026558\ttotal: 7.82s\tremaining: 11.8s\n",
      "399:\tlearn: 1.4962774\ttotal: 7.83s\tremaining: 11.7s\n",
      "400:\tlearn: 1.4958394\ttotal: 7.85s\tremaining: 11.7s\n",
      "401:\tlearn: 1.4914744\ttotal: 7.87s\tremaining: 11.7s\n",
      "402:\tlearn: 1.4879000\ttotal: 7.88s\tremaining: 11.7s\n",
      "403:\tlearn: 1.4839137\ttotal: 7.9s\tremaining: 11.7s\n",
      "404:\tlearn: 1.4819067\ttotal: 7.91s\tremaining: 11.6s\n",
      "405:\tlearn: 1.4798323\ttotal: 7.93s\tremaining: 11.6s\n",
      "406:\tlearn: 1.4773885\ttotal: 7.94s\tremaining: 11.6s\n",
      "407:\tlearn: 1.4745332\ttotal: 7.96s\tremaining: 11.5s\n",
      "408:\tlearn: 1.4704986\ttotal: 7.97s\tremaining: 11.5s\n",
      "409:\tlearn: 1.4688062\ttotal: 7.99s\tremaining: 11.5s\n",
      "410:\tlearn: 1.4657002\ttotal: 8s\tremaining: 11.5s\n",
      "411:\tlearn: 1.4620816\ttotal: 8.02s\tremaining: 11.4s\n",
      "412:\tlearn: 1.4585588\ttotal: 8.03s\tremaining: 11.4s\n",
      "413:\tlearn: 1.4551324\ttotal: 8.05s\tremaining: 11.4s\n",
      "414:\tlearn: 1.4518470\ttotal: 8.06s\tremaining: 11.4s\n",
      "415:\tlearn: 1.4481547\ttotal: 8.08s\tremaining: 11.3s\n",
      "416:\tlearn: 1.4447207\ttotal: 8.1s\tremaining: 11.3s\n",
      "417:\tlearn: 1.4431605\ttotal: 8.11s\tremaining: 11.3s\n",
      "418:\tlearn: 1.4407316\ttotal: 8.13s\tremaining: 11.3s\n",
      "419:\tlearn: 1.4389840\ttotal: 8.15s\tremaining: 11.2s\n",
      "420:\tlearn: 1.4372859\ttotal: 8.16s\tremaining: 11.2s\n",
      "421:\tlearn: 1.4347317\ttotal: 8.18s\tremaining: 11.2s\n",
      "422:\tlearn: 1.4299204\ttotal: 8.19s\tremaining: 11.2s\n",
      "423:\tlearn: 1.4254563\ttotal: 8.21s\tremaining: 11.1s\n",
      "424:\tlearn: 1.4225795\ttotal: 8.22s\tremaining: 11.1s\n",
      "425:\tlearn: 1.4174408\ttotal: 8.24s\tremaining: 11.1s\n",
      "426:\tlearn: 1.4145867\ttotal: 8.26s\tremaining: 11.1s\n",
      "427:\tlearn: 1.4115089\ttotal: 8.27s\tremaining: 11.1s\n",
      "428:\tlearn: 1.4090995\ttotal: 8.29s\tremaining: 11s\n",
      "429:\tlearn: 1.4072827\ttotal: 8.3s\tremaining: 11s\n",
      "430:\tlearn: 1.4056968\ttotal: 8.32s\tremaining: 11s\n",
      "431:\tlearn: 1.4029276\ttotal: 8.34s\tremaining: 11s\n",
      "432:\tlearn: 1.4001462\ttotal: 8.35s\tremaining: 10.9s\n",
      "433:\tlearn: 1.3960060\ttotal: 8.37s\tremaining: 10.9s\n",
      "434:\tlearn: 1.3930395\ttotal: 8.38s\tremaining: 10.9s\n",
      "435:\tlearn: 1.3914128\ttotal: 8.4s\tremaining: 10.9s\n",
      "436:\tlearn: 1.3888134\ttotal: 8.41s\tremaining: 10.8s\n",
      "437:\tlearn: 1.3875516\ttotal: 8.43s\tremaining: 10.8s\n",
      "438:\tlearn: 1.3857666\ttotal: 8.45s\tremaining: 10.8s\n",
      "439:\tlearn: 1.3844642\ttotal: 8.47s\tremaining: 10.8s\n",
      "440:\tlearn: 1.3826721\ttotal: 8.49s\tremaining: 10.8s\n",
      "441:\tlearn: 1.3809463\ttotal: 8.5s\tremaining: 10.7s\n",
      "442:\tlearn: 1.3774527\ttotal: 8.52s\tremaining: 10.7s\n",
      "443:\tlearn: 1.3755706\ttotal: 8.54s\tremaining: 10.7s\n",
      "444:\tlearn: 1.3740049\ttotal: 8.55s\tremaining: 10.7s\n",
      "445:\tlearn: 1.3727630\ttotal: 8.57s\tremaining: 10.6s\n",
      "446:\tlearn: 1.3688095\ttotal: 8.58s\tremaining: 10.6s\n",
      "447:\tlearn: 1.3676522\ttotal: 8.61s\tremaining: 10.6s\n",
      "448:\tlearn: 1.3652663\ttotal: 8.62s\tremaining: 10.6s\n",
      "449:\tlearn: 1.3634869\ttotal: 8.64s\tremaining: 10.6s\n",
      "450:\tlearn: 1.3588914\ttotal: 8.66s\tremaining: 10.5s\n",
      "451:\tlearn: 1.3578548\ttotal: 8.68s\tremaining: 10.5s\n",
      "452:\tlearn: 1.3569578\ttotal: 8.69s\tremaining: 10.5s\n",
      "453:\tlearn: 1.3550087\ttotal: 8.71s\tremaining: 10.5s\n",
      "454:\tlearn: 1.3521698\ttotal: 8.73s\tremaining: 10.5s\n",
      "455:\tlearn: 1.3487756\ttotal: 8.74s\tremaining: 10.4s\n",
      "456:\tlearn: 1.3466669\ttotal: 8.76s\tremaining: 10.4s\n",
      "457:\tlearn: 1.3463617\ttotal: 8.78s\tremaining: 10.4s\n",
      "458:\tlearn: 1.3423297\ttotal: 8.8s\tremaining: 10.4s\n",
      "459:\tlearn: 1.3387254\ttotal: 8.81s\tremaining: 10.3s\n",
      "460:\tlearn: 1.3358703\ttotal: 8.83s\tremaining: 10.3s\n",
      "461:\tlearn: 1.3334653\ttotal: 8.85s\tremaining: 10.3s\n",
      "462:\tlearn: 1.3308682\ttotal: 8.87s\tremaining: 10.3s\n",
      "463:\tlearn: 1.3289653\ttotal: 8.89s\tremaining: 10.3s\n",
      "464:\tlearn: 1.3264218\ttotal: 8.91s\tremaining: 10.2s\n",
      "465:\tlearn: 1.3234636\ttotal: 8.93s\tremaining: 10.2s\n",
      "466:\tlearn: 1.3215434\ttotal: 8.94s\tremaining: 10.2s\n",
      "467:\tlearn: 1.3201976\ttotal: 8.96s\tremaining: 10.2s\n",
      "468:\tlearn: 1.3173856\ttotal: 8.98s\tremaining: 10.2s\n",
      "469:\tlearn: 1.3148693\ttotal: 8.99s\tremaining: 10.1s\n",
      "470:\tlearn: 1.3125681\ttotal: 9.01s\tremaining: 10.1s\n",
      "471:\tlearn: 1.3102543\ttotal: 9.03s\tremaining: 10.1s\n",
      "472:\tlearn: 1.3087296\ttotal: 9.04s\tremaining: 10.1s\n",
      "473:\tlearn: 1.3066733\ttotal: 9.05s\tremaining: 10s\n",
      "474:\tlearn: 1.3038789\ttotal: 9.07s\tremaining: 10s\n",
      "475:\tlearn: 1.2997021\ttotal: 9.08s\tremaining: 10s\n",
      "476:\tlearn: 1.2977512\ttotal: 9.1s\tremaining: 9.98s\n",
      "477:\tlearn: 1.2946981\ttotal: 9.12s\tremaining: 9.96s\n",
      "478:\tlearn: 1.2926662\ttotal: 9.13s\tremaining: 9.93s\n",
      "479:\tlearn: 1.2921860\ttotal: 9.14s\tremaining: 9.91s\n",
      "480:\tlearn: 1.2893240\ttotal: 9.16s\tremaining: 9.88s\n",
      "481:\tlearn: 1.2859782\ttotal: 9.18s\tremaining: 9.86s\n",
      "482:\tlearn: 1.2827226\ttotal: 9.19s\tremaining: 9.84s\n",
      "483:\tlearn: 1.2809272\ttotal: 9.21s\tremaining: 9.82s\n",
      "484:\tlearn: 1.2786414\ttotal: 9.22s\tremaining: 9.79s\n",
      "485:\tlearn: 1.2761528\ttotal: 9.24s\tremaining: 9.77s\n",
      "486:\tlearn: 1.2724826\ttotal: 9.25s\tremaining: 9.74s\n",
      "487:\tlearn: 1.2695398\ttotal: 9.26s\tremaining: 9.72s\n",
      "488:\tlearn: 1.2686821\ttotal: 9.28s\tremaining: 9.7s\n",
      "489:\tlearn: 1.2653238\ttotal: 9.29s\tremaining: 9.67s\n",
      "490:\tlearn: 1.2626286\ttotal: 9.31s\tremaining: 9.65s\n",
      "491:\tlearn: 1.2618592\ttotal: 9.33s\tremaining: 9.63s\n",
      "492:\tlearn: 1.2591124\ttotal: 9.34s\tremaining: 9.61s\n",
      "493:\tlearn: 1.2581803\ttotal: 9.36s\tremaining: 9.58s\n",
      "494:\tlearn: 1.2570669\ttotal: 9.37s\tremaining: 9.56s\n",
      "495:\tlearn: 1.2548798\ttotal: 9.39s\tremaining: 9.54s\n",
      "496:\tlearn: 1.2535624\ttotal: 9.4s\tremaining: 9.51s\n",
      "497:\tlearn: 1.2513393\ttotal: 9.41s\tremaining: 9.49s\n",
      "498:\tlearn: 1.2490724\ttotal: 9.43s\tremaining: 9.47s\n",
      "499:\tlearn: 1.2449895\ttotal: 9.45s\tremaining: 9.45s\n",
      "500:\tlearn: 1.2441770\ttotal: 9.46s\tremaining: 9.42s\n",
      "501:\tlearn: 1.2406770\ttotal: 9.47s\tremaining: 9.4s\n",
      "502:\tlearn: 1.2399730\ttotal: 9.49s\tremaining: 9.38s\n",
      "503:\tlearn: 1.2376701\ttotal: 9.51s\tremaining: 9.36s\n",
      "504:\tlearn: 1.2354664\ttotal: 9.52s\tremaining: 9.33s\n",
      "505:\tlearn: 1.2333908\ttotal: 9.54s\tremaining: 9.31s\n",
      "506:\tlearn: 1.2309207\ttotal: 9.55s\tremaining: 9.29s\n",
      "507:\tlearn: 1.2291478\ttotal: 9.57s\tremaining: 9.27s\n",
      "508:\tlearn: 1.2266203\ttotal: 9.58s\tremaining: 9.24s\n",
      "509:\tlearn: 1.2235577\ttotal: 9.6s\tremaining: 9.22s\n",
      "510:\tlearn: 1.2219284\ttotal: 9.61s\tremaining: 9.2s\n",
      "511:\tlearn: 1.2202564\ttotal: 9.63s\tremaining: 9.17s\n",
      "512:\tlearn: 1.2188078\ttotal: 9.64s\tremaining: 9.15s\n",
      "513:\tlearn: 1.2170711\ttotal: 9.65s\tremaining: 9.13s\n",
      "514:\tlearn: 1.2151499\ttotal: 9.67s\tremaining: 9.11s\n",
      "515:\tlearn: 1.2133815\ttotal: 9.69s\tremaining: 9.08s\n",
      "516:\tlearn: 1.2116812\ttotal: 9.7s\tremaining: 9.06s\n",
      "517:\tlearn: 1.2101023\ttotal: 9.72s\tremaining: 9.04s\n",
      "518:\tlearn: 1.2096347\ttotal: 9.73s\tremaining: 9.02s\n",
      "519:\tlearn: 1.2080506\ttotal: 9.75s\tremaining: 9s\n",
      "520:\tlearn: 1.2063248\ttotal: 9.77s\tremaining: 8.98s\n",
      "521:\tlearn: 1.2041506\ttotal: 9.78s\tremaining: 8.96s\n",
      "522:\tlearn: 1.2015412\ttotal: 9.8s\tremaining: 8.94s\n",
      "523:\tlearn: 1.1998457\ttotal: 9.82s\tremaining: 8.92s\n",
      "524:\tlearn: 1.1984771\ttotal: 9.84s\tremaining: 8.9s\n",
      "525:\tlearn: 1.1963911\ttotal: 9.85s\tremaining: 8.88s\n",
      "526:\tlearn: 1.1956581\ttotal: 9.87s\tremaining: 8.86s\n",
      "527:\tlearn: 1.1928579\ttotal: 9.89s\tremaining: 8.84s\n",
      "528:\tlearn: 1.1909487\ttotal: 9.91s\tremaining: 8.82s\n",
      "529:\tlearn: 1.1892220\ttotal: 9.93s\tremaining: 8.8s\n",
      "530:\tlearn: 1.1883499\ttotal: 9.95s\tremaining: 8.79s\n",
      "531:\tlearn: 1.1863470\ttotal: 9.97s\tremaining: 8.77s\n",
      "532:\tlearn: 1.1841203\ttotal: 9.98s\tremaining: 8.75s\n",
      "533:\tlearn: 1.1820582\ttotal: 10s\tremaining: 8.72s\n",
      "534:\tlearn: 1.1807335\ttotal: 10s\tremaining: 8.7s\n",
      "535:\tlearn: 1.1775997\ttotal: 10s\tremaining: 8.68s\n",
      "536:\tlearn: 1.1751218\ttotal: 10s\tremaining: 8.66s\n",
      "537:\tlearn: 1.1736896\ttotal: 10.1s\tremaining: 8.64s\n",
      "538:\tlearn: 1.1719481\ttotal: 10.1s\tremaining: 8.61s\n",
      "539:\tlearn: 1.1697597\ttotal: 10.1s\tremaining: 8.59s\n",
      "540:\tlearn: 1.1675076\ttotal: 10.1s\tremaining: 8.57s\n",
      "541:\tlearn: 1.1670626\ttotal: 10.1s\tremaining: 8.55s\n",
      "542:\tlearn: 1.1661211\ttotal: 10.1s\tremaining: 8.53s\n",
      "543:\tlearn: 1.1633841\ttotal: 10.2s\tremaining: 8.51s\n",
      "544:\tlearn: 1.1615658\ttotal: 10.2s\tremaining: 8.49s\n",
      "545:\tlearn: 1.1608836\ttotal: 10.2s\tremaining: 8.47s\n",
      "546:\tlearn: 1.1581475\ttotal: 10.2s\tremaining: 8.46s\n",
      "547:\tlearn: 1.1563317\ttotal: 10.2s\tremaining: 8.43s\n",
      "548:\tlearn: 1.1526306\ttotal: 10.2s\tremaining: 8.41s\n",
      "549:\tlearn: 1.1518002\ttotal: 10.3s\tremaining: 8.39s\n",
      "550:\tlearn: 1.1512388\ttotal: 10.3s\tremaining: 8.37s\n",
      "551:\tlearn: 1.1509328\ttotal: 10.3s\tremaining: 8.35s\n",
      "552:\tlearn: 1.1484569\ttotal: 10.3s\tremaining: 8.32s\n",
      "553:\tlearn: 1.1465538\ttotal: 10.3s\tremaining: 8.3s\n",
      "554:\tlearn: 1.1450212\ttotal: 10.3s\tremaining: 8.28s\n",
      "555:\tlearn: 1.1429937\ttotal: 10.4s\tremaining: 8.27s\n",
      "556:\tlearn: 1.1410426\ttotal: 10.4s\tremaining: 8.25s\n",
      "557:\tlearn: 1.1398554\ttotal: 10.4s\tremaining: 8.23s\n",
      "558:\tlearn: 1.1385469\ttotal: 10.4s\tremaining: 8.21s\n",
      "559:\tlearn: 1.1369764\ttotal: 10.4s\tremaining: 8.18s\n",
      "560:\tlearn: 1.1355744\ttotal: 10.4s\tremaining: 8.16s\n",
      "561:\tlearn: 1.1334282\ttotal: 10.4s\tremaining: 8.14s\n",
      "562:\tlearn: 1.1316068\ttotal: 10.5s\tremaining: 8.12s\n",
      "563:\tlearn: 1.1296999\ttotal: 10.5s\tremaining: 8.1s\n",
      "564:\tlearn: 1.1286216\ttotal: 10.5s\tremaining: 8.08s\n",
      "565:\tlearn: 1.1255990\ttotal: 10.5s\tremaining: 8.06s\n",
      "566:\tlearn: 1.1246846\ttotal: 10.5s\tremaining: 8.04s\n",
      "567:\tlearn: 1.1242538\ttotal: 10.5s\tremaining: 8.01s\n",
      "568:\tlearn: 1.1229383\ttotal: 10.6s\tremaining: 7.99s\n",
      "569:\tlearn: 1.1216246\ttotal: 10.6s\tremaining: 7.97s\n",
      "570:\tlearn: 1.1188928\ttotal: 10.6s\tremaining: 7.95s\n",
      "571:\tlearn: 1.1169633\ttotal: 10.6s\tremaining: 7.93s\n",
      "572:\tlearn: 1.1137355\ttotal: 10.6s\tremaining: 7.91s\n",
      "573:\tlearn: 1.1121413\ttotal: 10.6s\tremaining: 7.89s\n",
      "574:\tlearn: 1.1095041\ttotal: 10.6s\tremaining: 7.87s\n",
      "575:\tlearn: 1.1079839\ttotal: 10.7s\tremaining: 7.85s\n",
      "576:\tlearn: 1.1057614\ttotal: 10.7s\tremaining: 7.83s\n",
      "577:\tlearn: 1.1050122\ttotal: 10.7s\tremaining: 7.81s\n",
      "578:\tlearn: 1.1041214\ttotal: 10.7s\tremaining: 7.79s\n",
      "579:\tlearn: 1.1029491\ttotal: 10.7s\tremaining: 7.77s\n",
      "580:\tlearn: 1.1006751\ttotal: 10.7s\tremaining: 7.75s\n",
      "581:\tlearn: 1.0974921\ttotal: 10.8s\tremaining: 7.73s\n",
      "582:\tlearn: 1.0947153\ttotal: 10.8s\tremaining: 7.71s\n",
      "583:\tlearn: 1.0940089\ttotal: 10.8s\tremaining: 7.69s\n",
      "584:\tlearn: 1.0918865\ttotal: 10.8s\tremaining: 7.67s\n",
      "585:\tlearn: 1.0894886\ttotal: 10.8s\tremaining: 7.64s\n",
      "586:\tlearn: 1.0875680\ttotal: 10.8s\tremaining: 7.63s\n",
      "587:\tlearn: 1.0865318\ttotal: 10.9s\tremaining: 7.61s\n",
      "588:\tlearn: 1.0839366\ttotal: 10.9s\tremaining: 7.58s\n",
      "589:\tlearn: 1.0820853\ttotal: 10.9s\tremaining: 7.56s\n",
      "590:\tlearn: 1.0801482\ttotal: 10.9s\tremaining: 7.54s\n",
      "591:\tlearn: 1.0777717\ttotal: 10.9s\tremaining: 7.52s\n",
      "592:\tlearn: 1.0759709\ttotal: 10.9s\tremaining: 7.5s\n",
      "593:\tlearn: 1.0748143\ttotal: 10.9s\tremaining: 7.48s\n",
      "594:\tlearn: 1.0745528\ttotal: 11s\tremaining: 7.46s\n",
      "595:\tlearn: 1.0718379\ttotal: 11s\tremaining: 7.44s\n",
      "596:\tlearn: 1.0710567\ttotal: 11s\tremaining: 7.42s\n",
      "597:\tlearn: 1.0708153\ttotal: 11s\tremaining: 7.4s\n",
      "598:\tlearn: 1.0693282\ttotal: 11s\tremaining: 7.38s\n",
      "599:\tlearn: 1.0680423\ttotal: 11s\tremaining: 7.36s\n",
      "600:\tlearn: 1.0664991\ttotal: 11.1s\tremaining: 7.34s\n",
      "601:\tlearn: 1.0648289\ttotal: 11.1s\tremaining: 7.32s\n",
      "602:\tlearn: 1.0632598\ttotal: 11.1s\tremaining: 7.3s\n",
      "603:\tlearn: 1.0616985\ttotal: 11.1s\tremaining: 7.28s\n",
      "604:\tlearn: 1.0602954\ttotal: 11.1s\tremaining: 7.26s\n",
      "605:\tlearn: 1.0587715\ttotal: 11.1s\tremaining: 7.25s\n",
      "606:\tlearn: 1.0583235\ttotal: 11.2s\tremaining: 7.23s\n",
      "607:\tlearn: 1.0572955\ttotal: 11.2s\tremaining: 7.21s\n",
      "608:\tlearn: 1.0553063\ttotal: 11.2s\tremaining: 7.19s\n",
      "609:\tlearn: 1.0539493\ttotal: 11.2s\tremaining: 7.17s\n",
      "610:\tlearn: 1.0530402\ttotal: 11.2s\tremaining: 7.15s\n",
      "611:\tlearn: 1.0521280\ttotal: 11.2s\tremaining: 7.13s\n",
      "612:\tlearn: 1.0502232\ttotal: 11.3s\tremaining: 7.11s\n",
      "613:\tlearn: 1.0485101\ttotal: 11.3s\tremaining: 7.09s\n",
      "614:\tlearn: 1.0465546\ttotal: 11.3s\tremaining: 7.07s\n",
      "615:\tlearn: 1.0445743\ttotal: 11.3s\tremaining: 7.05s\n",
      "616:\tlearn: 1.0423115\ttotal: 11.3s\tremaining: 7.04s\n",
      "617:\tlearn: 1.0402034\ttotal: 11.4s\tremaining: 7.02s\n",
      "618:\tlearn: 1.0384718\ttotal: 11.4s\tremaining: 7s\n",
      "619:\tlearn: 1.0367326\ttotal: 11.4s\tremaining: 6.98s\n",
      "620:\tlearn: 1.0352115\ttotal: 11.4s\tremaining: 6.97s\n",
      "621:\tlearn: 1.0347060\ttotal: 11.4s\tremaining: 6.95s\n",
      "622:\tlearn: 1.0332269\ttotal: 11.4s\tremaining: 6.93s\n",
      "623:\tlearn: 1.0330217\ttotal: 11.5s\tremaining: 6.91s\n",
      "624:\tlearn: 1.0316729\ttotal: 11.5s\tremaining: 6.89s\n",
      "625:\tlearn: 1.0300920\ttotal: 11.5s\tremaining: 6.87s\n",
      "626:\tlearn: 1.0281055\ttotal: 11.5s\tremaining: 6.85s\n",
      "627:\tlearn: 1.0254900\ttotal: 11.5s\tremaining: 6.84s\n",
      "628:\tlearn: 1.0234209\ttotal: 11.6s\tremaining: 6.82s\n",
      "629:\tlearn: 1.0219500\ttotal: 11.6s\tremaining: 6.8s\n",
      "630:\tlearn: 1.0192760\ttotal: 11.6s\tremaining: 6.78s\n",
      "631:\tlearn: 1.0181289\ttotal: 11.6s\tremaining: 6.76s\n",
      "632:\tlearn: 1.0162806\ttotal: 11.6s\tremaining: 6.74s\n",
      "633:\tlearn: 1.0152751\ttotal: 11.6s\tremaining: 6.72s\n",
      "634:\tlearn: 1.0143320\ttotal: 11.7s\tremaining: 6.7s\n",
      "635:\tlearn: 1.0117054\ttotal: 11.7s\tremaining: 6.68s\n",
      "636:\tlearn: 1.0102070\ttotal: 11.7s\tremaining: 6.67s\n",
      "637:\tlearn: 1.0077014\ttotal: 11.7s\tremaining: 6.65s\n",
      "638:\tlearn: 1.0065917\ttotal: 11.7s\tremaining: 6.63s\n",
      "639:\tlearn: 1.0064040\ttotal: 11.8s\tremaining: 6.61s\n",
      "640:\tlearn: 1.0058504\ttotal: 11.8s\tremaining: 6.59s\n",
      "641:\tlearn: 1.0030020\ttotal: 11.8s\tremaining: 6.58s\n",
      "642:\tlearn: 1.0027411\ttotal: 11.8s\tremaining: 6.56s\n",
      "643:\tlearn: 1.0016478\ttotal: 11.8s\tremaining: 6.54s\n",
      "644:\tlearn: 1.0000006\ttotal: 11.8s\tremaining: 6.52s\n",
      "645:\tlearn: 0.9966942\ttotal: 11.9s\tremaining: 6.5s\n",
      "646:\tlearn: 0.9952870\ttotal: 11.9s\tremaining: 6.49s\n",
      "647:\tlearn: 0.9950589\ttotal: 11.9s\tremaining: 6.47s\n",
      "648:\tlearn: 0.9935208\ttotal: 11.9s\tremaining: 6.45s\n",
      "649:\tlearn: 0.9924273\ttotal: 11.9s\tremaining: 6.43s\n",
      "650:\tlearn: 0.9911175\ttotal: 12s\tremaining: 6.41s\n",
      "651:\tlearn: 0.9895330\ttotal: 12s\tremaining: 6.39s\n",
      "652:\tlearn: 0.9865873\ttotal: 12s\tremaining: 6.37s\n",
      "653:\tlearn: 0.9840853\ttotal: 12s\tremaining: 6.36s\n",
      "654:\tlearn: 0.9833035\ttotal: 12s\tremaining: 6.34s\n",
      "655:\tlearn: 0.9815001\ttotal: 12s\tremaining: 6.32s\n",
      "656:\tlearn: 0.9800803\ttotal: 12.1s\tremaining: 6.3s\n",
      "657:\tlearn: 0.9790363\ttotal: 12.1s\tremaining: 6.28s\n",
      "658:\tlearn: 0.9770554\ttotal: 12.1s\tremaining: 6.26s\n",
      "659:\tlearn: 0.9751929\ttotal: 12.1s\tremaining: 6.24s\n",
      "660:\tlearn: 0.9726180\ttotal: 12.1s\tremaining: 6.22s\n",
      "661:\tlearn: 0.9713096\ttotal: 12.2s\tremaining: 6.2s\n",
      "662:\tlearn: 0.9702233\ttotal: 12.2s\tremaining: 6.18s\n",
      "663:\tlearn: 0.9688743\ttotal: 12.2s\tremaining: 6.16s\n",
      "664:\tlearn: 0.9672373\ttotal: 12.2s\tremaining: 6.14s\n",
      "665:\tlearn: 0.9660542\ttotal: 12.2s\tremaining: 6.12s\n",
      "666:\tlearn: 0.9648111\ttotal: 12.2s\tremaining: 6.1s\n",
      "667:\tlearn: 0.9627522\ttotal: 12.2s\tremaining: 6.08s\n",
      "668:\tlearn: 0.9616354\ttotal: 12.2s\tremaining: 6.06s\n",
      "669:\tlearn: 0.9597366\ttotal: 12.3s\tremaining: 6.04s\n",
      "670:\tlearn: 0.9579502\ttotal: 12.3s\tremaining: 6.02s\n",
      "671:\tlearn: 0.9570797\ttotal: 12.3s\tremaining: 6s\n",
      "672:\tlearn: 0.9551149\ttotal: 12.3s\tremaining: 5.99s\n",
      "673:\tlearn: 0.9536657\ttotal: 12.3s\tremaining: 5.97s\n",
      "674:\tlearn: 0.9521369\ttotal: 12.4s\tremaining: 5.95s\n",
      "675:\tlearn: 0.9499688\ttotal: 12.4s\tremaining: 5.93s\n",
      "676:\tlearn: 0.9485058\ttotal: 12.4s\tremaining: 5.91s\n",
      "677:\tlearn: 0.9472330\ttotal: 12.4s\tremaining: 5.89s\n",
      "678:\tlearn: 0.9460729\ttotal: 12.4s\tremaining: 5.87s\n",
      "679:\tlearn: 0.9454684\ttotal: 12.4s\tremaining: 5.85s\n",
      "680:\tlearn: 0.9427282\ttotal: 12.5s\tremaining: 5.83s\n",
      "681:\tlearn: 0.9420696\ttotal: 12.5s\tremaining: 5.82s\n",
      "682:\tlearn: 0.9404694\ttotal: 12.5s\tremaining: 5.79s\n",
      "683:\tlearn: 0.9391347\ttotal: 12.5s\tremaining: 5.78s\n",
      "684:\tlearn: 0.9365073\ttotal: 12.5s\tremaining: 5.76s\n",
      "685:\tlearn: 0.9350462\ttotal: 12.5s\tremaining: 5.74s\n",
      "686:\tlearn: 0.9345228\ttotal: 12.6s\tremaining: 5.72s\n",
      "687:\tlearn: 0.9332576\ttotal: 12.6s\tremaining: 5.7s\n",
      "688:\tlearn: 0.9308264\ttotal: 12.6s\tremaining: 5.68s\n",
      "689:\tlearn: 0.9292990\ttotal: 12.6s\tremaining: 5.66s\n",
      "690:\tlearn: 0.9279244\ttotal: 12.6s\tremaining: 5.64s\n",
      "691:\tlearn: 0.9263523\ttotal: 12.6s\tremaining: 5.62s\n",
      "692:\tlearn: 0.9253022\ttotal: 12.7s\tremaining: 5.6s\n",
      "693:\tlearn: 0.9247206\ttotal: 12.7s\tremaining: 5.58s\n",
      "694:\tlearn: 0.9223547\ttotal: 12.7s\tremaining: 5.57s\n",
      "695:\tlearn: 0.9210967\ttotal: 12.7s\tremaining: 5.55s\n",
      "696:\tlearn: 0.9196051\ttotal: 12.7s\tremaining: 5.53s\n",
      "697:\tlearn: 0.9179092\ttotal: 12.7s\tremaining: 5.51s\n",
      "698:\tlearn: 0.9176775\ttotal: 12.8s\tremaining: 5.5s\n",
      "699:\tlearn: 0.9169637\ttotal: 12.8s\tremaining: 5.48s\n",
      "700:\tlearn: 0.9160947\ttotal: 12.8s\tremaining: 5.46s\n",
      "701:\tlearn: 0.9145695\ttotal: 12.8s\tremaining: 5.44s\n",
      "702:\tlearn: 0.9123177\ttotal: 12.8s\tremaining: 5.42s\n",
      "703:\tlearn: 0.9114146\ttotal: 12.9s\tremaining: 5.4s\n",
      "704:\tlearn: 0.9108196\ttotal: 12.9s\tremaining: 5.38s\n",
      "705:\tlearn: 0.9098587\ttotal: 12.9s\tremaining: 5.37s\n",
      "706:\tlearn: 0.9085440\ttotal: 12.9s\tremaining: 5.35s\n",
      "707:\tlearn: 0.9080336\ttotal: 12.9s\tremaining: 5.33s\n",
      "708:\tlearn: 0.9078521\ttotal: 12.9s\tremaining: 5.31s\n",
      "709:\tlearn: 0.9073352\ttotal: 13s\tremaining: 5.29s\n",
      "710:\tlearn: 0.9060930\ttotal: 13s\tremaining: 5.28s\n",
      "711:\tlearn: 0.9051699\ttotal: 13s\tremaining: 5.26s\n",
      "712:\tlearn: 0.9034117\ttotal: 13s\tremaining: 5.24s\n",
      "713:\tlearn: 0.9018827\ttotal: 13s\tremaining: 5.22s\n",
      "714:\tlearn: 0.9013536\ttotal: 13s\tremaining: 5.2s\n",
      "715:\tlearn: 0.9001427\ttotal: 13.1s\tremaining: 5.18s\n",
      "716:\tlearn: 0.8985062\ttotal: 13.1s\tremaining: 5.16s\n",
      "717:\tlearn: 0.8968576\ttotal: 13.1s\tremaining: 5.14s\n",
      "718:\tlearn: 0.8948939\ttotal: 13.1s\tremaining: 5.13s\n",
      "719:\tlearn: 0.8928894\ttotal: 13.1s\tremaining: 5.11s\n",
      "720:\tlearn: 0.8916163\ttotal: 13.1s\tremaining: 5.09s\n",
      "721:\tlearn: 0.8905952\ttotal: 13.2s\tremaining: 5.07s\n",
      "722:\tlearn: 0.8889933\ttotal: 13.2s\tremaining: 5.05s\n",
      "723:\tlearn: 0.8888527\ttotal: 13.2s\tremaining: 5.03s\n",
      "724:\tlearn: 0.8881703\ttotal: 13.2s\tremaining: 5.01s\n",
      "725:\tlearn: 0.8863736\ttotal: 13.2s\tremaining: 4.99s\n",
      "726:\tlearn: 0.8862597\ttotal: 13.2s\tremaining: 4.97s\n",
      "727:\tlearn: 0.8859329\ttotal: 13.3s\tremaining: 4.95s\n",
      "728:\tlearn: 0.8846423\ttotal: 13.3s\tremaining: 4.93s\n",
      "729:\tlearn: 0.8829144\ttotal: 13.3s\tremaining: 4.91s\n",
      "730:\tlearn: 0.8815009\ttotal: 13.3s\tremaining: 4.89s\n",
      "731:\tlearn: 0.8806302\ttotal: 13.3s\tremaining: 4.87s\n",
      "732:\tlearn: 0.8789459\ttotal: 13.3s\tremaining: 4.85s\n",
      "733:\tlearn: 0.8771101\ttotal: 13.3s\tremaining: 4.84s\n",
      "734:\tlearn: 0.8762981\ttotal: 13.4s\tremaining: 4.82s\n",
      "735:\tlearn: 0.8751451\ttotal: 13.4s\tremaining: 4.8s\n",
      "736:\tlearn: 0.8744153\ttotal: 13.4s\tremaining: 4.78s\n",
      "737:\tlearn: 0.8724794\ttotal: 13.4s\tremaining: 4.76s\n",
      "738:\tlearn: 0.8716500\ttotal: 13.4s\tremaining: 4.74s\n",
      "739:\tlearn: 0.8705263\ttotal: 13.4s\tremaining: 4.72s\n",
      "740:\tlearn: 0.8681071\ttotal: 13.5s\tremaining: 4.7s\n",
      "741:\tlearn: 0.8670101\ttotal: 13.5s\tremaining: 4.69s\n",
      "742:\tlearn: 0.8656348\ttotal: 13.5s\tremaining: 4.67s\n",
      "743:\tlearn: 0.8652585\ttotal: 13.5s\tremaining: 4.65s\n",
      "744:\tlearn: 0.8651332\ttotal: 13.5s\tremaining: 4.63s\n",
      "745:\tlearn: 0.8633656\ttotal: 13.6s\tremaining: 4.61s\n",
      "746:\tlearn: 0.8629342\ttotal: 13.6s\tremaining: 4.59s\n",
      "747:\tlearn: 0.8617041\ttotal: 13.6s\tremaining: 4.58s\n",
      "748:\tlearn: 0.8612229\ttotal: 13.6s\tremaining: 4.56s\n",
      "749:\tlearn: 0.8599937\ttotal: 13.6s\tremaining: 4.54s\n",
      "750:\tlearn: 0.8595188\ttotal: 13.6s\tremaining: 4.52s\n",
      "751:\tlearn: 0.8583267\ttotal: 13.7s\tremaining: 4.5s\n",
      "752:\tlearn: 0.8565657\ttotal: 13.7s\tremaining: 4.49s\n",
      "753:\tlearn: 0.8554305\ttotal: 13.7s\tremaining: 4.47s\n",
      "754:\tlearn: 0.8545798\ttotal: 13.7s\tremaining: 4.45s\n",
      "755:\tlearn: 0.8536877\ttotal: 13.7s\tremaining: 4.43s\n",
      "756:\tlearn: 0.8532977\ttotal: 13.7s\tremaining: 4.41s\n",
      "757:\tlearn: 0.8509197\ttotal: 13.8s\tremaining: 4.39s\n",
      "758:\tlearn: 0.8498075\ttotal: 13.8s\tremaining: 4.37s\n",
      "759:\tlearn: 0.8495453\ttotal: 13.8s\tremaining: 4.36s\n",
      "760:\tlearn: 0.8475376\ttotal: 13.8s\tremaining: 4.34s\n",
      "761:\tlearn: 0.8463600\ttotal: 13.8s\tremaining: 4.32s\n",
      "762:\tlearn: 0.8452669\ttotal: 13.8s\tremaining: 4.3s\n",
      "763:\tlearn: 0.8444911\ttotal: 13.9s\tremaining: 4.28s\n",
      "764:\tlearn: 0.8431915\ttotal: 13.9s\tremaining: 4.26s\n",
      "765:\tlearn: 0.8421715\ttotal: 13.9s\tremaining: 4.25s\n",
      "766:\tlearn: 0.8408762\ttotal: 13.9s\tremaining: 4.23s\n",
      "767:\tlearn: 0.8400804\ttotal: 13.9s\tremaining: 4.21s\n",
      "768:\tlearn: 0.8393730\ttotal: 14s\tremaining: 4.19s\n",
      "769:\tlearn: 0.8384870\ttotal: 14s\tremaining: 4.17s\n",
      "770:\tlearn: 0.8372507\ttotal: 14s\tremaining: 4.16s\n",
      "771:\tlearn: 0.8356069\ttotal: 14s\tremaining: 4.14s\n",
      "772:\tlearn: 0.8342167\ttotal: 14s\tremaining: 4.12s\n",
      "773:\tlearn: 0.8323669\ttotal: 14.1s\tremaining: 4.1s\n",
      "774:\tlearn: 0.8309451\ttotal: 14.1s\tremaining: 4.09s\n",
      "775:\tlearn: 0.8292345\ttotal: 14.1s\tremaining: 4.07s\n",
      "776:\tlearn: 0.8283038\ttotal: 14.1s\tremaining: 4.05s\n",
      "777:\tlearn: 0.8279955\ttotal: 14.1s\tremaining: 4.03s\n",
      "778:\tlearn: 0.8263428\ttotal: 14.1s\tremaining: 4.01s\n",
      "779:\tlearn: 0.8255631\ttotal: 14.2s\tremaining: 4s\n",
      "780:\tlearn: 0.8245416\ttotal: 14.2s\tremaining: 3.98s\n",
      "781:\tlearn: 0.8239021\ttotal: 14.2s\tremaining: 3.96s\n",
      "782:\tlearn: 0.8229746\ttotal: 14.2s\tremaining: 3.94s\n",
      "783:\tlearn: 0.8224557\ttotal: 14.2s\tremaining: 3.92s\n",
      "784:\tlearn: 0.8215969\ttotal: 14.2s\tremaining: 3.9s\n",
      "785:\tlearn: 0.8202630\ttotal: 14.3s\tremaining: 3.88s\n",
      "786:\tlearn: 0.8199879\ttotal: 14.3s\tremaining: 3.86s\n",
      "787:\tlearn: 0.8187604\ttotal: 14.3s\tremaining: 3.85s\n",
      "788:\tlearn: 0.8171168\ttotal: 14.3s\tremaining: 3.83s\n",
      "789:\tlearn: 0.8149390\ttotal: 14.3s\tremaining: 3.81s\n",
      "790:\tlearn: 0.8138523\ttotal: 14.3s\tremaining: 3.79s\n",
      "791:\tlearn: 0.8125269\ttotal: 14.4s\tremaining: 3.77s\n",
      "792:\tlearn: 0.8114911\ttotal: 14.4s\tremaining: 3.75s\n",
      "793:\tlearn: 0.8101904\ttotal: 14.4s\tremaining: 3.73s\n",
      "794:\tlearn: 0.8091088\ttotal: 14.4s\tremaining: 3.71s\n",
      "795:\tlearn: 0.8088009\ttotal: 14.4s\tremaining: 3.7s\n",
      "796:\tlearn: 0.8079351\ttotal: 14.4s\tremaining: 3.68s\n",
      "797:\tlearn: 0.8068171\ttotal: 14.5s\tremaining: 3.66s\n",
      "798:\tlearn: 0.8056684\ttotal: 14.5s\tremaining: 3.64s\n",
      "799:\tlearn: 0.8053330\ttotal: 14.5s\tremaining: 3.62s\n",
      "800:\tlearn: 0.8045797\ttotal: 14.5s\tremaining: 3.61s\n",
      "801:\tlearn: 0.8033788\ttotal: 14.5s\tremaining: 3.59s\n",
      "802:\tlearn: 0.8020269\ttotal: 14.6s\tremaining: 3.57s\n",
      "803:\tlearn: 0.8011923\ttotal: 14.6s\tremaining: 3.55s\n",
      "804:\tlearn: 0.8010401\ttotal: 14.6s\tremaining: 3.53s\n",
      "805:\tlearn: 0.7994267\ttotal: 14.6s\tremaining: 3.52s\n",
      "806:\tlearn: 0.7986583\ttotal: 14.6s\tremaining: 3.5s\n",
      "807:\tlearn: 0.7975296\ttotal: 14.6s\tremaining: 3.48s\n",
      "808:\tlearn: 0.7964591\ttotal: 14.7s\tremaining: 3.46s\n",
      "809:\tlearn: 0.7952495\ttotal: 14.7s\tremaining: 3.44s\n",
      "810:\tlearn: 0.7949550\ttotal: 14.7s\tremaining: 3.42s\n",
      "811:\tlearn: 0.7940585\ttotal: 14.7s\tremaining: 3.4s\n",
      "812:\tlearn: 0.7928549\ttotal: 14.7s\tremaining: 3.38s\n",
      "813:\tlearn: 0.7918969\ttotal: 14.7s\tremaining: 3.37s\n",
      "814:\tlearn: 0.7914686\ttotal: 14.8s\tremaining: 3.35s\n",
      "815:\tlearn: 0.7905027\ttotal: 14.8s\tremaining: 3.33s\n",
      "816:\tlearn: 0.7902295\ttotal: 14.8s\tremaining: 3.31s\n",
      "817:\tlearn: 0.7890926\ttotal: 14.8s\tremaining: 3.29s\n",
      "818:\tlearn: 0.7889334\ttotal: 14.8s\tremaining: 3.27s\n",
      "819:\tlearn: 0.7882324\ttotal: 14.8s\tremaining: 3.26s\n",
      "820:\tlearn: 0.7872288\ttotal: 14.9s\tremaining: 3.24s\n",
      "821:\tlearn: 0.7862721\ttotal: 14.9s\tremaining: 3.22s\n",
      "822:\tlearn: 0.7851242\ttotal: 14.9s\tremaining: 3.21s\n",
      "823:\tlearn: 0.7836048\ttotal: 14.9s\tremaining: 3.19s\n",
      "824:\tlearn: 0.7833966\ttotal: 14.9s\tremaining: 3.17s\n",
      "825:\tlearn: 0.7822416\ttotal: 15s\tremaining: 3.15s\n",
      "826:\tlearn: 0.7816795\ttotal: 15s\tremaining: 3.13s\n",
      "827:\tlearn: 0.7808222\ttotal: 15s\tremaining: 3.12s\n",
      "828:\tlearn: 0.7799784\ttotal: 15s\tremaining: 3.1s\n",
      "829:\tlearn: 0.7796518\ttotal: 15s\tremaining: 3.08s\n",
      "830:\tlearn: 0.7784777\ttotal: 15.1s\tremaining: 3.06s\n",
      "831:\tlearn: 0.7768344\ttotal: 15.1s\tremaining: 3.05s\n",
      "832:\tlearn: 0.7758447\ttotal: 15.1s\tremaining: 3.03s\n",
      "833:\tlearn: 0.7747177\ttotal: 15.1s\tremaining: 3.01s\n",
      "834:\tlearn: 0.7736725\ttotal: 15.1s\tremaining: 2.99s\n",
      "835:\tlearn: 0.7723436\ttotal: 15.2s\tremaining: 2.97s\n",
      "836:\tlearn: 0.7713435\ttotal: 15.2s\tremaining: 2.96s\n",
      "837:\tlearn: 0.7702435\ttotal: 15.2s\tremaining: 2.94s\n",
      "838:\tlearn: 0.7695966\ttotal: 15.2s\tremaining: 2.92s\n",
      "839:\tlearn: 0.7687898\ttotal: 15.2s\tremaining: 2.9s\n",
      "840:\tlearn: 0.7682917\ttotal: 15.3s\tremaining: 2.88s\n",
      "841:\tlearn: 0.7672614\ttotal: 15.3s\tremaining: 2.87s\n",
      "842:\tlearn: 0.7661926\ttotal: 15.3s\tremaining: 2.85s\n",
      "843:\tlearn: 0.7643588\ttotal: 15.3s\tremaining: 2.83s\n",
      "844:\tlearn: 0.7636761\ttotal: 15.3s\tremaining: 2.81s\n",
      "845:\tlearn: 0.7632823\ttotal: 15.4s\tremaining: 2.79s\n",
      "846:\tlearn: 0.7628462\ttotal: 15.4s\tremaining: 2.78s\n",
      "847:\tlearn: 0.7617447\ttotal: 15.4s\tremaining: 2.76s\n",
      "848:\tlearn: 0.7606478\ttotal: 15.4s\tremaining: 2.74s\n",
      "849:\tlearn: 0.7598245\ttotal: 15.4s\tremaining: 2.72s\n",
      "850:\tlearn: 0.7588329\ttotal: 15.4s\tremaining: 2.7s\n",
      "851:\tlearn: 0.7580014\ttotal: 15.5s\tremaining: 2.68s\n",
      "852:\tlearn: 0.7569649\ttotal: 15.5s\tremaining: 2.67s\n",
      "853:\tlearn: 0.7561092\ttotal: 15.5s\tremaining: 2.65s\n",
      "854:\tlearn: 0.7545004\ttotal: 15.5s\tremaining: 2.63s\n",
      "855:\tlearn: 0.7534582\ttotal: 15.5s\tremaining: 2.61s\n",
      "856:\tlearn: 0.7524920\ttotal: 15.5s\tremaining: 2.59s\n",
      "857:\tlearn: 0.7523019\ttotal: 15.6s\tremaining: 2.57s\n",
      "858:\tlearn: 0.7513855\ttotal: 15.6s\tremaining: 2.56s\n",
      "859:\tlearn: 0.7503035\ttotal: 15.6s\tremaining: 2.54s\n",
      "860:\tlearn: 0.7494103\ttotal: 15.6s\tremaining: 2.52s\n",
      "861:\tlearn: 0.7483026\ttotal: 15.6s\tremaining: 2.5s\n",
      "862:\tlearn: 0.7470793\ttotal: 15.6s\tremaining: 2.48s\n",
      "863:\tlearn: 0.7464261\ttotal: 15.6s\tremaining: 2.46s\n",
      "864:\tlearn: 0.7452109\ttotal: 15.7s\tremaining: 2.44s\n",
      "865:\tlearn: 0.7450575\ttotal: 15.7s\tremaining: 2.42s\n",
      "866:\tlearn: 0.7438076\ttotal: 15.7s\tremaining: 2.41s\n",
      "867:\tlearn: 0.7429268\ttotal: 15.7s\tremaining: 2.39s\n",
      "868:\tlearn: 0.7413894\ttotal: 15.7s\tremaining: 2.37s\n",
      "869:\tlearn: 0.7404703\ttotal: 15.7s\tremaining: 2.35s\n",
      "870:\tlearn: 0.7395925\ttotal: 15.8s\tremaining: 2.33s\n",
      "871:\tlearn: 0.7386748\ttotal: 15.8s\tremaining: 2.31s\n",
      "872:\tlearn: 0.7376099\ttotal: 15.8s\tremaining: 2.3s\n",
      "873:\tlearn: 0.7365915\ttotal: 15.8s\tremaining: 2.28s\n",
      "874:\tlearn: 0.7357776\ttotal: 15.8s\tremaining: 2.26s\n",
      "875:\tlearn: 0.7352026\ttotal: 15.8s\tremaining: 2.24s\n",
      "876:\tlearn: 0.7347840\ttotal: 15.8s\tremaining: 2.22s\n",
      "877:\tlearn: 0.7338680\ttotal: 15.9s\tremaining: 2.2s\n",
      "878:\tlearn: 0.7335234\ttotal: 15.9s\tremaining: 2.19s\n",
      "879:\tlearn: 0.7332872\ttotal: 15.9s\tremaining: 2.17s\n",
      "880:\tlearn: 0.7328698\ttotal: 15.9s\tremaining: 2.15s\n",
      "881:\tlearn: 0.7327844\ttotal: 15.9s\tremaining: 2.13s\n",
      "882:\tlearn: 0.7323411\ttotal: 15.9s\tremaining: 2.11s\n",
      "883:\tlearn: 0.7316937\ttotal: 16s\tremaining: 2.09s\n",
      "884:\tlearn: 0.7309969\ttotal: 16s\tremaining: 2.08s\n",
      "885:\tlearn: 0.7298814\ttotal: 16s\tremaining: 2.06s\n",
      "886:\tlearn: 0.7291580\ttotal: 16s\tremaining: 2.04s\n",
      "887:\tlearn: 0.7288034\ttotal: 16s\tremaining: 2.02s\n",
      "888:\tlearn: 0.7283540\ttotal: 16s\tremaining: 2s\n",
      "889:\tlearn: 0.7275387\ttotal: 16.1s\tremaining: 1.98s\n",
      "890:\tlearn: 0.7272581\ttotal: 16.1s\tremaining: 1.97s\n",
      "891:\tlearn: 0.7263877\ttotal: 16.1s\tremaining: 1.95s\n",
      "892:\tlearn: 0.7252102\ttotal: 16.1s\tremaining: 1.93s\n",
      "893:\tlearn: 0.7246693\ttotal: 16.1s\tremaining: 1.91s\n",
      "894:\tlearn: 0.7239322\ttotal: 16.2s\tremaining: 1.9s\n",
      "895:\tlearn: 0.7234707\ttotal: 16.2s\tremaining: 1.88s\n",
      "896:\tlearn: 0.7225017\ttotal: 16.2s\tremaining: 1.86s\n",
      "897:\tlearn: 0.7217199\ttotal: 16.2s\tremaining: 1.84s\n",
      "898:\tlearn: 0.7206482\ttotal: 16.2s\tremaining: 1.82s\n",
      "899:\tlearn: 0.7201116\ttotal: 16.2s\tremaining: 1.8s\n",
      "900:\tlearn: 0.7191848\ttotal: 16.3s\tremaining: 1.79s\n",
      "901:\tlearn: 0.7178890\ttotal: 16.3s\tremaining: 1.77s\n",
      "902:\tlearn: 0.7171580\ttotal: 16.3s\tremaining: 1.75s\n",
      "903:\tlearn: 0.7164297\ttotal: 16.3s\tremaining: 1.73s\n",
      "904:\tlearn: 0.7155537\ttotal: 16.3s\tremaining: 1.72s\n",
      "905:\tlearn: 0.7147848\ttotal: 16.4s\tremaining: 1.7s\n",
      "906:\tlearn: 0.7140538\ttotal: 16.4s\tremaining: 1.68s\n",
      "907:\tlearn: 0.7136588\ttotal: 16.4s\tremaining: 1.66s\n",
      "908:\tlearn: 0.7129073\ttotal: 16.4s\tremaining: 1.64s\n",
      "909:\tlearn: 0.7122204\ttotal: 16.4s\tremaining: 1.63s\n",
      "910:\tlearn: 0.7111648\ttotal: 16.5s\tremaining: 1.61s\n",
      "911:\tlearn: 0.7105797\ttotal: 16.5s\tremaining: 1.59s\n",
      "912:\tlearn: 0.7096578\ttotal: 16.5s\tremaining: 1.57s\n",
      "913:\tlearn: 0.7084418\ttotal: 16.5s\tremaining: 1.55s\n",
      "914:\tlearn: 0.7078791\ttotal: 16.5s\tremaining: 1.53s\n",
      "915:\tlearn: 0.7075414\ttotal: 16.5s\tremaining: 1.52s\n",
      "916:\tlearn: 0.7073164\ttotal: 16.6s\tremaining: 1.5s\n",
      "917:\tlearn: 0.7060408\ttotal: 16.6s\tremaining: 1.48s\n",
      "918:\tlearn: 0.7048663\ttotal: 16.6s\tremaining: 1.46s\n",
      "919:\tlearn: 0.7041987\ttotal: 16.6s\tremaining: 1.44s\n",
      "920:\tlearn: 0.7031937\ttotal: 16.6s\tremaining: 1.43s\n",
      "921:\tlearn: 0.7022358\ttotal: 16.6s\tremaining: 1.41s\n",
      "922:\tlearn: 0.7021305\ttotal: 16.7s\tremaining: 1.39s\n",
      "923:\tlearn: 0.7015249\ttotal: 16.7s\tremaining: 1.37s\n",
      "924:\tlearn: 0.7007201\ttotal: 16.7s\tremaining: 1.35s\n",
      "925:\tlearn: 0.7004728\ttotal: 16.7s\tremaining: 1.33s\n",
      "926:\tlearn: 0.6997006\ttotal: 16.7s\tremaining: 1.32s\n",
      "927:\tlearn: 0.6987978\ttotal: 16.7s\tremaining: 1.3s\n",
      "928:\tlearn: 0.6979938\ttotal: 16.8s\tremaining: 1.28s\n",
      "929:\tlearn: 0.6970239\ttotal: 16.8s\tremaining: 1.26s\n",
      "930:\tlearn: 0.6957285\ttotal: 16.8s\tremaining: 1.25s\n",
      "931:\tlearn: 0.6948843\ttotal: 16.8s\tremaining: 1.23s\n",
      "932:\tlearn: 0.6947233\ttotal: 16.8s\tremaining: 1.21s\n",
      "933:\tlearn: 0.6939720\ttotal: 16.9s\tremaining: 1.19s\n",
      "934:\tlearn: 0.6931443\ttotal: 16.9s\tremaining: 1.17s\n",
      "935:\tlearn: 0.6924257\ttotal: 16.9s\tremaining: 1.15s\n",
      "936:\tlearn: 0.6912360\ttotal: 16.9s\tremaining: 1.14s\n",
      "937:\tlearn: 0.6904735\ttotal: 16.9s\tremaining: 1.12s\n",
      "938:\tlearn: 0.6897862\ttotal: 16.9s\tremaining: 1.1s\n",
      "939:\tlearn: 0.6888221\ttotal: 17s\tremaining: 1.08s\n",
      "940:\tlearn: 0.6881168\ttotal: 17s\tremaining: 1.06s\n",
      "941:\tlearn: 0.6869241\ttotal: 17s\tremaining: 1.05s\n",
      "942:\tlearn: 0.6861257\ttotal: 17s\tremaining: 1.03s\n",
      "943:\tlearn: 0.6859190\ttotal: 17s\tremaining: 1.01s\n",
      "944:\tlearn: 0.6851861\ttotal: 17.1s\tremaining: 993ms\n",
      "945:\tlearn: 0.6845286\ttotal: 17.1s\tremaining: 975ms\n",
      "946:\tlearn: 0.6837251\ttotal: 17.1s\tremaining: 957ms\n",
      "947:\tlearn: 0.6830401\ttotal: 17.1s\tremaining: 939ms\n",
      "948:\tlearn: 0.6822861\ttotal: 17.1s\tremaining: 921ms\n",
      "949:\tlearn: 0.6812330\ttotal: 17.1s\tremaining: 902ms\n",
      "950:\tlearn: 0.6807541\ttotal: 17.2s\tremaining: 884ms\n",
      "951:\tlearn: 0.6799318\ttotal: 17.2s\tremaining: 866ms\n",
      "952:\tlearn: 0.6796284\ttotal: 17.2s\tremaining: 848ms\n",
      "953:\tlearn: 0.6788378\ttotal: 17.2s\tremaining: 830ms\n",
      "954:\tlearn: 0.6777135\ttotal: 17.2s\tremaining: 812ms\n",
      "955:\tlearn: 0.6768598\ttotal: 17.2s\tremaining: 793ms\n",
      "956:\tlearn: 0.6760969\ttotal: 17.3s\tremaining: 775ms\n",
      "957:\tlearn: 0.6754016\ttotal: 17.3s\tremaining: 757ms\n",
      "958:\tlearn: 0.6751827\ttotal: 17.3s\tremaining: 739ms\n",
      "959:\tlearn: 0.6741851\ttotal: 17.3s\tremaining: 721ms\n",
      "960:\tlearn: 0.6732470\ttotal: 17.3s\tremaining: 703ms\n",
      "961:\tlearn: 0.6728641\ttotal: 17.3s\tremaining: 685ms\n",
      "962:\tlearn: 0.6723709\ttotal: 17.4s\tremaining: 667ms\n",
      "963:\tlearn: 0.6718795\ttotal: 17.4s\tremaining: 649ms\n",
      "964:\tlearn: 0.6707339\ttotal: 17.4s\tremaining: 631ms\n",
      "965:\tlearn: 0.6703288\ttotal: 17.4s\tremaining: 613ms\n",
      "966:\tlearn: 0.6694114\ttotal: 17.4s\tremaining: 595ms\n",
      "967:\tlearn: 0.6690774\ttotal: 17.4s\tremaining: 577ms\n",
      "968:\tlearn: 0.6683275\ttotal: 17.5s\tremaining: 559ms\n",
      "969:\tlearn: 0.6676873\ttotal: 17.5s\tremaining: 541ms\n",
      "970:\tlearn: 0.6667446\ttotal: 17.5s\tremaining: 523ms\n",
      "971:\tlearn: 0.6661399\ttotal: 17.5s\tremaining: 505ms\n",
      "972:\tlearn: 0.6655495\ttotal: 17.5s\tremaining: 487ms\n",
      "973:\tlearn: 0.6645103\ttotal: 17.6s\tremaining: 469ms\n",
      "974:\tlearn: 0.6642847\ttotal: 17.6s\tremaining: 451ms\n",
      "975:\tlearn: 0.6633509\ttotal: 17.6s\tremaining: 433ms\n",
      "976:\tlearn: 0.6622693\ttotal: 17.6s\tremaining: 415ms\n",
      "977:\tlearn: 0.6617213\ttotal: 17.6s\tremaining: 397ms\n",
      "978:\tlearn: 0.6609300\ttotal: 17.6s\tremaining: 379ms\n",
      "979:\tlearn: 0.6604853\ttotal: 17.7s\tremaining: 360ms\n",
      "980:\tlearn: 0.6600761\ttotal: 17.7s\tremaining: 342ms\n",
      "981:\tlearn: 0.6592429\ttotal: 17.7s\tremaining: 324ms\n",
      "982:\tlearn: 0.6587301\ttotal: 17.7s\tremaining: 306ms\n",
      "983:\tlearn: 0.6579615\ttotal: 17.7s\tremaining: 288ms\n",
      "984:\tlearn: 0.6573626\ttotal: 17.8s\tremaining: 270ms\n",
      "985:\tlearn: 0.6559541\ttotal: 17.8s\tremaining: 252ms\n",
      "986:\tlearn: 0.6552373\ttotal: 17.8s\tremaining: 234ms\n",
      "987:\tlearn: 0.6542639\ttotal: 17.8s\tremaining: 216ms\n",
      "988:\tlearn: 0.6537820\ttotal: 17.8s\tremaining: 198ms\n",
      "989:\tlearn: 0.6529448\ttotal: 17.8s\tremaining: 180ms\n",
      "990:\tlearn: 0.6520694\ttotal: 17.9s\tremaining: 162ms\n",
      "991:\tlearn: 0.6515277\ttotal: 17.9s\tremaining: 144ms\n",
      "992:\tlearn: 0.6510266\ttotal: 17.9s\tremaining: 126ms\n",
      "993:\tlearn: 0.6501196\ttotal: 17.9s\tremaining: 108ms\n",
      "994:\tlearn: 0.6494891\ttotal: 17.9s\tremaining: 90.1ms\n",
      "995:\tlearn: 0.6491358\ttotal: 17.9s\tremaining: 72.1ms\n",
      "996:\tlearn: 0.6483779\ttotal: 18s\tremaining: 54ms\n",
      "997:\tlearn: 0.6476417\ttotal: 18s\tremaining: 36ms\n",
      "998:\tlearn: 0.6470825\ttotal: 18s\tremaining: 18ms\n",
      "999:\tlearn: 0.6462139\ttotal: 18s\tremaining: 0us\n"
     ]
    }
   ],
   "source": [
    "from catboost import CatBoostRegressor\n",
    "# Initialize data\n",
    "\n",
    "train_data = X_train\n",
    "\n",
    "eval_data = X_test\n",
    "\n",
    "train_labels = y_train\n",
    "# Initialize CatBoostRegressor\n",
    "model = CatBoostRegressor()\n",
    "# Fit model\n",
    "model.fit(train_data, train_labels)\n",
    "# Get predictions\n",
    "preds = model.predict(eval_data)"
   ],
   "metadata": {
    "collapsed": false,
    "pycharm": {
     "name": "#%%\n"
    }
   }
  },
  {
   "cell_type": "code",
   "execution_count": 29,
   "outputs": [
    {
     "data": {
      "text/plain": "array([58.68873895, 58.76672588, 62.87637712, 75.94366492, 54.95476832,\n       66.90393213, 69.04050593, 63.06828698, 44.66596488, 68.38948473,\n       75.36138336, 46.53228191, 67.20598563, 66.89801769, 63.91914002,\n       62.02143182, 82.70556076, 55.31574864, 68.39505221, 54.34967632,\n       43.1004218 , 77.95685263, 74.17164681, 50.27777726, 52.54001545,\n       79.7328167 , 42.27580441, 64.6295619 , 48.91405108, 49.04375342,\n       78.98299475, 62.80101905, 76.10506136, 66.26322791, 65.25962143,\n       48.59147093, 62.5395876 , 59.22644652, 80.41143087, 62.10655805,\n       63.29299199, 80.54147112, 67.322419  , 77.02746866, 74.84632502,\n       76.41805509, 60.91294539, 67.75930915, 69.39946481, 45.4436442 ,\n       46.85536438, 83.98390672, 67.64566918, 59.35509983, 55.60833824,\n       68.29067558, 42.31470392, 46.60239045, 45.99139135, 70.02369269,\n       55.51606171, 85.75798037, 72.23709384, 62.82574858, 54.01483912,\n       53.32041662, 60.09693441, 72.93579752, 63.30586248, 67.64055479,\n       49.89525282, 60.54491652, 57.93202733, 58.97300265, 78.99288109,\n       60.70903586, 62.01423791, 81.75455781, 49.06662322, 73.86745126,\n       62.53991396, 45.27621154, 47.91166219, 87.66927299, 47.48069263,\n       54.92910984, 32.59797061, 66.75887574, 20.8081205 , 60.27368895,\n       82.38152279, 61.31596817, 66.21472296, 77.22859122, 74.14067288,\n       71.10427305, 74.75430667, 51.63840231, 76.8810143 , 61.92024376,\n       80.36328289, 59.26813446, 74.65230572, 59.78905461, 62.83707784,\n       80.80284867, 63.03622932, 71.69216241, 60.18514176, 72.32867161,\n       59.92971267, 53.79256245, 45.80187807, 61.43947049, 55.97588133,\n       58.55959215, 36.64109128, 72.7982262 , 57.86475851, 70.79578319,\n       67.72167775, 56.25294725, 63.79598792, 61.60459944, 53.21264816,\n       72.74783884, 57.71634204, 60.94106361, 66.75967863, 41.97921397,\n       72.39045256, 53.51993543, 58.17311697, 62.18085172, 59.24600931,\n       39.99182929, 50.43134733, 46.80095894, 63.31836195, 56.34250132,\n       56.99638645, 75.26704799, 60.98199511, 72.24309488, 53.32266599,\n       59.66972459, 77.09806184, 45.73602729, 56.91153673, 53.72475602,\n       60.25871272, 51.32987191, 67.15377086, 60.13731132, 46.49896472,\n       54.74162551, 57.5585675 , 40.26099032, 52.12498828, 54.92382411,\n       42.95929596, 72.08184035, 44.06416274, 80.12415737, 45.70470755,\n       57.89086031, 65.57696092, 48.1502725 , 70.58248832, 59.74381402,\n       61.05631375, 77.79514629, 54.33327289, 71.75690562, 65.38103701,\n       80.97763665, 63.61033685, 59.02832746, 62.61060624, 68.4924693 ,\n       62.50613696, 77.81855871, 76.89815007, 65.62150843, 40.35120724,\n       65.24647099, 49.33620082, 65.1706604 , 55.12235306, 56.3628993 ,\n       40.11787656, 60.10187851, 59.64611686, 79.79776172, 55.47734462,\n       38.0187245 , 50.7649558 , 76.09113355, 51.03869877, 47.48748588,\n       69.0995859 , 67.31117829, 73.02254825, 66.21794557, 79.37736804,\n       68.91451961, 85.29818467, 59.46371157, 78.08266639, 64.77109073,\n       54.90186167, 80.36528061, 50.2063339 , 70.53457781, 67.42435422,\n       71.64377601, 61.77246452, 30.81457108, 64.0413388 , 72.93112366,\n       62.21307201, 31.8439856 , 65.91138086, 61.29557017, 64.9857605 ,\n       56.29062747, 56.32807629, 80.86003953, 61.03039389, 62.13484774,\n       33.21504798, 35.22242464, 60.97822099, 45.13820337, 64.19088391,\n       62.50439569, 56.07073157, 53.74206481, 70.70831997, 72.26054331,\n       46.37308097, 45.19841057, 39.29110522, 61.63253574, 48.96669896,\n       59.45966435, 46.2609334 , 47.8555581 , 61.16079434, 41.92027343,\n       59.71788482, 59.61244465, 44.12481725, 47.50303177, 63.64827662,\n       53.63434508, 78.12434528, 63.08779627, 83.23439937, 56.11192589,\n       60.1762151 , 44.49051055, 40.44910443, 61.69343439, 73.72976961,\n       49.44766391, 57.98942818, 58.54302008, 72.2171207 , 55.61497743,\n       76.40685127, 68.15102525, 46.4853811 , 61.099746  , 46.91256122,\n       48.8493726 , 59.68914162, 42.95285899, 70.28400545, 46.13790421,\n       72.30746414, 60.10314494, 80.54456915, 52.40738334, 69.01640844,\n       55.65990154, 46.1221397 , 62.14161684, 44.93013213, 61.91935102,\n       48.53166946, 61.50738728, 58.54243129, 52.49291418, 47.36677871,\n       45.77380816, 60.28333657, 68.62427019, 82.59254216, 66.83468415,\n       54.3762853 , 66.7265053 , 75.39799033, 69.85260789, 62.18278723,\n       59.72857293, 43.24554536, 60.76680143, 48.85455537, 82.31070532,\n       48.7728639 , 62.77475489, 55.6543438 , 54.61981951, 81.1860412 ,\n       40.90158329, 51.56860984, 56.67249813, 74.41756421, 51.91577319,\n       44.35398977, 62.55205663, 70.12029523, 59.88983598, 46.53271109,\n       42.91141539, 46.05767625, 72.87310413, 55.38158403, 76.37790103,\n       36.3717494 , 48.61472139, 46.61610375, 82.78253794, 48.1807673 ,\n       57.46816601, 82.71942856, 48.48243935, 67.35799863, 44.83347327,\n       68.98471164, 77.274886  , 57.33455775, 78.45848041, 45.53656181,\n       60.17342571, 44.42142474, 86.54018446, 60.92273869, 62.86928474,\n       69.44292015, 77.01193374, 61.52808352, 65.89408107, 74.52017146,\n       69.31875584, 61.14173366, 43.80629694, 65.96701788, 64.42502222,\n       32.5238327 , 82.54579861, 45.03756013, 64.48640502, 39.96525899,\n       63.53707029, 79.52949332, 34.33044145, 79.74169978, 54.34248787,\n       55.16988065, 59.83350489, 51.54759387, 60.13933882, 64.59160571,\n       64.53118224, 76.28292124, 59.37851926, 60.72822864, 55.87735205,\n       63.36479141, 46.13763231])"
     },
     "execution_count": 29,
     "metadata": {},
     "output_type": "execute_result"
    }
   ],
   "source": [
    "preds"
   ],
   "metadata": {
    "collapsed": false,
    "pycharm": {
     "name": "#%%\n"
    }
   }
  },
  {
   "cell_type": "code",
   "execution_count": 30,
   "outputs": [],
   "source": [
    "test = data[:10]"
   ],
   "metadata": {
    "collapsed": false,
    "pycharm": {
     "name": "#%%\n"
    }
   }
  },
  {
   "cell_type": "code",
   "execution_count": 31,
   "outputs": [
    {
     "data": {
      "text/plain": "    DB score  Agricultural land (sq. km)  Agricultural land (% of land area)  \\\n0  44.493061                    383130.0                           58.741548   \n1  44.463157                    380100.0                           58.276988   \n2  37.390342                    380100.0                           58.276988   \n3  39.237020                    379100.0                           58.123668   \n4  39.556583                    379100.0                           58.123668   \n5  42.091456                    379100.0                           58.123668   \n6  40.726905                    379100.0                           58.123668   \n7  40.039340                    379100.0                           58.123668   \n8  39.563330                    379140.0                           58.129801   \n9  37.268125                    379150.0                           58.131334   \n\n   Arable land (hectares)  Arable land (hectares per person)  \\\n0               7829000.0                           0.200887   \n1               7788000.0                           0.206198   \n2               7794000.0                           0.212447   \n3               7699000.0                           0.216001   \n4               7729000.0                           0.223148   \n5               7765000.0                           0.230050   \n6               7771000.0                           0.237528   \n7               7785000.0                           0.246820   \n8               7790000.0                           0.255691   \n9               7791000.0                           0.266367   \n\n   Arable land (% of land area)  Forest area (sq. km)  \\\n0                     12.003434               12084.4   \n1                     11.940573               12084.4   \n2                     11.949772               12084.4   \n3                     11.804118               12084.4   \n4                     11.850114               12084.4   \n5                     11.905309               12084.4   \n6                     11.914509               12084.4   \n7                     11.935974               12084.4   \n8                     11.943640               12084.4   \n9                     11.945173               12084.4   \n\n   Forest area (% of land area)  Land area (sq. km)  Surface area (sq. km)  \\\n0                      1.852782            652230.0               652860.0   \n1                      1.852782            652230.0               652860.0   \n2                      1.852782            652230.0               652860.0   \n3                      1.852782            652230.0               652860.0   \n4                      1.852782            652230.0               652860.0   \n5                      1.852782            652230.0               652860.0   \n6                      1.852782            652230.0               652860.0   \n7                      1.852782            652230.0               652860.0   \n8                      1.852782            652230.0               652860.0   \n9                      1.852782            652230.0               652860.0   \n\n   ...  Merchandise imports by the reporting economy (current US$)  \\\n0  ...                                       6.537616e+09            \n1  ...                                       6.776116e+09            \n2  ...                                       7.406558e+09            \n3  ...                                       1.350807e+10            \n4  ...                                       1.255370e+10            \n5  ...                                       7.729833e+09            \n6  ...                                       7.708525e+09            \n7  ...                                       8.571831e+09            \n8  ...                                       6.225887e+09            \n9  ...                                       6.420926e+09            \n\n   Merchandise exports to high-income economies (% of total merchandise exports)  \\\n0                                           6.707951                               \n1                                           6.540635                               \n2                                           4.154670                               \n3                                           4.171367                               \n4                                           4.280423                               \n5                                           7.638432                               \n6                                           4.231660                               \n7                                           2.577746                               \n8                                           1.074724                               \n9                                           7.104443                               \n\n   Merchandise exports by the reporting economy, residual (% of total merchandise exports)  \\\n0                                           0.000000                                         \n1                                           0.000063                                         \n2                                           0.000000                                         \n3                                           0.000000                                         \n4                                           0.000000                                         \n5                                           0.000000                                         \n6                                           0.000000                                         \n7                                           0.000000                                         \n8                                           0.000000                                         \n9                                           0.000000                                         \n\n   Merchandise exports by the reporting economy (current US$)  \\\n0                                        776722236.0            \n1                                        863833322.0            \n2                                        875181037.0            \n3                                        403941915.0            \n4                                        502088950.0            \n5                                        571404993.0            \n6                                        414759211.0            \n7                                        373958204.0            \n8                                        305795131.0            \n9                                        375846232.0            \n\n   Voice and Accountability: Estimate  \\\n0                           -1.077736   \n1                           -1.006747   \n2                           -1.011600   \n3                           -0.990814   \n4                           -1.037788   \n5                           -1.117557   \n6                           -1.135440   \n7                           -1.240068   \n8                           -1.267430   \n9                           -1.335977   \n\n   Voice and Accountability: Number of Sources  \\\n0                                          9.0   \n1                                         10.0   \n2                                         10.0   \n3                                         10.0   \n4                                         10.0   \n5                                         10.0   \n6                                         10.0   \n7                                         12.0   \n8                                         11.0   \n9                                         10.0   \n\n   Voice and Accountability: Percentile Rank  \\\n0                                  19.806763   \n1                                  21.256039   \n2                                  20.289856   \n3                                  22.167488   \n4                                  20.689655   \n5                                  18.719212   \n6                                  16.256157   \n7                                  14.553990   \n8                                  14.084507   \n9                                  11.267606   \n\n   Voice and Accountability: Percentile Rank, Lower Bound of 90% Confidence Interval  \\\n0                                          13.526570                                   \n1                                          15.458938                                   \n2                                          13.526570                                   \n3                                          14.285714                                   \n4                                          13.300492                                   \n5                                          10.837439                                   \n6                                           9.359606                                   \n7                                           8.450705                                   \n8                                           6.572770                                   \n9                                           7.042253                                   \n\n   Voice and Accountability: Percentile Rank, Upper Bound of 90% Confidence Interval  \\\n0                                          23.671497                                   \n1                                          24.637682                                   \n2                                          25.120773                                   \n3                                          24.630543                                   \n4                                          23.645321                                   \n5                                          22.660099                                   \n6                                          21.674877                                   \n7                                          17.370892                                   \n8                                          16.431925                                   \n9                                          15.962441                                   \n\n   Voice and Accountability: Standard Error  \n0                                  0.131839  \n1                                  0.127229  \n2                                  0.133869  \n3                                  0.130805  \n4                                  0.129876  \n5                                  0.134631  \n6                                  0.132240  \n7                                  0.123408  \n8                                  0.134757  \n9                                  0.143801  \n\n[10 rows x 174 columns]",
      "text/html": "<div>\n<style scoped>\n    .dataframe tbody tr th:only-of-type {\n        vertical-align: middle;\n    }\n\n    .dataframe tbody tr th {\n        vertical-align: top;\n    }\n\n    .dataframe thead th {\n        text-align: right;\n    }\n</style>\n<table border=\"1\" class=\"dataframe\">\n  <thead>\n    <tr style=\"text-align: right;\">\n      <th></th>\n      <th>DB score</th>\n      <th>Agricultural land (sq. km)</th>\n      <th>Agricultural land (% of land area)</th>\n      <th>Arable land (hectares)</th>\n      <th>Arable land (hectares per person)</th>\n      <th>Arable land (% of land area)</th>\n      <th>Forest area (sq. km)</th>\n      <th>Forest area (% of land area)</th>\n      <th>Land area (sq. km)</th>\n      <th>Surface area (sq. km)</th>\n      <th>...</th>\n      <th>Merchandise imports by the reporting economy (current US$)</th>\n      <th>Merchandise exports to high-income economies (% of total merchandise exports)</th>\n      <th>Merchandise exports by the reporting economy, residual (% of total merchandise exports)</th>\n      <th>Merchandise exports by the reporting economy (current US$)</th>\n      <th>Voice and Accountability: Estimate</th>\n      <th>Voice and Accountability: Number of Sources</th>\n      <th>Voice and Accountability: Percentile Rank</th>\n      <th>Voice and Accountability: Percentile Rank, Lower Bound of 90% Confidence Interval</th>\n      <th>Voice and Accountability: Percentile Rank, Upper Bound of 90% Confidence Interval</th>\n      <th>Voice and Accountability: Standard Error</th>\n    </tr>\n  </thead>\n  <tbody>\n    <tr>\n      <th>0</th>\n      <td>44.493061</td>\n      <td>383130.0</td>\n      <td>58.741548</td>\n      <td>7829000.0</td>\n      <td>0.200887</td>\n      <td>12.003434</td>\n      <td>12084.4</td>\n      <td>1.852782</td>\n      <td>652230.0</td>\n      <td>652860.0</td>\n      <td>...</td>\n      <td>6.537616e+09</td>\n      <td>6.707951</td>\n      <td>0.000000</td>\n      <td>776722236.0</td>\n      <td>-1.077736</td>\n      <td>9.0</td>\n      <td>19.806763</td>\n      <td>13.526570</td>\n      <td>23.671497</td>\n      <td>0.131839</td>\n    </tr>\n    <tr>\n      <th>1</th>\n      <td>44.463157</td>\n      <td>380100.0</td>\n      <td>58.276988</td>\n      <td>7788000.0</td>\n      <td>0.206198</td>\n      <td>11.940573</td>\n      <td>12084.4</td>\n      <td>1.852782</td>\n      <td>652230.0</td>\n      <td>652860.0</td>\n      <td>...</td>\n      <td>6.776116e+09</td>\n      <td>6.540635</td>\n      <td>0.000063</td>\n      <td>863833322.0</td>\n      <td>-1.006747</td>\n      <td>10.0</td>\n      <td>21.256039</td>\n      <td>15.458938</td>\n      <td>24.637682</td>\n      <td>0.127229</td>\n    </tr>\n    <tr>\n      <th>2</th>\n      <td>37.390342</td>\n      <td>380100.0</td>\n      <td>58.276988</td>\n      <td>7794000.0</td>\n      <td>0.212447</td>\n      <td>11.949772</td>\n      <td>12084.4</td>\n      <td>1.852782</td>\n      <td>652230.0</td>\n      <td>652860.0</td>\n      <td>...</td>\n      <td>7.406558e+09</td>\n      <td>4.154670</td>\n      <td>0.000000</td>\n      <td>875181037.0</td>\n      <td>-1.011600</td>\n      <td>10.0</td>\n      <td>20.289856</td>\n      <td>13.526570</td>\n      <td>25.120773</td>\n      <td>0.133869</td>\n    </tr>\n    <tr>\n      <th>3</th>\n      <td>39.237020</td>\n      <td>379100.0</td>\n      <td>58.123668</td>\n      <td>7699000.0</td>\n      <td>0.216001</td>\n      <td>11.804118</td>\n      <td>12084.4</td>\n      <td>1.852782</td>\n      <td>652230.0</td>\n      <td>652860.0</td>\n      <td>...</td>\n      <td>1.350807e+10</td>\n      <td>4.171367</td>\n      <td>0.000000</td>\n      <td>403941915.0</td>\n      <td>-0.990814</td>\n      <td>10.0</td>\n      <td>22.167488</td>\n      <td>14.285714</td>\n      <td>24.630543</td>\n      <td>0.130805</td>\n    </tr>\n    <tr>\n      <th>4</th>\n      <td>39.556583</td>\n      <td>379100.0</td>\n      <td>58.123668</td>\n      <td>7729000.0</td>\n      <td>0.223148</td>\n      <td>11.850114</td>\n      <td>12084.4</td>\n      <td>1.852782</td>\n      <td>652230.0</td>\n      <td>652860.0</td>\n      <td>...</td>\n      <td>1.255370e+10</td>\n      <td>4.280423</td>\n      <td>0.000000</td>\n      <td>502088950.0</td>\n      <td>-1.037788</td>\n      <td>10.0</td>\n      <td>20.689655</td>\n      <td>13.300492</td>\n      <td>23.645321</td>\n      <td>0.129876</td>\n    </tr>\n    <tr>\n      <th>5</th>\n      <td>42.091456</td>\n      <td>379100.0</td>\n      <td>58.123668</td>\n      <td>7765000.0</td>\n      <td>0.230050</td>\n      <td>11.905309</td>\n      <td>12084.4</td>\n      <td>1.852782</td>\n      <td>652230.0</td>\n      <td>652860.0</td>\n      <td>...</td>\n      <td>7.729833e+09</td>\n      <td>7.638432</td>\n      <td>0.000000</td>\n      <td>571404993.0</td>\n      <td>-1.117557</td>\n      <td>10.0</td>\n      <td>18.719212</td>\n      <td>10.837439</td>\n      <td>22.660099</td>\n      <td>0.134631</td>\n    </tr>\n    <tr>\n      <th>6</th>\n      <td>40.726905</td>\n      <td>379100.0</td>\n      <td>58.123668</td>\n      <td>7771000.0</td>\n      <td>0.237528</td>\n      <td>11.914509</td>\n      <td>12084.4</td>\n      <td>1.852782</td>\n      <td>652230.0</td>\n      <td>652860.0</td>\n      <td>...</td>\n      <td>7.708525e+09</td>\n      <td>4.231660</td>\n      <td>0.000000</td>\n      <td>414759211.0</td>\n      <td>-1.135440</td>\n      <td>10.0</td>\n      <td>16.256157</td>\n      <td>9.359606</td>\n      <td>21.674877</td>\n      <td>0.132240</td>\n    </tr>\n    <tr>\n      <th>7</th>\n      <td>40.039340</td>\n      <td>379100.0</td>\n      <td>58.123668</td>\n      <td>7785000.0</td>\n      <td>0.246820</td>\n      <td>11.935974</td>\n      <td>12084.4</td>\n      <td>1.852782</td>\n      <td>652230.0</td>\n      <td>652860.0</td>\n      <td>...</td>\n      <td>8.571831e+09</td>\n      <td>2.577746</td>\n      <td>0.000000</td>\n      <td>373958204.0</td>\n      <td>-1.240068</td>\n      <td>12.0</td>\n      <td>14.553990</td>\n      <td>8.450705</td>\n      <td>17.370892</td>\n      <td>0.123408</td>\n    </tr>\n    <tr>\n      <th>8</th>\n      <td>39.563330</td>\n      <td>379140.0</td>\n      <td>58.129801</td>\n      <td>7790000.0</td>\n      <td>0.255691</td>\n      <td>11.943640</td>\n      <td>12084.4</td>\n      <td>1.852782</td>\n      <td>652230.0</td>\n      <td>652860.0</td>\n      <td>...</td>\n      <td>6.225887e+09</td>\n      <td>1.074724</td>\n      <td>0.000000</td>\n      <td>305795131.0</td>\n      <td>-1.267430</td>\n      <td>11.0</td>\n      <td>14.084507</td>\n      <td>6.572770</td>\n      <td>16.431925</td>\n      <td>0.134757</td>\n    </tr>\n    <tr>\n      <th>9</th>\n      <td>37.268125</td>\n      <td>379150.0</td>\n      <td>58.131334</td>\n      <td>7791000.0</td>\n      <td>0.266367</td>\n      <td>11.945173</td>\n      <td>12084.4</td>\n      <td>1.852782</td>\n      <td>652230.0</td>\n      <td>652860.0</td>\n      <td>...</td>\n      <td>6.420926e+09</td>\n      <td>7.104443</td>\n      <td>0.000000</td>\n      <td>375846232.0</td>\n      <td>-1.335977</td>\n      <td>10.0</td>\n      <td>11.267606</td>\n      <td>7.042253</td>\n      <td>15.962441</td>\n      <td>0.143801</td>\n    </tr>\n  </tbody>\n</table>\n<p>10 rows × 174 columns</p>\n</div>"
     },
     "execution_count": 31,
     "metadata": {},
     "output_type": "execute_result"
    }
   ],
   "source": [
    "test"
   ],
   "metadata": {
    "collapsed": false,
    "pycharm": {
     "name": "#%%\n"
    }
   }
  },
  {
   "cell_type": "code",
   "execution_count": 34,
   "outputs": [],
   "source": [
    "test_x = test.drop(['DB score'], axis=1)\n",
    "test_y = test['DB score']"
   ],
   "metadata": {
    "collapsed": false,
    "pycharm": {
     "name": "#%%\n"
    }
   }
  },
  {
   "cell_type": "code",
   "execution_count": 35,
   "outputs": [
    {
     "data": {
      "text/plain": "array([44.21820566, 43.40414926, 39.00166449, 39.32652869, 39.75838359,\n       41.54008743, 40.98683749, 40.37733037, 39.32474066, 37.91764337])"
     },
     "execution_count": 35,
     "metadata": {},
     "output_type": "execute_result"
    }
   ],
   "source": [
    "model.predict(test_x)"
   ],
   "metadata": {
    "collapsed": false,
    "pycharm": {
     "name": "#%%\n"
    }
   }
  },
  {
   "cell_type": "code",
   "execution_count": 36,
   "outputs": [
    {
     "data": {
      "text/plain": "0    44.493061\n1    44.463157\n2    37.390342\n3    39.237020\n4    39.556583\n5    42.091456\n6    40.726905\n7    40.039340\n8    39.563330\n9    37.268125\nName: DB score, dtype: float64"
     },
     "execution_count": 36,
     "metadata": {},
     "output_type": "execute_result"
    }
   ],
   "source": [
    "test_y"
   ],
   "metadata": {
    "collapsed": false,
    "pycharm": {
     "name": "#%%\n"
    }
   }
  },
  {
   "cell_type": "code",
   "execution_count": 45,
   "outputs": [
    {
     "data": {
      "text/plain": "0.9750634415398727"
     },
     "execution_count": 45,
     "metadata": {},
     "output_type": "execute_result"
    }
   ],
   "source": [
    "from sklearn.metrics import mean_absolute_error, mean_squared_error, r2_score\n",
    "\n",
    "r2_score(y_test, model.predict(X_test))"
   ],
   "metadata": {
    "collapsed": false,
    "pycharm": {
     "name": "#%%\n"
    }
   }
  },
  {
   "cell_type": "code",
   "execution_count": 40,
   "outputs": [
    {
     "data": {
      "text/plain": "382"
     },
     "execution_count": 40,
     "metadata": {},
     "output_type": "execute_result"
    }
   ],
   "source": [
    "len(y_test)"
   ],
   "metadata": {
    "collapsed": false,
    "pycharm": {
     "name": "#%%\n"
    }
   }
  },
  {
   "cell_type": "code",
   "execution_count": 42,
   "outputs": [
    {
     "data": {
      "text/plain": "382"
     },
     "execution_count": 42,
     "metadata": {},
     "output_type": "execute_result"
    }
   ],
   "source": [
    "len(model.predict(X_test))"
   ],
   "metadata": {
    "collapsed": false,
    "pycharm": {
     "name": "#%%\n"
    }
   }
  },
  {
   "cell_type": "code",
   "execution_count": 52,
   "outputs": [
    {
     "data": {
      "text/plain": "173"
     },
     "execution_count": 52,
     "metadata": {},
     "output_type": "execute_result"
    }
   ],
   "source": [
    "len(X.columns)"
   ],
   "metadata": {
    "collapsed": false,
    "pycharm": {
     "name": "#%%\n"
    }
   }
  },
  {
   "cell_type": "code",
   "execution_count": 56,
   "outputs": [
    {
     "data": {
      "text/plain": "DBSCAN(eps=519)",
      "text/html": "<style>#sk-container-id-7 {color: black;}#sk-container-id-7 pre{padding: 0;}#sk-container-id-7 div.sk-toggleable {background-color: white;}#sk-container-id-7 label.sk-toggleable__label {cursor: pointer;display: block;width: 100%;margin-bottom: 0;padding: 0.3em;box-sizing: border-box;text-align: center;}#sk-container-id-7 label.sk-toggleable__label-arrow:before {content: \"▸\";float: left;margin-right: 0.25em;color: #696969;}#sk-container-id-7 label.sk-toggleable__label-arrow:hover:before {color: black;}#sk-container-id-7 div.sk-estimator:hover label.sk-toggleable__label-arrow:before {color: black;}#sk-container-id-7 div.sk-toggleable__content {max-height: 0;max-width: 0;overflow: hidden;text-align: left;background-color: #f0f8ff;}#sk-container-id-7 div.sk-toggleable__content pre {margin: 0.2em;color: black;border-radius: 0.25em;background-color: #f0f8ff;}#sk-container-id-7 input.sk-toggleable__control:checked~div.sk-toggleable__content {max-height: 200px;max-width: 100%;overflow: auto;}#sk-container-id-7 input.sk-toggleable__control:checked~label.sk-toggleable__label-arrow:before {content: \"▾\";}#sk-container-id-7 div.sk-estimator input.sk-toggleable__control:checked~label.sk-toggleable__label {background-color: #d4ebff;}#sk-container-id-7 div.sk-label input.sk-toggleable__control:checked~label.sk-toggleable__label {background-color: #d4ebff;}#sk-container-id-7 input.sk-hidden--visually {border: 0;clip: rect(1px 1px 1px 1px);clip: rect(1px, 1px, 1px, 1px);height: 1px;margin: -1px;overflow: hidden;padding: 0;position: absolute;width: 1px;}#sk-container-id-7 div.sk-estimator {font-family: monospace;background-color: #f0f8ff;border: 1px dotted black;border-radius: 0.25em;box-sizing: border-box;margin-bottom: 0.5em;}#sk-container-id-7 div.sk-estimator:hover {background-color: #d4ebff;}#sk-container-id-7 div.sk-parallel-item::after {content: \"\";width: 100%;border-bottom: 1px solid gray;flex-grow: 1;}#sk-container-id-7 div.sk-label:hover label.sk-toggleable__label {background-color: #d4ebff;}#sk-container-id-7 div.sk-serial::before {content: \"\";position: absolute;border-left: 1px solid gray;box-sizing: border-box;top: 0;bottom: 0;left: 50%;z-index: 0;}#sk-container-id-7 div.sk-serial {display: flex;flex-direction: column;align-items: center;background-color: white;padding-right: 0.2em;padding-left: 0.2em;position: relative;}#sk-container-id-7 div.sk-item {position: relative;z-index: 1;}#sk-container-id-7 div.sk-parallel {display: flex;align-items: stretch;justify-content: center;background-color: white;position: relative;}#sk-container-id-7 div.sk-item::before, #sk-container-id-7 div.sk-parallel-item::before {content: \"\";position: absolute;border-left: 1px solid gray;box-sizing: border-box;top: 0;bottom: 0;left: 50%;z-index: -1;}#sk-container-id-7 div.sk-parallel-item {display: flex;flex-direction: column;z-index: 1;position: relative;background-color: white;}#sk-container-id-7 div.sk-parallel-item:first-child::after {align-self: flex-end;width: 50%;}#sk-container-id-7 div.sk-parallel-item:last-child::after {align-self: flex-start;width: 50%;}#sk-container-id-7 div.sk-parallel-item:only-child::after {width: 0;}#sk-container-id-7 div.sk-dashed-wrapped {border: 1px dashed gray;margin: 0 0.4em 0.5em 0.4em;box-sizing: border-box;padding-bottom: 0.4em;background-color: white;}#sk-container-id-7 div.sk-label label {font-family: monospace;font-weight: bold;display: inline-block;line-height: 1.2em;}#sk-container-id-7 div.sk-label-container {text-align: center;}#sk-container-id-7 div.sk-container {/* jupyter's `normalize.less` sets `[hidden] { display: none; }` but bootstrap.min.css set `[hidden] { display: none !important; }` so we also need the `!important` here to be able to override the default hidden behavior on the sphinx rendered scikit-learn.org. See: https://github.com/scikit-learn/scikit-learn/issues/21755 */display: inline-block !important;position: relative;}#sk-container-id-7 div.sk-text-repr-fallback {display: none;}</style><div id=\"sk-container-id-7\" class=\"sk-top-container\"><div class=\"sk-text-repr-fallback\"><pre>DBSCAN(eps=519)</pre><b>In a Jupyter environment, please rerun this cell to show the HTML representation or trust the notebook. <br />On GitHub, the HTML representation is unable to render, please try loading this page with nbviewer.org.</b></div><div class=\"sk-container\" hidden><div class=\"sk-item\"><div class=\"sk-estimator sk-toggleable\"><input class=\"sk-toggleable__control sk-hidden--visually\" id=\"sk-estimator-id-7\" type=\"checkbox\" checked><label for=\"sk-estimator-id-7\" class=\"sk-toggleable__label sk-toggleable__label-arrow\">DBSCAN</label><div class=\"sk-toggleable__content\"><pre>DBSCAN(eps=519)</pre></div></div></div></div></div>"
     },
     "execution_count": 56,
     "metadata": {},
     "output_type": "execute_result"
    }
   ],
   "source": [
    "from sklearn.cluster import DBSCAN\n",
    "import numpy as np\n",
    "clustering = DBSCAN(eps=len(X.columns) * 3, min_samples=5).fit(X)\n",
    "clustering.labels_\n",
    "clustering"
   ],
   "metadata": {
    "collapsed": false,
    "pycharm": {
     "name": "#%%\n"
    }
   }
  },
  {
   "cell_type": "code",
   "execution_count": 57,
   "outputs": [
    {
     "data": {
      "text/plain": "array([-1, -1, -1, ..., -1, -1, -1], dtype=int64)"
     },
     "execution_count": 57,
     "metadata": {},
     "output_type": "execute_result"
    }
   ],
   "source": [
    "clustering.labels_"
   ],
   "metadata": {
    "collapsed": false,
    "pycharm": {
     "name": "#%%\n"
    }
   }
  },
  {
   "cell_type": "code",
   "execution_count": 61,
   "outputs": [
    {
     "name": "stdout",
     "output_type": "stream",
     "text": [
      "      Agricultural land (sq. km)  Agricultural land (% of land area)  \\\n",
      "0                       0.073052                            0.706100   \n",
      "1                       0.072474                            0.700471   \n",
      "2                       0.072474                            0.700471   \n",
      "3                       0.072283                            0.698613   \n",
      "4                       0.072283                            0.698613   \n",
      "...                          ...                                 ...   \n",
      "1901                    0.030888                            0.501744   \n",
      "1902                    0.030888                            0.501744   \n",
      "1903                    0.030888                            0.501744   \n",
      "1904                    0.031269                            0.508009   \n",
      "1905                    0.030888                            0.501744   \n",
      "\n",
      "      Arable land (hectares)  Arable land (hectares per person)  \\\n",
      "0                   0.049632                           0.113935   \n",
      "1                   0.049373                           0.116949   \n",
      "2                   0.049411                           0.120494   \n",
      "3                   0.048808                           0.122511   \n",
      "4                   0.048999                           0.126567   \n",
      "...                      ...                                ...   \n",
      "1901                0.025358                           0.163757   \n",
      "1902                0.025358                           0.167386   \n",
      "1903                0.025358                           0.171048   \n",
      "1904                0.026626                           0.182907   \n",
      "1905                0.025358                           0.176719   \n",
      "\n",
      "      Arable land (% of land area)  Forest area (sq. km)  \\\n",
      "0                         0.191238              0.001482   \n",
      "1                         0.190231              0.001482   \n",
      "2                         0.190378              0.001482   \n",
      "3                         0.188044              0.001482   \n",
      "4                         0.188781              0.001482   \n",
      "...                            ...                   ...   \n",
      "1901                      0.164582              0.021735   \n",
      "1902                      0.164582              0.021792   \n",
      "1903                      0.164582              0.021848   \n",
      "1904                      0.172866              0.021905   \n",
      "1905                      0.164582              0.021961   \n",
      "\n",
      "      Forest area (% of land area)  Land area (sq. km)  Surface area (sq. km)  \\\n",
      "0                         0.018891            0.039816               0.038173   \n",
      "1                         0.018891            0.039816               0.038173   \n",
      "2                         0.018891            0.039816               0.038173   \n",
      "3                         0.018891            0.039816               0.038173   \n",
      "4                         0.018891            0.039816               0.038173   \n",
      "...                            ...                 ...                    ...   \n",
      "1901                      0.467071            0.023611               0.022844   \n",
      "1902                      0.468285            0.023611               0.022844   \n",
      "1903                      0.469499            0.023611               0.022844   \n",
      "1904                      0.470714            0.023611               0.022844   \n",
      "1905                      0.471928            0.023611               0.022844   \n",
      "\n",
      "      Control of Corruption: Estimate  ...  \\\n",
      "0                            0.069383  ...   \n",
      "1                            0.086852  ...   \n",
      "2                            0.067169  ...   \n",
      "3                            0.059504  ...   \n",
      "4                            0.056548  ...   \n",
      "...                               ...  ...   \n",
      "1901                         0.087654  ...   \n",
      "1902                         0.083984  ...   \n",
      "1903                         0.093066  ...   \n",
      "1904                         0.082554  ...   \n",
      "1905                         0.095109  ...   \n",
      "\n",
      "      Merchandise imports by the reporting economy (current US$)  \\\n",
      "0                                              0.002545            \n",
      "1                                              0.002638            \n",
      "2                                              0.002886            \n",
      "3                                              0.005286            \n",
      "4                                              0.004911            \n",
      "...                                                 ...            \n",
      "1901                                           0.001841            \n",
      "1902                                           0.001929            \n",
      "1903                                           0.001898            \n",
      "1904                                           0.001884            \n",
      "1905                                           0.001680            \n",
      "\n",
      "      Merchandise exports to high-income economies (% of total merchandise exports)  \\\n",
      "0                                              0.067715                               \n",
      "1                                              0.066025                               \n",
      "2                                              0.041912                               \n",
      "3                                              0.042081                               \n",
      "4                                              0.043183                               \n",
      "...                                                 ...                               \n",
      "1901                                           0.070045                               \n",
      "1902                                           0.076304                               \n",
      "1903                                           0.162632                               \n",
      "1904                                           0.183011                               \n",
      "1905                                           0.311337                               \n",
      "\n",
      "      Merchandise exports by the reporting economy, residual (% of total merchandise exports)  \\\n",
      "0                                              0.000002                                         \n",
      "1                                              0.000003                                         \n",
      "2                                              0.000002                                         \n",
      "3                                              0.000002                                         \n",
      "4                                              0.000002                                         \n",
      "...                                                 ...                                         \n",
      "1901                                           0.228415                                         \n",
      "1902                                           0.108015                                         \n",
      "1903                                           0.026290                                         \n",
      "1904                                           0.000715                                         \n",
      "1905                                           0.000018                                         \n",
      "\n",
      "      Merchandise exports by the reporting economy (current US$)  \\\n",
      "0                                              0.000298            \n",
      "1                                              0.000332            \n",
      "2                                              0.000336            \n",
      "3                                              0.000155            \n",
      "4                                              0.000193            \n",
      "...                                                 ...            \n",
      "1901                                           0.001490            \n",
      "1902                                           0.001565            \n",
      "1903                                           0.001587            \n",
      "1904                                           0.001200            \n",
      "1905                                           0.001012            \n",
      "\n",
      "      Voice and Accountability: Estimate  \\\n",
      "0                               0.289684   \n",
      "1                               0.307593   \n",
      "2                               0.306369   \n",
      "3                               0.311612   \n",
      "4                               0.299762   \n",
      "...                                  ...   \n",
      "1901                            0.244490   \n",
      "1902                            0.211864   \n",
      "1903                            0.190232   \n",
      "1904                            0.192302   \n",
      "1905                            0.189422   \n",
      "\n",
      "      Voice and Accountability: Number of Sources  \\\n",
      "0                                        0.421053   \n",
      "1                                        0.473684   \n",
      "2                                        0.473684   \n",
      "3                                        0.473684   \n",
      "4                                        0.473684   \n",
      "...                                           ...   \n",
      "1901                                     0.684211   \n",
      "1902                                     0.947368   \n",
      "1903                                     0.947368   \n",
      "1904                                     0.894737   \n",
      "1905                                     0.842105   \n",
      "\n",
      "      Voice and Accountability: Percentile Rank  \\\n",
      "0                                      0.194285   \n",
      "1                                      0.208846   \n",
      "2                                      0.199139   \n",
      "3                                      0.218004   \n",
      "4                                      0.203155   \n",
      "...                                         ...   \n",
      "1901                                   0.133865   \n",
      "1902                                   0.094340   \n",
      "1903                                   0.070755   \n",
      "1904                                   0.075472   \n",
      "1905                                   0.076232   \n",
      "\n",
      "      Voice and Accountability: Percentile Rank, Lower Bound of 90% Confidence Interval  \\\n",
      "0                                              0.140544                                   \n",
      "1                                              0.160622                                   \n",
      "2                                              0.140544                                   \n",
      "3                                              0.148432                                   \n",
      "4                                              0.138195                                   \n",
      "...                                                 ...                                   \n",
      "1901                                           0.076775                                   \n",
      "1902                                           0.053659                                   \n",
      "1903                                           0.039024                                   \n",
      "1904                                           0.053659                                   \n",
      "1905                                           0.059091                                   \n",
      "\n",
      "      Voice and Accountability: Percentile Rank, Upper Bound of 90% Confidence Interval  \\\n",
      "0                                              0.225811                                   \n",
      "1                                              0.235611                                   \n",
      "2                                              0.240511                                   \n",
      "3                                              0.235538                                   \n",
      "4                                              0.225545                                   \n",
      "...                                                 ...                                   \n",
      "1901                                           0.190570                                   \n",
      "1902                                           0.133333                                   \n",
      "1903                                           0.109524                                   \n",
      "1904                                           0.114286                                   \n",
      "1905                                           0.115504                                   \n",
      "\n",
      "      Voice and Accountability: Standard Error  \n",
      "0                                     0.148799  \n",
      "1                                     0.124639  \n",
      "2                                     0.159440  \n",
      "3                                     0.143379  \n",
      "4                                     0.138513  \n",
      "...                                        ...  \n",
      "1901                                  0.088594  \n",
      "1902                                  0.002141  \n",
      "1903                                  0.022472  \n",
      "1904                                  0.038447  \n",
      "1905                                  0.035478  \n",
      "\n",
      "[1906 rows x 173 columns]\n"
     ]
    }
   ],
   "source": [
    "from sklearn import preprocessing\n",
    "import numpy as np\n",
    "\n",
    "normalized_df=(X-X.min())/(X.max()-X.min())\n",
    "print(normalized_df)"
   ],
   "metadata": {
    "collapsed": false,
    "pycharm": {
     "name": "#%%\n"
    }
   }
  },
  {
   "cell_type": "code",
   "execution_count": 82,
   "outputs": [
    {
     "data": {
      "text/plain": "DBSCAN(eps=1.1533333333333333, min_samples=10)",
      "text/html": "<style>#sk-container-id-17 {color: black;}#sk-container-id-17 pre{padding: 0;}#sk-container-id-17 div.sk-toggleable {background-color: white;}#sk-container-id-17 label.sk-toggleable__label {cursor: pointer;display: block;width: 100%;margin-bottom: 0;padding: 0.3em;box-sizing: border-box;text-align: center;}#sk-container-id-17 label.sk-toggleable__label-arrow:before {content: \"▸\";float: left;margin-right: 0.25em;color: #696969;}#sk-container-id-17 label.sk-toggleable__label-arrow:hover:before {color: black;}#sk-container-id-17 div.sk-estimator:hover label.sk-toggleable__label-arrow:before {color: black;}#sk-container-id-17 div.sk-toggleable__content {max-height: 0;max-width: 0;overflow: hidden;text-align: left;background-color: #f0f8ff;}#sk-container-id-17 div.sk-toggleable__content pre {margin: 0.2em;color: black;border-radius: 0.25em;background-color: #f0f8ff;}#sk-container-id-17 input.sk-toggleable__control:checked~div.sk-toggleable__content {max-height: 200px;max-width: 100%;overflow: auto;}#sk-container-id-17 input.sk-toggleable__control:checked~label.sk-toggleable__label-arrow:before {content: \"▾\";}#sk-container-id-17 div.sk-estimator input.sk-toggleable__control:checked~label.sk-toggleable__label {background-color: #d4ebff;}#sk-container-id-17 div.sk-label input.sk-toggleable__control:checked~label.sk-toggleable__label {background-color: #d4ebff;}#sk-container-id-17 input.sk-hidden--visually {border: 0;clip: rect(1px 1px 1px 1px);clip: rect(1px, 1px, 1px, 1px);height: 1px;margin: -1px;overflow: hidden;padding: 0;position: absolute;width: 1px;}#sk-container-id-17 div.sk-estimator {font-family: monospace;background-color: #f0f8ff;border: 1px dotted black;border-radius: 0.25em;box-sizing: border-box;margin-bottom: 0.5em;}#sk-container-id-17 div.sk-estimator:hover {background-color: #d4ebff;}#sk-container-id-17 div.sk-parallel-item::after {content: \"\";width: 100%;border-bottom: 1px solid gray;flex-grow: 1;}#sk-container-id-17 div.sk-label:hover label.sk-toggleable__label {background-color: #d4ebff;}#sk-container-id-17 div.sk-serial::before {content: \"\";position: absolute;border-left: 1px solid gray;box-sizing: border-box;top: 0;bottom: 0;left: 50%;z-index: 0;}#sk-container-id-17 div.sk-serial {display: flex;flex-direction: column;align-items: center;background-color: white;padding-right: 0.2em;padding-left: 0.2em;position: relative;}#sk-container-id-17 div.sk-item {position: relative;z-index: 1;}#sk-container-id-17 div.sk-parallel {display: flex;align-items: stretch;justify-content: center;background-color: white;position: relative;}#sk-container-id-17 div.sk-item::before, #sk-container-id-17 div.sk-parallel-item::before {content: \"\";position: absolute;border-left: 1px solid gray;box-sizing: border-box;top: 0;bottom: 0;left: 50%;z-index: -1;}#sk-container-id-17 div.sk-parallel-item {display: flex;flex-direction: column;z-index: 1;position: relative;background-color: white;}#sk-container-id-17 div.sk-parallel-item:first-child::after {align-self: flex-end;width: 50%;}#sk-container-id-17 div.sk-parallel-item:last-child::after {align-self: flex-start;width: 50%;}#sk-container-id-17 div.sk-parallel-item:only-child::after {width: 0;}#sk-container-id-17 div.sk-dashed-wrapped {border: 1px dashed gray;margin: 0 0.4em 0.5em 0.4em;box-sizing: border-box;padding-bottom: 0.4em;background-color: white;}#sk-container-id-17 div.sk-label label {font-family: monospace;font-weight: bold;display: inline-block;line-height: 1.2em;}#sk-container-id-17 div.sk-label-container {text-align: center;}#sk-container-id-17 div.sk-container {/* jupyter's `normalize.less` sets `[hidden] { display: none; }` but bootstrap.min.css set `[hidden] { display: none !important; }` so we also need the `!important` here to be able to override the default hidden behavior on the sphinx rendered scikit-learn.org. See: https://github.com/scikit-learn/scikit-learn/issues/21755 */display: inline-block !important;position: relative;}#sk-container-id-17 div.sk-text-repr-fallback {display: none;}</style><div id=\"sk-container-id-17\" class=\"sk-top-container\"><div class=\"sk-text-repr-fallback\"><pre>DBSCAN(eps=1.1533333333333333, min_samples=10)</pre><b>In a Jupyter environment, please rerun this cell to show the HTML representation or trust the notebook. <br />On GitHub, the HTML representation is unable to render, please try loading this page with nbviewer.org.</b></div><div class=\"sk-container\" hidden><div class=\"sk-item\"><div class=\"sk-estimator sk-toggleable\"><input class=\"sk-toggleable__control sk-hidden--visually\" id=\"sk-estimator-id-17\" type=\"checkbox\" checked><label for=\"sk-estimator-id-17\" class=\"sk-toggleable__label sk-toggleable__label-arrow\">DBSCAN</label><div class=\"sk-toggleable__content\"><pre>DBSCAN(eps=1.1533333333333333, min_samples=10)</pre></div></div></div></div></div>"
     },
     "execution_count": 82,
     "metadata": {},
     "output_type": "execute_result"
    }
   ],
   "source": [
    "from sklearn.cluster import DBSCAN\n",
    "import numpy as np\n",
    "clustering = DBSCAN(eps=len(normalized_df.columns) / 150, min_samples=10).fit(normalized_df)\n",
    "clustering.labels_\n",
    "clustering"
   ],
   "metadata": {
    "collapsed": false,
    "pycharm": {
     "name": "#%%\n"
    }
   }
  },
  {
   "cell_type": "code",
   "execution_count": 83,
   "outputs": [
    {
     "data": {
      "text/plain": "array([0, 0, 0, ..., 0, 0, 0], dtype=int64)"
     },
     "execution_count": 83,
     "metadata": {},
     "output_type": "execute_result"
    }
   ],
   "source": [
    "clustering.labels_"
   ],
   "metadata": {
    "collapsed": false,
    "pycharm": {
     "name": "#%%\n"
    }
   }
  },
  {
   "cell_type": "code",
   "execution_count": 79,
   "outputs": [
    {
     "data": {
      "text/plain": "8.65"
     },
     "execution_count": 79,
     "metadata": {},
     "output_type": "execute_result"
    }
   ],
   "source": [
    "len(normalized_df.columns) / 20"
   ],
   "metadata": {
    "collapsed": false,
    "pycharm": {
     "name": "#%%\n"
    }
   }
  },
  {
   "cell_type": "code",
   "execution_count": 84,
   "outputs": [],
   "source": [
    "fresh_data = pd.read_csv('./without_nulls (1).csv', sep=',')"
   ],
   "metadata": {
    "collapsed": false,
    "pycharm": {
     "name": "#%%\n"
    }
   }
  },
  {
   "cell_type": "code",
   "execution_count": 85,
   "outputs": [],
   "source": [
    "X_2020 = fresh_data[fresh_data['DB year'] == 2020]"
   ],
   "metadata": {
    "collapsed": false,
    "pycharm": {
     "name": "#%%\n"
    }
   }
  },
  {
   "cell_type": "code",
   "execution_count": 86,
   "outputs": [
    {
     "data": {
      "text/plain": "   Country code              Economy  DB year   DB score  \\\n0           AFG          Afghanistan     2020  44.493061   \n11          ALB              Albania     2020  67.368898   \n22          DZA              Algeria     2020  48.302936   \n33          AGO               Angola     2020  40.605138   \n44          ATG  Antigua and Barbuda     2020  59.928594   \n\n    Agricultural land (sq. km)  Agricultural land (% of land area)  \\\n0                    383130.00                           58.741548   \n11                    11655.55                           42.538504   \n22                   413160.71                           17.347004   \n33                   458920.00                           36.810780   \n44                       90.00                           20.454545   \n\n    Arable land (hectares)  Arable land (hectares per person)  \\\n0                7829000.0                           0.200887   \n11                599600.0                           0.211287   \n22               7530600.0                           0.173310   \n33               5368000.0                           0.160582   \n44                  4000.0                           0.043167   \n\n    Arable land (% of land area)  Forest area (sq. km)  ...  \\\n0                      12.003434               12084.4  ...   \n11                     21.883212                7889.0  ...   \n22                      3.161805               19490.0  ...   \n33                      4.305767              666073.8  ...   \n44                      9.090909                  81.2  ...   \n\n    Merchandise imports by the reporting economy (current US$)  \\\n0                                        6.537616e+09            \n11                                       6.022685e+09            \n22                                       3.246176e+10            \n33                                       1.078506e+10            \n44                                       5.471867e+08            \n\n    Merchandise exports to high-income economies (% of total merchandise exports)  \\\n0                                            6.707951                               \n11                                          76.482001                               \n22                                          74.379095                               \n33                                          22.706225                               \n44                                          66.783277                               \n\n    Merchandise exports by the reporting economy, residual (% of total merchandise exports)  \\\n0                                            0.000000                                         \n11                                           0.000367                                         \n22                                           3.714208                                         \n33                                           0.415888                                         \n44                                           0.276875                                         \n\n    Merchandise exports by the reporting economy (current US$)  \\\n0                                        7.767222e+08            \n11                                       2.716278e+09            \n22                                       2.910600e+10            \n33                                       1.449064e+10            \n44                                       1.863167e+08            \n\n    Voice and Accountability: Estimate  \\\n0                            -1.077736   \n11                            0.088362   \n22                           -1.088018   \n33                           -0.802131   \n44                            0.745885   \n\n    Voice and Accountability: Number of Sources  \\\n0                                           9.0   \n11                                         10.0   \n22                                          9.0   \n33                                         11.0   \n44                                          2.0   \n\n    Voice and Accountability: Percentile Rank  \\\n0                                   19.806763   \n11                                  51.207729   \n22                                  19.323671   \n33                                  26.086956   \n44                                  71.014496   \n\n    Voice and Accountability: Percentile Rank, Lower Bound of 90% Confidence Interval  \\\n0                                           13.526570                                   \n11                                          40.579712                                   \n22                                          13.526570                                   \n33                                          21.256039                                   \n44                                          58.937199                                   \n\n    Voice and Accountability: Percentile Rank, Upper Bound of 90% Confidence Interval  \\\n0                                           23.671497                                   \n11                                          56.521740                                   \n22                                          23.188406                                   \n33                                          31.400967                                   \n44                                          83.574883                                   \n\n    Voice and Accountability: Standard Error  \n0                                   0.131839  \n11                                  0.125341  \n22                                  0.126841  \n33                                  0.124390  \n44                                  0.210643  \n\n[5 rows x 177 columns]",
      "text/html": "<div>\n<style scoped>\n    .dataframe tbody tr th:only-of-type {\n        vertical-align: middle;\n    }\n\n    .dataframe tbody tr th {\n        vertical-align: top;\n    }\n\n    .dataframe thead th {\n        text-align: right;\n    }\n</style>\n<table border=\"1\" class=\"dataframe\">\n  <thead>\n    <tr style=\"text-align: right;\">\n      <th></th>\n      <th>Country code</th>\n      <th>Economy</th>\n      <th>DB year</th>\n      <th>DB score</th>\n      <th>Agricultural land (sq. km)</th>\n      <th>Agricultural land (% of land area)</th>\n      <th>Arable land (hectares)</th>\n      <th>Arable land (hectares per person)</th>\n      <th>Arable land (% of land area)</th>\n      <th>Forest area (sq. km)</th>\n      <th>...</th>\n      <th>Merchandise imports by the reporting economy (current US$)</th>\n      <th>Merchandise exports to high-income economies (% of total merchandise exports)</th>\n      <th>Merchandise exports by the reporting economy, residual (% of total merchandise exports)</th>\n      <th>Merchandise exports by the reporting economy (current US$)</th>\n      <th>Voice and Accountability: Estimate</th>\n      <th>Voice and Accountability: Number of Sources</th>\n      <th>Voice and Accountability: Percentile Rank</th>\n      <th>Voice and Accountability: Percentile Rank, Lower Bound of 90% Confidence Interval</th>\n      <th>Voice and Accountability: Percentile Rank, Upper Bound of 90% Confidence Interval</th>\n      <th>Voice and Accountability: Standard Error</th>\n    </tr>\n  </thead>\n  <tbody>\n    <tr>\n      <th>0</th>\n      <td>AFG</td>\n      <td>Afghanistan</td>\n      <td>2020</td>\n      <td>44.493061</td>\n      <td>383130.00</td>\n      <td>58.741548</td>\n      <td>7829000.0</td>\n      <td>0.200887</td>\n      <td>12.003434</td>\n      <td>12084.4</td>\n      <td>...</td>\n      <td>6.537616e+09</td>\n      <td>6.707951</td>\n      <td>0.000000</td>\n      <td>7.767222e+08</td>\n      <td>-1.077736</td>\n      <td>9.0</td>\n      <td>19.806763</td>\n      <td>13.526570</td>\n      <td>23.671497</td>\n      <td>0.131839</td>\n    </tr>\n    <tr>\n      <th>11</th>\n      <td>ALB</td>\n      <td>Albania</td>\n      <td>2020</td>\n      <td>67.368898</td>\n      <td>11655.55</td>\n      <td>42.538504</td>\n      <td>599600.0</td>\n      <td>0.211287</td>\n      <td>21.883212</td>\n      <td>7889.0</td>\n      <td>...</td>\n      <td>6.022685e+09</td>\n      <td>76.482001</td>\n      <td>0.000367</td>\n      <td>2.716278e+09</td>\n      <td>0.088362</td>\n      <td>10.0</td>\n      <td>51.207729</td>\n      <td>40.579712</td>\n      <td>56.521740</td>\n      <td>0.125341</td>\n    </tr>\n    <tr>\n      <th>22</th>\n      <td>DZA</td>\n      <td>Algeria</td>\n      <td>2020</td>\n      <td>48.302936</td>\n      <td>413160.71</td>\n      <td>17.347004</td>\n      <td>7530600.0</td>\n      <td>0.173310</td>\n      <td>3.161805</td>\n      <td>19490.0</td>\n      <td>...</td>\n      <td>3.246176e+10</td>\n      <td>74.379095</td>\n      <td>3.714208</td>\n      <td>2.910600e+10</td>\n      <td>-1.088018</td>\n      <td>9.0</td>\n      <td>19.323671</td>\n      <td>13.526570</td>\n      <td>23.188406</td>\n      <td>0.126841</td>\n    </tr>\n    <tr>\n      <th>33</th>\n      <td>AGO</td>\n      <td>Angola</td>\n      <td>2020</td>\n      <td>40.605138</td>\n      <td>458920.00</td>\n      <td>36.810780</td>\n      <td>5368000.0</td>\n      <td>0.160582</td>\n      <td>4.305767</td>\n      <td>666073.8</td>\n      <td>...</td>\n      <td>1.078506e+10</td>\n      <td>22.706225</td>\n      <td>0.415888</td>\n      <td>1.449064e+10</td>\n      <td>-0.802131</td>\n      <td>11.0</td>\n      <td>26.086956</td>\n      <td>21.256039</td>\n      <td>31.400967</td>\n      <td>0.124390</td>\n    </tr>\n    <tr>\n      <th>44</th>\n      <td>ATG</td>\n      <td>Antigua and Barbuda</td>\n      <td>2020</td>\n      <td>59.928594</td>\n      <td>90.00</td>\n      <td>20.454545</td>\n      <td>4000.0</td>\n      <td>0.043167</td>\n      <td>9.090909</td>\n      <td>81.2</td>\n      <td>...</td>\n      <td>5.471867e+08</td>\n      <td>66.783277</td>\n      <td>0.276875</td>\n      <td>1.863167e+08</td>\n      <td>0.745885</td>\n      <td>2.0</td>\n      <td>71.014496</td>\n      <td>58.937199</td>\n      <td>83.574883</td>\n      <td>0.210643</td>\n    </tr>\n  </tbody>\n</table>\n<p>5 rows × 177 columns</p>\n</div>"
     },
     "execution_count": 86,
     "metadata": {},
     "output_type": "execute_result"
    }
   ],
   "source": [
    "X_2020.head()"
   ],
   "metadata": {
    "collapsed": false,
    "pycharm": {
     "name": "#%%\n"
    }
   }
  },
  {
   "cell_type": "code",
   "execution_count": 88,
   "outputs": [],
   "source": [
    "X_2020 = X_2020.drop(['Country code', 'Economy'], axis=1)"
   ],
   "metadata": {
    "collapsed": false,
    "pycharm": {
     "name": "#%%\n"
    }
   }
  },
  {
   "cell_type": "code",
   "execution_count": 101,
   "outputs": [],
   "source": [
    "X_2020 = X_2020.drop(['DB year'], axis=1)"
   ],
   "metadata": {
    "collapsed": false,
    "pycharm": {
     "name": "#%%\n"
    }
   }
  },
  {
   "cell_type": "code",
   "execution_count": 98,
   "outputs": [],
   "source": [
    "X_2020=(X_2020-X_2020.min())/(X_2020.max()-X_2020.min())"
   ],
   "metadata": {
    "collapsed": false,
    "pycharm": {
     "name": "#%%\n"
    }
   }
  },
  {
   "cell_type": "code",
   "execution_count": 196,
   "outputs": [
    {
     "data": {
      "text/plain": "DBSCAN(metric='correlation', min_samples=2)",
      "text/html": "<style>#sk-container-id-68 {color: black;}#sk-container-id-68 pre{padding: 0;}#sk-container-id-68 div.sk-toggleable {background-color: white;}#sk-container-id-68 label.sk-toggleable__label {cursor: pointer;display: block;width: 100%;margin-bottom: 0;padding: 0.3em;box-sizing: border-box;text-align: center;}#sk-container-id-68 label.sk-toggleable__label-arrow:before {content: \"▸\";float: left;margin-right: 0.25em;color: #696969;}#sk-container-id-68 label.sk-toggleable__label-arrow:hover:before {color: black;}#sk-container-id-68 div.sk-estimator:hover label.sk-toggleable__label-arrow:before {color: black;}#sk-container-id-68 div.sk-toggleable__content {max-height: 0;max-width: 0;overflow: hidden;text-align: left;background-color: #f0f8ff;}#sk-container-id-68 div.sk-toggleable__content pre {margin: 0.2em;color: black;border-radius: 0.25em;background-color: #f0f8ff;}#sk-container-id-68 input.sk-toggleable__control:checked~div.sk-toggleable__content {max-height: 200px;max-width: 100%;overflow: auto;}#sk-container-id-68 input.sk-toggleable__control:checked~label.sk-toggleable__label-arrow:before {content: \"▾\";}#sk-container-id-68 div.sk-estimator input.sk-toggleable__control:checked~label.sk-toggleable__label {background-color: #d4ebff;}#sk-container-id-68 div.sk-label input.sk-toggleable__control:checked~label.sk-toggleable__label {background-color: #d4ebff;}#sk-container-id-68 input.sk-hidden--visually {border: 0;clip: rect(1px 1px 1px 1px);clip: rect(1px, 1px, 1px, 1px);height: 1px;margin: -1px;overflow: hidden;padding: 0;position: absolute;width: 1px;}#sk-container-id-68 div.sk-estimator {font-family: monospace;background-color: #f0f8ff;border: 1px dotted black;border-radius: 0.25em;box-sizing: border-box;margin-bottom: 0.5em;}#sk-container-id-68 div.sk-estimator:hover {background-color: #d4ebff;}#sk-container-id-68 div.sk-parallel-item::after {content: \"\";width: 100%;border-bottom: 1px solid gray;flex-grow: 1;}#sk-container-id-68 div.sk-label:hover label.sk-toggleable__label {background-color: #d4ebff;}#sk-container-id-68 div.sk-serial::before {content: \"\";position: absolute;border-left: 1px solid gray;box-sizing: border-box;top: 0;bottom: 0;left: 50%;z-index: 0;}#sk-container-id-68 div.sk-serial {display: flex;flex-direction: column;align-items: center;background-color: white;padding-right: 0.2em;padding-left: 0.2em;position: relative;}#sk-container-id-68 div.sk-item {position: relative;z-index: 1;}#sk-container-id-68 div.sk-parallel {display: flex;align-items: stretch;justify-content: center;background-color: white;position: relative;}#sk-container-id-68 div.sk-item::before, #sk-container-id-68 div.sk-parallel-item::before {content: \"\";position: absolute;border-left: 1px solid gray;box-sizing: border-box;top: 0;bottom: 0;left: 50%;z-index: -1;}#sk-container-id-68 div.sk-parallel-item {display: flex;flex-direction: column;z-index: 1;position: relative;background-color: white;}#sk-container-id-68 div.sk-parallel-item:first-child::after {align-self: flex-end;width: 50%;}#sk-container-id-68 div.sk-parallel-item:last-child::after {align-self: flex-start;width: 50%;}#sk-container-id-68 div.sk-parallel-item:only-child::after {width: 0;}#sk-container-id-68 div.sk-dashed-wrapped {border: 1px dashed gray;margin: 0 0.4em 0.5em 0.4em;box-sizing: border-box;padding-bottom: 0.4em;background-color: white;}#sk-container-id-68 div.sk-label label {font-family: monospace;font-weight: bold;display: inline-block;line-height: 1.2em;}#sk-container-id-68 div.sk-label-container {text-align: center;}#sk-container-id-68 div.sk-container {/* jupyter's `normalize.less` sets `[hidden] { display: none; }` but bootstrap.min.css set `[hidden] { display: none !important; }` so we also need the `!important` here to be able to override the default hidden behavior on the sphinx rendered scikit-learn.org. See: https://github.com/scikit-learn/scikit-learn/issues/21755 */display: inline-block !important;position: relative;}#sk-container-id-68 div.sk-text-repr-fallback {display: none;}</style><div id=\"sk-container-id-68\" class=\"sk-top-container\"><div class=\"sk-text-repr-fallback\"><pre>DBSCAN(metric=&#x27;correlation&#x27;, min_samples=2)</pre><b>In a Jupyter environment, please rerun this cell to show the HTML representation or trust the notebook. <br />On GitHub, the HTML representation is unable to render, please try loading this page with nbviewer.org.</b></div><div class=\"sk-container\" hidden><div class=\"sk-item\"><div class=\"sk-estimator sk-toggleable\"><input class=\"sk-toggleable__control sk-hidden--visually\" id=\"sk-estimator-id-68\" type=\"checkbox\" checked><label for=\"sk-estimator-id-68\" class=\"sk-toggleable__label sk-toggleable__label-arrow\">DBSCAN</label><div class=\"sk-toggleable__content\"><pre>DBSCAN(metric=&#x27;correlation&#x27;, min_samples=2)</pre></div></div></div></div></div>"
     },
     "execution_count": 196,
     "metadata": {},
     "output_type": "execute_result"
    }
   ],
   "source": [
    "from sklearn.cluster import DBSCAN\n",
    "import numpy as np\n",
    "clustering = DBSCAN(min_samples=2, metric='correlation').fit(X_2020)\n",
    "clustering.labels_\n",
    "clustering"
   ],
   "metadata": {
    "collapsed": false,
    "pycharm": {
     "name": "#%%\n"
    }
   }
  },
  {
   "cell_type": "code",
   "execution_count": 197,
   "outputs": [
    {
     "data": {
      "text/plain": "array([ 0,  0,  0,  0,  0,  0,  0,  0,  0,  0,  0,  0,  0,  0,  0,  0,  0,\n        0,  0,  0,  0,  0,  0,  0,  0,  0,  0,  0,  0,  0,  0,  0,  0,  0,\n        0,  0,  0,  0,  0,  0,  0,  0,  0,  0,  0,  0,  0,  0,  0,  0,  0,\n        0,  0,  0,  0,  0,  0,  0,  0,  0,  0,  0,  0,  0,  0,  0,  0,  0,\n        0,  0,  0,  0, -1,  0,  0,  0,  0,  0,  0,  0,  0,  0,  0,  0,  0,\n        0,  0,  0,  0,  0,  0,  0,  0,  0,  0,  0,  0,  0,  0,  0,  0,  0,\n        0,  0,  0,  0,  0,  0,  0,  0,  0,  0,  0,  0,  0,  0,  0,  0,  0,\n        0,  0,  0,  0,  0,  0,  0,  0,  0,  0,  0,  0,  0,  0,  0,  0,  0,\n        0,  0,  0,  0,  0,  0,  0,  0,  0,  0,  0,  0,  0,  0,  0,  0,  0,\n        0,  0,  0,  0,  0,  0,  0,  0,  0,  0,  0,  0,  0,  0,  0,  0,  0,\n        0,  0,  0,  0,  0,  0,  0], dtype=int64)"
     },
     "execution_count": 197,
     "metadata": {},
     "output_type": "execute_result"
    }
   ],
   "source": [
    "clustering.labels_"
   ],
   "metadata": {
    "collapsed": false,
    "pycharm": {
     "name": "#%%\n"
    }
   }
  },
  {
   "cell_type": "code",
   "execution_count": 167,
   "outputs": [
    {
     "data": {
      "text/plain": "      DB score  Agricultural land (sq. km)  \\\n0     0.368762                    0.073579   \n11    0.713331                    0.002237   \n22    0.426149                    0.079347   \n33    0.310200                    0.088135   \n44    0.601261                    0.000016   \n...        ...                         ...   \n1837  0.757278                    0.049322   \n1848  0.611342                    0.000358   \n1864  0.748658                    0.023736   \n1884  0.703846                    0.045782   \n1895  0.523244                    0.031111   \n\n      Agricultural land (% of land area)  Arable land (hectares)  \\\n0                               0.724884                0.049632   \n11                              0.523174                0.003800   \n22                              0.209567                0.047741   \n33                              0.451870                0.034030   \n44                              0.248253                0.000024   \n...                                  ...                     ...   \n1837                            0.719179                0.025504   \n1848                            0.184588                0.000126   \n1864                            0.484536                0.043026   \n1884                            0.392827                0.024090   \n1895                            0.514935                0.025358   \n\n      Arable land (hectares per person)  Arable land (% of land area)  \\\n0                              0.127436                      0.193613   \n11                             0.134037                      0.354708   \n22                             0.109934                      0.049445   \n33                             0.101855                      0.068098   \n44                             0.027335                      0.146122   \n...                                 ...                           ...   \n1837                           0.074526                      0.146755   \n1848                           0.040663                      0.024642   \n1864                           0.044507                      0.350971   \n1884                           0.127358                      0.081239   \n1895                           0.161953                      0.166488   \n\n      Forest area (sq. km)  Forest area (% of land area)  Land area (sq. km)  \\\n0                 0.001482                      0.019020            0.039816   \n11                0.000968                      0.295569            0.001662   \n22                0.002390                      0.008400            0.145424   \n33                0.081696                      0.548463            0.076116   \n44                0.000010                      0.189448            0.000016   \n...                    ...                           ...                 ...   \n1837              0.004525                      0.085957            0.026896   \n1848              0.000542                      0.372478            0.000733   \n1864              0.017960                      0.479602            0.019128   \n1884              0.054966                      0.618848            0.045382   \n1895              0.021396                      0.462919            0.023611   \n\n      Surface area (sq. km)  ...  \\\n0                  0.038173  ...   \n11                 0.001671  ...   \n22                 0.139288  ...   \n33                 0.072904  ...   \n44                 0.000015  ...   \n...                     ...  ...   \n1837               0.026245  ...   \n1848               0.000702  ...   \n1864               0.019368  ...   \n1884               0.044007  ...   \n1895               0.022844  ...   \n\n      Merchandise imports by the reporting economy (current US$)  \\\n0                                              0.002739            \n11                                             0.002519            \n22                                             0.013835            \n33                                             0.004557            \n44                                             0.000175            \n...                                                 ...            \n1837                                           0.008482            \n1848                                           0.000052            \n1864                                           0.118882            \n1884                                           0.002218            \n1895                                           0.001850            \n\n      Merchandise exports to high-income economies (% of total merchandise exports)  \\\n0                                              0.063153                               \n11                                             0.814887                               \n22                                             0.792231                               \n33                                             0.235516                               \n44                                             0.710394                               \n...                                                 ...                               \n1837                                           0.044936                               \n1848                                           0.845873                               \n1864                                           0.722105                               \n1884                                           0.632473                               \n1895                                           0.234262                               \n\n      Merchandise exports by the reporting economy, residual (% of total merchandise exports)  \\\n0                                              0.000000                                         \n11                                             0.000004                                         \n22                                             0.041681                                         \n33                                             0.004667                                         \n44                                             0.003107                                         \n...                                                 ...                                         \n1837                                           0.506155                                         \n1848                                           0.018505                                         \n1864                                           0.000089                                         \n1884                                           0.000073                                         \n1895                                           0.247108                                         \n\n      Merchandise exports by the reporting economy (current US$)  \\\n0                                              0.000298            \n11                                             0.001044            \n22                                             0.011202            \n33                                             0.005576            \n44                                             0.000071            \n...                                                 ...            \n1837                                           0.005051            \n1848                                           0.000043            \n1864                                           0.107405            \n1884                                           0.003007            \n1895                                           0.001691            \n\n      Voice and Accountability: Estimate  \\\n0                               0.233736   \n11                              0.552635   \n22                              0.230925   \n33                              0.309108   \n44                              0.732451   \n...                                  ...   \n1837                            0.109368   \n1848                            0.695287   \n1864                            0.151520   \n1884                            0.411249   \n1895                            0.223897   \n\n      Voice and Accountability: Number of Sources  \\\n0                                        0.615385   \n11                                       0.692308   \n22                                       0.615385   \n33                                       0.769231   \n44                                       0.076923   \n...                                           ...   \n1837                                     0.461538   \n1848                                     0.230769   \n1864                                     0.692308   \n1884                                     0.846154   \n1895                                     0.846154   \n\n      Voice and Accountability: Percentile Rank  \\\n0                                      0.186275   \n11                                     0.504902   \n22                                     0.181373   \n33                                     0.250000   \n44                                     0.705882   \n...                                         ...   \n1837                                   0.049020   \n1848                                   0.656863   \n1864                                   0.102941   \n1884                                   0.338235   \n1895                                   0.166667   \n\n      Voice and Accountability: Percentile Rank, Lower Bound of 90% Confidence Interval  \\\n0                                              0.140704                                   \n11                                             0.422111                                   \n22                                             0.140704                                   \n33                                             0.221106                                   \n44                                             0.613065                                   \n...                                                 ...                                   \n1837                                           0.045226                                   \n1848                                           0.582915                                   \n1864                                           0.055276                                   \n1884                                           0.311558                                   \n1895                                           0.135678                                   \n\n      Voice and Accountability: Percentile Rank, Upper Bound of 90% Confidence Interval  \\\n0                                              0.202020                                   \n11                                             0.545455                                   \n22                                             0.196970                                   \n33                                             0.282828                                   \n44                                             0.828283                                   \n...                                                 ...                                   \n1837                                           0.090909                                   \n1848                                           0.772727                                   \n1864                                           0.126263                                   \n1884                                           0.348485                                   \n1895                                           0.196970                                   \n\n      Voice and Accountability: Standard Error  \n0                                     0.207563  \n11                                    0.160056  \n22                                    0.171027  \n33                                    0.153105  \n44                                    0.783706  \n...                                        ...  \n1837                                  0.220322  \n1848                                  0.706627  \n1864                                  0.170362  \n1884                                  0.125741  \n1895                                  0.125741  \n\n[177 rows x 174 columns]",
      "text/html": "<div>\n<style scoped>\n    .dataframe tbody tr th:only-of-type {\n        vertical-align: middle;\n    }\n\n    .dataframe tbody tr th {\n        vertical-align: top;\n    }\n\n    .dataframe thead th {\n        text-align: right;\n    }\n</style>\n<table border=\"1\" class=\"dataframe\">\n  <thead>\n    <tr style=\"text-align: right;\">\n      <th></th>\n      <th>DB score</th>\n      <th>Agricultural land (sq. km)</th>\n      <th>Agricultural land (% of land area)</th>\n      <th>Arable land (hectares)</th>\n      <th>Arable land (hectares per person)</th>\n      <th>Arable land (% of land area)</th>\n      <th>Forest area (sq. km)</th>\n      <th>Forest area (% of land area)</th>\n      <th>Land area (sq. km)</th>\n      <th>Surface area (sq. km)</th>\n      <th>...</th>\n      <th>Merchandise imports by the reporting economy (current US$)</th>\n      <th>Merchandise exports to high-income economies (% of total merchandise exports)</th>\n      <th>Merchandise exports by the reporting economy, residual (% of total merchandise exports)</th>\n      <th>Merchandise exports by the reporting economy (current US$)</th>\n      <th>Voice and Accountability: Estimate</th>\n      <th>Voice and Accountability: Number of Sources</th>\n      <th>Voice and Accountability: Percentile Rank</th>\n      <th>Voice and Accountability: Percentile Rank, Lower Bound of 90% Confidence Interval</th>\n      <th>Voice and Accountability: Percentile Rank, Upper Bound of 90% Confidence Interval</th>\n      <th>Voice and Accountability: Standard Error</th>\n    </tr>\n  </thead>\n  <tbody>\n    <tr>\n      <th>0</th>\n      <td>0.368762</td>\n      <td>0.073579</td>\n      <td>0.724884</td>\n      <td>0.049632</td>\n      <td>0.127436</td>\n      <td>0.193613</td>\n      <td>0.001482</td>\n      <td>0.019020</td>\n      <td>0.039816</td>\n      <td>0.038173</td>\n      <td>...</td>\n      <td>0.002739</td>\n      <td>0.063153</td>\n      <td>0.000000</td>\n      <td>0.000298</td>\n      <td>0.233736</td>\n      <td>0.615385</td>\n      <td>0.186275</td>\n      <td>0.140704</td>\n      <td>0.202020</td>\n      <td>0.207563</td>\n    </tr>\n    <tr>\n      <th>11</th>\n      <td>0.713331</td>\n      <td>0.002237</td>\n      <td>0.523174</td>\n      <td>0.003800</td>\n      <td>0.134037</td>\n      <td>0.354708</td>\n      <td>0.000968</td>\n      <td>0.295569</td>\n      <td>0.001662</td>\n      <td>0.001671</td>\n      <td>...</td>\n      <td>0.002519</td>\n      <td>0.814887</td>\n      <td>0.000004</td>\n      <td>0.001044</td>\n      <td>0.552635</td>\n      <td>0.692308</td>\n      <td>0.504902</td>\n      <td>0.422111</td>\n      <td>0.545455</td>\n      <td>0.160056</td>\n    </tr>\n    <tr>\n      <th>22</th>\n      <td>0.426149</td>\n      <td>0.079347</td>\n      <td>0.209567</td>\n      <td>0.047741</td>\n      <td>0.109934</td>\n      <td>0.049445</td>\n      <td>0.002390</td>\n      <td>0.008400</td>\n      <td>0.145424</td>\n      <td>0.139288</td>\n      <td>...</td>\n      <td>0.013835</td>\n      <td>0.792231</td>\n      <td>0.041681</td>\n      <td>0.011202</td>\n      <td>0.230925</td>\n      <td>0.615385</td>\n      <td>0.181373</td>\n      <td>0.140704</td>\n      <td>0.196970</td>\n      <td>0.171027</td>\n    </tr>\n    <tr>\n      <th>33</th>\n      <td>0.310200</td>\n      <td>0.088135</td>\n      <td>0.451870</td>\n      <td>0.034030</td>\n      <td>0.101855</td>\n      <td>0.068098</td>\n      <td>0.081696</td>\n      <td>0.548463</td>\n      <td>0.076116</td>\n      <td>0.072904</td>\n      <td>...</td>\n      <td>0.004557</td>\n      <td>0.235516</td>\n      <td>0.004667</td>\n      <td>0.005576</td>\n      <td>0.309108</td>\n      <td>0.769231</td>\n      <td>0.250000</td>\n      <td>0.221106</td>\n      <td>0.282828</td>\n      <td>0.153105</td>\n    </tr>\n    <tr>\n      <th>44</th>\n      <td>0.601261</td>\n      <td>0.000016</td>\n      <td>0.248253</td>\n      <td>0.000024</td>\n      <td>0.027335</td>\n      <td>0.146122</td>\n      <td>0.000010</td>\n      <td>0.189448</td>\n      <td>0.000016</td>\n      <td>0.000015</td>\n      <td>...</td>\n      <td>0.000175</td>\n      <td>0.710394</td>\n      <td>0.003107</td>\n      <td>0.000071</td>\n      <td>0.732451</td>\n      <td>0.076923</td>\n      <td>0.705882</td>\n      <td>0.613065</td>\n      <td>0.828283</td>\n      <td>0.783706</td>\n    </tr>\n    <tr>\n      <th>...</th>\n      <td>...</td>\n      <td>...</td>\n      <td>...</td>\n      <td>...</td>\n      <td>...</td>\n      <td>...</td>\n      <td>...</td>\n      <td>...</td>\n      <td>...</td>\n      <td>...</td>\n      <td>...</td>\n      <td>...</td>\n      <td>...</td>\n      <td>...</td>\n      <td>...</td>\n      <td>...</td>\n      <td>...</td>\n      <td>...</td>\n      <td>...</td>\n      <td>...</td>\n      <td>...</td>\n    </tr>\n    <tr>\n      <th>1837</th>\n      <td>0.757278</td>\n      <td>0.049322</td>\n      <td>0.719179</td>\n      <td>0.025504</td>\n      <td>0.074526</td>\n      <td>0.146755</td>\n      <td>0.004525</td>\n      <td>0.085957</td>\n      <td>0.026896</td>\n      <td>0.026245</td>\n      <td>...</td>\n      <td>0.008482</td>\n      <td>0.044936</td>\n      <td>0.506155</td>\n      <td>0.005051</td>\n      <td>0.109368</td>\n      <td>0.461538</td>\n      <td>0.049020</td>\n      <td>0.045226</td>\n      <td>0.090909</td>\n      <td>0.220322</td>\n    </tr>\n    <tr>\n      <th>1848</th>\n      <td>0.611342</td>\n      <td>0.000358</td>\n      <td>0.184588</td>\n      <td>0.000126</td>\n      <td>0.040663</td>\n      <td>0.024642</td>\n      <td>0.000542</td>\n      <td>0.372478</td>\n      <td>0.000733</td>\n      <td>0.000702</td>\n      <td>...</td>\n      <td>0.000052</td>\n      <td>0.845873</td>\n      <td>0.018505</td>\n      <td>0.000043</td>\n      <td>0.695287</td>\n      <td>0.230769</td>\n      <td>0.656863</td>\n      <td>0.582915</td>\n      <td>0.772727</td>\n      <td>0.706627</td>\n    </tr>\n    <tr>\n      <th>1864</th>\n      <td>0.748658</td>\n      <td>0.023736</td>\n      <td>0.484536</td>\n      <td>0.043026</td>\n      <td>0.044507</td>\n      <td>0.350971</td>\n      <td>0.017960</td>\n      <td>0.479602</td>\n      <td>0.019128</td>\n      <td>0.019368</td>\n      <td>...</td>\n      <td>0.118882</td>\n      <td>0.722105</td>\n      <td>0.000089</td>\n      <td>0.107405</td>\n      <td>0.151520</td>\n      <td>0.692308</td>\n      <td>0.102941</td>\n      <td>0.055276</td>\n      <td>0.126263</td>\n      <td>0.170362</td>\n    </tr>\n    <tr>\n      <th>1884</th>\n      <td>0.703846</td>\n      <td>0.045782</td>\n      <td>0.392827</td>\n      <td>0.024090</td>\n      <td>0.127358</td>\n      <td>0.081239</td>\n      <td>0.054966</td>\n      <td>0.618848</td>\n      <td>0.045382</td>\n      <td>0.044007</td>\n      <td>...</td>\n      <td>0.002218</td>\n      <td>0.632473</td>\n      <td>0.000073</td>\n      <td>0.003007</td>\n      <td>0.411249</td>\n      <td>0.846154</td>\n      <td>0.338235</td>\n      <td>0.311558</td>\n      <td>0.348485</td>\n      <td>0.125741</td>\n    </tr>\n    <tr>\n      <th>1895</th>\n      <td>0.523244</td>\n      <td>0.031111</td>\n      <td>0.514935</td>\n      <td>0.025358</td>\n      <td>0.161953</td>\n      <td>0.166488</td>\n      <td>0.021396</td>\n      <td>0.462919</td>\n      <td>0.023611</td>\n      <td>0.022844</td>\n      <td>...</td>\n      <td>0.001850</td>\n      <td>0.234262</td>\n      <td>0.247108</td>\n      <td>0.001691</td>\n      <td>0.223897</td>\n      <td>0.846154</td>\n      <td>0.166667</td>\n      <td>0.135678</td>\n      <td>0.196970</td>\n      <td>0.125741</td>\n    </tr>\n  </tbody>\n</table>\n<p>177 rows × 174 columns</p>\n</div>"
     },
     "execution_count": 167,
     "metadata": {},
     "output_type": "execute_result"
    }
   ],
   "source": [
    "X_2020"
   ],
   "metadata": {
    "collapsed": false,
    "pycharm": {
     "name": "#%%\n"
    }
   }
  },
  {
   "cell_type": "code",
   "execution_count": 216,
   "outputs": [
    {
     "name": "stderr",
     "output_type": "stream",
     "text": [
      "C:\\Users\\kishi\\anaconda3\\envs\\doing_business\\lib\\site-packages\\sklearn\\cluster\\_kmeans.py:1412: FutureWarning: The default value of `n_init` will change from 10 to 'auto' in 1.4. Set the value of `n_init` explicitly to suppress the warning\n",
      "  super()._check_params_vs_input(X, default_n_init=10)\n",
      "C:\\Users\\kishi\\anaconda3\\envs\\doing_business\\lib\\site-packages\\sklearn\\cluster\\_kmeans.py:1436: UserWarning: KMeans is known to have a memory leak on Windows with MKL, when there are less chunks than available threads. You can avoid it by setting the environment variable OMP_NUM_THREADS=1.\n",
      "  warnings.warn(\n"
     ]
    },
    {
     "data": {
      "text/plain": "KMeans(n_clusters=30)",
      "text/html": "<style>#sk-container-id-71 {color: black;}#sk-container-id-71 pre{padding: 0;}#sk-container-id-71 div.sk-toggleable {background-color: white;}#sk-container-id-71 label.sk-toggleable__label {cursor: pointer;display: block;width: 100%;margin-bottom: 0;padding: 0.3em;box-sizing: border-box;text-align: center;}#sk-container-id-71 label.sk-toggleable__label-arrow:before {content: \"▸\";float: left;margin-right: 0.25em;color: #696969;}#sk-container-id-71 label.sk-toggleable__label-arrow:hover:before {color: black;}#sk-container-id-71 div.sk-estimator:hover label.sk-toggleable__label-arrow:before {color: black;}#sk-container-id-71 div.sk-toggleable__content {max-height: 0;max-width: 0;overflow: hidden;text-align: left;background-color: #f0f8ff;}#sk-container-id-71 div.sk-toggleable__content pre {margin: 0.2em;color: black;border-radius: 0.25em;background-color: #f0f8ff;}#sk-container-id-71 input.sk-toggleable__control:checked~div.sk-toggleable__content {max-height: 200px;max-width: 100%;overflow: auto;}#sk-container-id-71 input.sk-toggleable__control:checked~label.sk-toggleable__label-arrow:before {content: \"▾\";}#sk-container-id-71 div.sk-estimator input.sk-toggleable__control:checked~label.sk-toggleable__label {background-color: #d4ebff;}#sk-container-id-71 div.sk-label input.sk-toggleable__control:checked~label.sk-toggleable__label {background-color: #d4ebff;}#sk-container-id-71 input.sk-hidden--visually {border: 0;clip: rect(1px 1px 1px 1px);clip: rect(1px, 1px, 1px, 1px);height: 1px;margin: -1px;overflow: hidden;padding: 0;position: absolute;width: 1px;}#sk-container-id-71 div.sk-estimator {font-family: monospace;background-color: #f0f8ff;border: 1px dotted black;border-radius: 0.25em;box-sizing: border-box;margin-bottom: 0.5em;}#sk-container-id-71 div.sk-estimator:hover {background-color: #d4ebff;}#sk-container-id-71 div.sk-parallel-item::after {content: \"\";width: 100%;border-bottom: 1px solid gray;flex-grow: 1;}#sk-container-id-71 div.sk-label:hover label.sk-toggleable__label {background-color: #d4ebff;}#sk-container-id-71 div.sk-serial::before {content: \"\";position: absolute;border-left: 1px solid gray;box-sizing: border-box;top: 0;bottom: 0;left: 50%;z-index: 0;}#sk-container-id-71 div.sk-serial {display: flex;flex-direction: column;align-items: center;background-color: white;padding-right: 0.2em;padding-left: 0.2em;position: relative;}#sk-container-id-71 div.sk-item {position: relative;z-index: 1;}#sk-container-id-71 div.sk-parallel {display: flex;align-items: stretch;justify-content: center;background-color: white;position: relative;}#sk-container-id-71 div.sk-item::before, #sk-container-id-71 div.sk-parallel-item::before {content: \"\";position: absolute;border-left: 1px solid gray;box-sizing: border-box;top: 0;bottom: 0;left: 50%;z-index: -1;}#sk-container-id-71 div.sk-parallel-item {display: flex;flex-direction: column;z-index: 1;position: relative;background-color: white;}#sk-container-id-71 div.sk-parallel-item:first-child::after {align-self: flex-end;width: 50%;}#sk-container-id-71 div.sk-parallel-item:last-child::after {align-self: flex-start;width: 50%;}#sk-container-id-71 div.sk-parallel-item:only-child::after {width: 0;}#sk-container-id-71 div.sk-dashed-wrapped {border: 1px dashed gray;margin: 0 0.4em 0.5em 0.4em;box-sizing: border-box;padding-bottom: 0.4em;background-color: white;}#sk-container-id-71 div.sk-label label {font-family: monospace;font-weight: bold;display: inline-block;line-height: 1.2em;}#sk-container-id-71 div.sk-label-container {text-align: center;}#sk-container-id-71 div.sk-container {/* jupyter's `normalize.less` sets `[hidden] { display: none; }` but bootstrap.min.css set `[hidden] { display: none !important; }` so we also need the `!important` here to be able to override the default hidden behavior on the sphinx rendered scikit-learn.org. See: https://github.com/scikit-learn/scikit-learn/issues/21755 */display: inline-block !important;position: relative;}#sk-container-id-71 div.sk-text-repr-fallback {display: none;}</style><div id=\"sk-container-id-71\" class=\"sk-top-container\"><div class=\"sk-text-repr-fallback\"><pre>KMeans(n_clusters=30)</pre><b>In a Jupyter environment, please rerun this cell to show the HTML representation or trust the notebook. <br />On GitHub, the HTML representation is unable to render, please try loading this page with nbviewer.org.</b></div><div class=\"sk-container\" hidden><div class=\"sk-item\"><div class=\"sk-estimator sk-toggleable\"><input class=\"sk-toggleable__control sk-hidden--visually\" id=\"sk-estimator-id-71\" type=\"checkbox\" checked><label for=\"sk-estimator-id-71\" class=\"sk-toggleable__label sk-toggleable__label-arrow\">KMeans</label><div class=\"sk-toggleable__content\"><pre>KMeans(n_clusters=30)</pre></div></div></div></div></div>"
     },
     "execution_count": 216,
     "metadata": {},
     "output_type": "execute_result"
    }
   ],
   "source": [
    "from sklearn.cluster import KMeans\n",
    "\n",
    "estimator = KMeans(n_clusters=30)\n",
    "estimator.fit(X_2020)"
   ],
   "metadata": {
    "collapsed": false,
    "pycharm": {
     "name": "#%%\n"
    }
   }
  },
  {
   "cell_type": "code",
   "execution_count": 217,
   "outputs": [
    {
     "name": "stdout",
     "output_type": "stream",
     "text": [
      "[ 5  6 11 13  8 10  6 21 21 10  8 12 24  7  6  1 26 13 28  4  6 20 10  2\n",
      " 17 18  5  8 24 13 21 25 25  7  9 10  3 23  7 13 17  7 17  1  3  8 10 10\n",
      " 11 10 23 17 20 18  8 21  1 23 18  7  1 20 17  8  4 13  5 26  3  4 17 21\n",
      " 14 10 16 11 21  2 17  2  1 10 10 18 22 21 27  4 24 17 10 20 13 11 17 21\n",
      " 13 18  2 26 13 21 29  5  7 10 22  6 10  6 10 13 24 20  4  1 21  4 13 13\n",
      "  6 21 12  3 19 10 23  4 10 10 17 17 12  6 18 22  0 10 18  6  8 13 21 17\n",
      " 17 22 25 20 17 10  8  8  8  5 26 21 21  3 24 18  6 18 22  7 10 10 18  6\n",
      " 12  1 15  7 11 22 10 18  5]\n"
     ]
    }
   ],
   "source": [
    "print(estimator.predict(X_2020))"
   ],
   "metadata": {
    "collapsed": false,
    "pycharm": {
     "name": "#%%\n"
    }
   }
  },
  {
   "cell_type": "code",
   "execution_count": 218,
   "outputs": [],
   "source": [
    "Xc_2020 = fresh_data[fresh_data['DB year'] == 2020]"
   ],
   "metadata": {
    "collapsed": false,
    "pycharm": {
     "name": "#%%\n"
    }
   }
  },
  {
   "cell_type": "code",
   "execution_count": 219,
   "outputs": [
    {
     "name": "stderr",
     "output_type": "stream",
     "text": [
      "C:\\Users\\kishi\\AppData\\Local\\Temp\\ipykernel_5864\\819810131.py:1: SettingWithCopyWarning: \n",
      "A value is trying to be set on a copy of a slice from a DataFrame.\n",
      "Try using .loc[row_indexer,col_indexer] = value instead\n",
      "\n",
      "See the caveats in the documentation: https://pandas.pydata.org/pandas-docs/stable/user_guide/indexing.html#returning-a-view-versus-a-copy\n",
      "  Xc_2020['class'] = estimator.predict(X_2020)\n"
     ]
    }
   ],
   "source": [
    "Xc_2020['class'] = estimator.predict(X_2020)"
   ],
   "metadata": {
    "collapsed": false,
    "pycharm": {
     "name": "#%%\n"
    }
   }
  },
  {
   "cell_type": "code",
   "execution_count": 220,
   "outputs": [
    {
     "data": {
      "text/plain": "     Country code              Economy  DB year   DB score  \\\n0             AFG          Afghanistan     2020  44.493061   \n11            ALB              Albania     2020  67.368898   \n22            DZA              Algeria     2020  48.302936   \n33            AGO               Angola     2020  40.605138   \n44            ATG  Antigua and Barbuda     2020  59.928594   \n...           ...                  ...      ...        ...   \n1837          UZB           Uzbekistan     2020  70.286531   \n1848          VUT              Vanuatu     2020  60.597900   \n1864          VNM              Vietnam     2020  69.714282   \n1884          ZMB               Zambia     2020  66.739173   \n1895          ZWE             Zimbabwe     2020  54.749055   \n\n      Agricultural land (sq. km)  Agricultural land (% of land area)  \\\n0                      383130.00                           58.741548   \n11                      11655.55                           42.538504   \n22                     413160.71                           17.347004   \n33                     458920.00                           36.810780   \n44                         90.00                           20.454545   \n...                          ...                                 ...   \n1837                   256825.00                           58.283218   \n1848                     1870.00                           15.340443   \n1864                   123600.00                           39.434768   \n1884                   238390.00                           32.067959   \n1895                   162000.00                           41.876696   \n\n      Arable land (hectares)  Arable land (hectares per person)  \\\n0                  7829000.0                           0.200887   \n11                  599600.0                           0.211287   \n22                 7530600.0                           0.173310   \n33                 5368000.0                           0.160582   \n44                    4000.0                           0.043167   \n...                      ...                                ...   \n1837               4023000.0                           0.117521   \n1848                 20000.0                           0.064167   \n1864               6787000.0                           0.070223   \n1884               3800000.0                           0.200764   \n1895               4000000.0                           0.255270   \n\n      Arable land (% of land area)  Forest area (sq. km)  ...  \\\n0                        12.003434               12084.4  ...   \n11                       21.883212                7889.0  ...   \n22                        3.161805               19490.0  ...   \n33                        4.305767              666073.8  ...   \n44                        9.090909                  81.2  ...   \n...                            ...                   ...  ...   \n1837                      9.129695               36896.6  ...   \n1848                      1.640689                4423.0  ...   \n1864                     21.654027              146430.9  ...   \n1884                      5.111718              448140.3  ...   \n1895                     10.339925              174445.8  ...   \n\n      Merchandise exports to high-income economies (% of total merchandise exports)  \\\n0                                              6.707951                               \n11                                            76.482001                               \n22                                            74.379095                               \n33                                            22.706225                               \n44                                            66.783277                               \n...                                                 ...                               \n1837                                           5.017083                               \n1848                                          79.358061                               \n1864                                          67.870197                               \n1884                                          59.550775                               \n1895                                          22.589888                               \n\n      Merchandise exports by the reporting economy, residual (% of total merchandise exports)  \\\n0                                              0.000000                                         \n11                                             0.000367                                         \n22                                             3.714208                                         \n33                                             0.415888                                         \n44                                             0.276875                                         \n...                                                 ...                                         \n1837                                          45.104190                                         \n1848                                           1.649005                                         \n1864                                           0.007902                                         \n1884                                           0.006548                                         \n1895                                          22.020138                                         \n\n      Merchandise exports by the reporting economy (current US$)  \\\n0                                          7.767222e+08            \n11                                         2.716278e+09            \n22                                         2.910600e+10            \n33                                         1.449064e+10            \n44                                         1.863167e+08            \n...                                                 ...            \n1837                                       1.312661e+10            \n1848                                       1.149262e+08            \n1864                                       2.790440e+11            \n1884                                       7.816242e+09            \n1895                                       4.395102e+09            \n\n      Voice and Accountability: Estimate  \\\n0                              -1.077736   \n11                              0.088362   \n22                             -1.088018   \n33                             -0.802131   \n44                              0.745885   \n...                                  ...   \n1837                           -1.532507   \n1848                            0.609990   \n1864                           -1.378373   \n1884                           -0.428637   \n1895                           -1.113716   \n\n      Voice and Accountability: Number of Sources  \\\n0                                             9.0   \n11                                           10.0   \n22                                            9.0   \n33                                           11.0   \n44                                            2.0   \n...                                           ...   \n1837                                          7.0   \n1848                                          4.0   \n1864                                         10.0   \n1884                                         12.0   \n1895                                         12.0   \n\n      Voice and Accountability: Percentile Rank  \\\n0                                     19.806763   \n11                                    51.207729   \n22                                    19.323671   \n33                                    26.086956   \n44                                    71.014496   \n...                                         ...   \n1837                                   6.280193   \n1848                                  66.183578   \n1864                                  11.594203   \n1884                                  34.782608   \n1895                                  17.874395   \n\n      Voice and Accountability: Percentile Rank, Lower Bound of 90% Confidence Interval  \\\n0                                             13.526570                                   \n11                                            40.579712                                   \n22                                            13.526570                                   \n33                                            21.256039                                   \n44                                            58.937199                                   \n...                                                 ...                                   \n1837                                           4.347826                                   \n1848                                          56.038647                                   \n1864                                           5.314010                                   \n1884                                          29.951691                                   \n1895                                          13.043478                                   \n\n      Voice and Accountability: Percentile Rank, Upper Bound of 90% Confidence Interval  \\\n0                                             23.671497                                   \n11                                            56.521740                                   \n22                                            23.188406                                   \n33                                            31.400967                                   \n44                                            83.574883                                   \n...                                                 ...                                   \n1837                                          13.043478                                   \n1848                                          78.260872                                   \n1864                                          16.425121                                   \n1884                                          37.681160                                   \n1895                                          23.188406                                   \n\n      Voice and Accountability: Standard Error  class  \n0                                     0.131839      5  \n11                                    0.125341      6  \n22                                    0.126841     11  \n33                                    0.124390     13  \n44                                    0.210643      8  \n...                                        ...    ...  \n1837                                  0.133584     11  \n1848                                  0.200100     22  \n1864                                  0.126751     10  \n1884                                  0.120647     18  \n1895                                  0.120647      5  \n\n[177 rows x 178 columns]",
      "text/html": "<div>\n<style scoped>\n    .dataframe tbody tr th:only-of-type {\n        vertical-align: middle;\n    }\n\n    .dataframe tbody tr th {\n        vertical-align: top;\n    }\n\n    .dataframe thead th {\n        text-align: right;\n    }\n</style>\n<table border=\"1\" class=\"dataframe\">\n  <thead>\n    <tr style=\"text-align: right;\">\n      <th></th>\n      <th>Country code</th>\n      <th>Economy</th>\n      <th>DB year</th>\n      <th>DB score</th>\n      <th>Agricultural land (sq. km)</th>\n      <th>Agricultural land (% of land area)</th>\n      <th>Arable land (hectares)</th>\n      <th>Arable land (hectares per person)</th>\n      <th>Arable land (% of land area)</th>\n      <th>Forest area (sq. km)</th>\n      <th>...</th>\n      <th>Merchandise exports to high-income economies (% of total merchandise exports)</th>\n      <th>Merchandise exports by the reporting economy, residual (% of total merchandise exports)</th>\n      <th>Merchandise exports by the reporting economy (current US$)</th>\n      <th>Voice and Accountability: Estimate</th>\n      <th>Voice and Accountability: Number of Sources</th>\n      <th>Voice and Accountability: Percentile Rank</th>\n      <th>Voice and Accountability: Percentile Rank, Lower Bound of 90% Confidence Interval</th>\n      <th>Voice and Accountability: Percentile Rank, Upper Bound of 90% Confidence Interval</th>\n      <th>Voice and Accountability: Standard Error</th>\n      <th>class</th>\n    </tr>\n  </thead>\n  <tbody>\n    <tr>\n      <th>0</th>\n      <td>AFG</td>\n      <td>Afghanistan</td>\n      <td>2020</td>\n      <td>44.493061</td>\n      <td>383130.00</td>\n      <td>58.741548</td>\n      <td>7829000.0</td>\n      <td>0.200887</td>\n      <td>12.003434</td>\n      <td>12084.4</td>\n      <td>...</td>\n      <td>6.707951</td>\n      <td>0.000000</td>\n      <td>7.767222e+08</td>\n      <td>-1.077736</td>\n      <td>9.0</td>\n      <td>19.806763</td>\n      <td>13.526570</td>\n      <td>23.671497</td>\n      <td>0.131839</td>\n      <td>5</td>\n    </tr>\n    <tr>\n      <th>11</th>\n      <td>ALB</td>\n      <td>Albania</td>\n      <td>2020</td>\n      <td>67.368898</td>\n      <td>11655.55</td>\n      <td>42.538504</td>\n      <td>599600.0</td>\n      <td>0.211287</td>\n      <td>21.883212</td>\n      <td>7889.0</td>\n      <td>...</td>\n      <td>76.482001</td>\n      <td>0.000367</td>\n      <td>2.716278e+09</td>\n      <td>0.088362</td>\n      <td>10.0</td>\n      <td>51.207729</td>\n      <td>40.579712</td>\n      <td>56.521740</td>\n      <td>0.125341</td>\n      <td>6</td>\n    </tr>\n    <tr>\n      <th>22</th>\n      <td>DZA</td>\n      <td>Algeria</td>\n      <td>2020</td>\n      <td>48.302936</td>\n      <td>413160.71</td>\n      <td>17.347004</td>\n      <td>7530600.0</td>\n      <td>0.173310</td>\n      <td>3.161805</td>\n      <td>19490.0</td>\n      <td>...</td>\n      <td>74.379095</td>\n      <td>3.714208</td>\n      <td>2.910600e+10</td>\n      <td>-1.088018</td>\n      <td>9.0</td>\n      <td>19.323671</td>\n      <td>13.526570</td>\n      <td>23.188406</td>\n      <td>0.126841</td>\n      <td>11</td>\n    </tr>\n    <tr>\n      <th>33</th>\n      <td>AGO</td>\n      <td>Angola</td>\n      <td>2020</td>\n      <td>40.605138</td>\n      <td>458920.00</td>\n      <td>36.810780</td>\n      <td>5368000.0</td>\n      <td>0.160582</td>\n      <td>4.305767</td>\n      <td>666073.8</td>\n      <td>...</td>\n      <td>22.706225</td>\n      <td>0.415888</td>\n      <td>1.449064e+10</td>\n      <td>-0.802131</td>\n      <td>11.0</td>\n      <td>26.086956</td>\n      <td>21.256039</td>\n      <td>31.400967</td>\n      <td>0.124390</td>\n      <td>13</td>\n    </tr>\n    <tr>\n      <th>44</th>\n      <td>ATG</td>\n      <td>Antigua and Barbuda</td>\n      <td>2020</td>\n      <td>59.928594</td>\n      <td>90.00</td>\n      <td>20.454545</td>\n      <td>4000.0</td>\n      <td>0.043167</td>\n      <td>9.090909</td>\n      <td>81.2</td>\n      <td>...</td>\n      <td>66.783277</td>\n      <td>0.276875</td>\n      <td>1.863167e+08</td>\n      <td>0.745885</td>\n      <td>2.0</td>\n      <td>71.014496</td>\n      <td>58.937199</td>\n      <td>83.574883</td>\n      <td>0.210643</td>\n      <td>8</td>\n    </tr>\n    <tr>\n      <th>...</th>\n      <td>...</td>\n      <td>...</td>\n      <td>...</td>\n      <td>...</td>\n      <td>...</td>\n      <td>...</td>\n      <td>...</td>\n      <td>...</td>\n      <td>...</td>\n      <td>...</td>\n      <td>...</td>\n      <td>...</td>\n      <td>...</td>\n      <td>...</td>\n      <td>...</td>\n      <td>...</td>\n      <td>...</td>\n      <td>...</td>\n      <td>...</td>\n      <td>...</td>\n      <td>...</td>\n    </tr>\n    <tr>\n      <th>1837</th>\n      <td>UZB</td>\n      <td>Uzbekistan</td>\n      <td>2020</td>\n      <td>70.286531</td>\n      <td>256825.00</td>\n      <td>58.283218</td>\n      <td>4023000.0</td>\n      <td>0.117521</td>\n      <td>9.129695</td>\n      <td>36896.6</td>\n      <td>...</td>\n      <td>5.017083</td>\n      <td>45.104190</td>\n      <td>1.312661e+10</td>\n      <td>-1.532507</td>\n      <td>7.0</td>\n      <td>6.280193</td>\n      <td>4.347826</td>\n      <td>13.043478</td>\n      <td>0.133584</td>\n      <td>11</td>\n    </tr>\n    <tr>\n      <th>1848</th>\n      <td>VUT</td>\n      <td>Vanuatu</td>\n      <td>2020</td>\n      <td>60.597900</td>\n      <td>1870.00</td>\n      <td>15.340443</td>\n      <td>20000.0</td>\n      <td>0.064167</td>\n      <td>1.640689</td>\n      <td>4423.0</td>\n      <td>...</td>\n      <td>79.358061</td>\n      <td>1.649005</td>\n      <td>1.149262e+08</td>\n      <td>0.609990</td>\n      <td>4.0</td>\n      <td>66.183578</td>\n      <td>56.038647</td>\n      <td>78.260872</td>\n      <td>0.200100</td>\n      <td>22</td>\n    </tr>\n    <tr>\n      <th>1864</th>\n      <td>VNM</td>\n      <td>Vietnam</td>\n      <td>2020</td>\n      <td>69.714282</td>\n      <td>123600.00</td>\n      <td>39.434768</td>\n      <td>6787000.0</td>\n      <td>0.070223</td>\n      <td>21.654027</td>\n      <td>146430.9</td>\n      <td>...</td>\n      <td>67.870197</td>\n      <td>0.007902</td>\n      <td>2.790440e+11</td>\n      <td>-1.378373</td>\n      <td>10.0</td>\n      <td>11.594203</td>\n      <td>5.314010</td>\n      <td>16.425121</td>\n      <td>0.126751</td>\n      <td>10</td>\n    </tr>\n    <tr>\n      <th>1884</th>\n      <td>ZMB</td>\n      <td>Zambia</td>\n      <td>2020</td>\n      <td>66.739173</td>\n      <td>238390.00</td>\n      <td>32.067959</td>\n      <td>3800000.0</td>\n      <td>0.200764</td>\n      <td>5.111718</td>\n      <td>448140.3</td>\n      <td>...</td>\n      <td>59.550775</td>\n      <td>0.006548</td>\n      <td>7.816242e+09</td>\n      <td>-0.428637</td>\n      <td>12.0</td>\n      <td>34.782608</td>\n      <td>29.951691</td>\n      <td>37.681160</td>\n      <td>0.120647</td>\n      <td>18</td>\n    </tr>\n    <tr>\n      <th>1895</th>\n      <td>ZWE</td>\n      <td>Zimbabwe</td>\n      <td>2020</td>\n      <td>54.749055</td>\n      <td>162000.00</td>\n      <td>41.876696</td>\n      <td>4000000.0</td>\n      <td>0.255270</td>\n      <td>10.339925</td>\n      <td>174445.8</td>\n      <td>...</td>\n      <td>22.589888</td>\n      <td>22.020138</td>\n      <td>4.395102e+09</td>\n      <td>-1.113716</td>\n      <td>12.0</td>\n      <td>17.874395</td>\n      <td>13.043478</td>\n      <td>23.188406</td>\n      <td>0.120647</td>\n      <td>5</td>\n    </tr>\n  </tbody>\n</table>\n<p>177 rows × 178 columns</p>\n</div>"
     },
     "execution_count": 220,
     "metadata": {},
     "output_type": "execute_result"
    }
   ],
   "source": [
    "Xc_2020"
   ],
   "metadata": {
    "collapsed": false,
    "pycharm": {
     "name": "#%%\n"
    }
   }
  },
  {
   "cell_type": "code",
   "execution_count": 221,
   "outputs": [],
   "source": [
    "res = Xc_2020[['Economy', 'class']]"
   ],
   "metadata": {
    "collapsed": false,
    "pycharm": {
     "name": "#%%\n"
    }
   }
  },
  {
   "cell_type": "code",
   "execution_count": 222,
   "outputs": [
    {
     "data": {
      "text/plain": "                  Economy  class\n0             Afghanistan      5\n11                Albania      6\n22                Algeria     11\n33                 Angola     13\n44    Antigua and Barbuda      8\n...                   ...    ...\n1837           Uzbekistan     11\n1848              Vanuatu     22\n1864              Vietnam     10\n1884               Zambia     18\n1895             Zimbabwe      5\n\n[177 rows x 2 columns]",
      "text/html": "<div>\n<style scoped>\n    .dataframe tbody tr th:only-of-type {\n        vertical-align: middle;\n    }\n\n    .dataframe tbody tr th {\n        vertical-align: top;\n    }\n\n    .dataframe thead th {\n        text-align: right;\n    }\n</style>\n<table border=\"1\" class=\"dataframe\">\n  <thead>\n    <tr style=\"text-align: right;\">\n      <th></th>\n      <th>Economy</th>\n      <th>class</th>\n    </tr>\n  </thead>\n  <tbody>\n    <tr>\n      <th>0</th>\n      <td>Afghanistan</td>\n      <td>5</td>\n    </tr>\n    <tr>\n      <th>11</th>\n      <td>Albania</td>\n      <td>6</td>\n    </tr>\n    <tr>\n      <th>22</th>\n      <td>Algeria</td>\n      <td>11</td>\n    </tr>\n    <tr>\n      <th>33</th>\n      <td>Angola</td>\n      <td>13</td>\n    </tr>\n    <tr>\n      <th>44</th>\n      <td>Antigua and Barbuda</td>\n      <td>8</td>\n    </tr>\n    <tr>\n      <th>...</th>\n      <td>...</td>\n      <td>...</td>\n    </tr>\n    <tr>\n      <th>1837</th>\n      <td>Uzbekistan</td>\n      <td>11</td>\n    </tr>\n    <tr>\n      <th>1848</th>\n      <td>Vanuatu</td>\n      <td>22</td>\n    </tr>\n    <tr>\n      <th>1864</th>\n      <td>Vietnam</td>\n      <td>10</td>\n    </tr>\n    <tr>\n      <th>1884</th>\n      <td>Zambia</td>\n      <td>18</td>\n    </tr>\n    <tr>\n      <th>1895</th>\n      <td>Zimbabwe</td>\n      <td>5</td>\n    </tr>\n  </tbody>\n</table>\n<p>177 rows × 2 columns</p>\n</div>"
     },
     "execution_count": 222,
     "metadata": {},
     "output_type": "execute_result"
    }
   ],
   "source": [
    "res"
   ],
   "metadata": {
    "collapsed": false,
    "pycharm": {
     "name": "#%%\n"
    }
   }
  },
  {
   "cell_type": "code",
   "execution_count": 223,
   "outputs": [
    {
     "data": {
      "text/plain": "                    Economy  class\n1448  São Tomé and Príncipe      0\n860                   Japan      1\n1808         United Kingdom      1\n604                  France      1\n648                 Germany      1\n...                     ...    ...\n170                  Belize     26\n725                  Guyana     26\n922                  Kuwait     27\n192                  Bhutan     28\n1093       Marshall Islands     29\n\n[177 rows x 2 columns]",
      "text/html": "<div>\n<style scoped>\n    .dataframe tbody tr th:only-of-type {\n        vertical-align: middle;\n    }\n\n    .dataframe tbody tr th {\n        vertical-align: top;\n    }\n\n    .dataframe thead th {\n        text-align: right;\n    }\n</style>\n<table border=\"1\" class=\"dataframe\">\n  <thead>\n    <tr style=\"text-align: right;\">\n      <th></th>\n      <th>Economy</th>\n      <th>class</th>\n    </tr>\n  </thead>\n  <tbody>\n    <tr>\n      <th>1448</th>\n      <td>São Tomé and Príncipe</td>\n      <td>0</td>\n    </tr>\n    <tr>\n      <th>860</th>\n      <td>Japan</td>\n      <td>1</td>\n    </tr>\n    <tr>\n      <th>1808</th>\n      <td>United Kingdom</td>\n      <td>1</td>\n    </tr>\n    <tr>\n      <th>604</th>\n      <td>France</td>\n      <td>1</td>\n    </tr>\n    <tr>\n      <th>648</th>\n      <td>Germany</td>\n      <td>1</td>\n    </tr>\n    <tr>\n      <th>...</th>\n      <td>...</td>\n      <td>...</td>\n    </tr>\n    <tr>\n      <th>170</th>\n      <td>Belize</td>\n      <td>26</td>\n    </tr>\n    <tr>\n      <th>725</th>\n      <td>Guyana</td>\n      <td>26</td>\n    </tr>\n    <tr>\n      <th>922</th>\n      <td>Kuwait</td>\n      <td>27</td>\n    </tr>\n    <tr>\n      <th>192</th>\n      <td>Bhutan</td>\n      <td>28</td>\n    </tr>\n    <tr>\n      <th>1093</th>\n      <td>Marshall Islands</td>\n      <td>29</td>\n    </tr>\n  </tbody>\n</table>\n<p>177 rows × 2 columns</p>\n</div>"
     },
     "execution_count": 223,
     "metadata": {},
     "output_type": "execute_result"
    }
   ],
   "source": [
    "res.sort_values(by='class')"
   ],
   "metadata": {
    "collapsed": false,
    "pycharm": {
     "name": "#%%\n"
    }
   }
  },
  {
   "cell_type": "code",
   "execution_count": null,
   "outputs": [],
   "source": [],
   "metadata": {
    "collapsed": false,
    "pycharm": {
     "name": "#%%\n"
    }
   }
  }
 ],
 "metadata": {
  "kernelspec": {
   "display_name": "Python 3",
   "language": "python",
   "name": "python3"
  },
  "language_info": {
   "codemirror_mode": {
    "name": "ipython",
    "version": 2
   },
   "file_extension": ".py",
   "mimetype": "text/x-python",
   "name": "python",
   "nbconvert_exporter": "python",
   "pygments_lexer": "ipython2",
   "version": "2.7.6"
  }
 },
 "nbformat": 4,
 "nbformat_minor": 0
}